{
  "nbformat": 4,
  "nbformat_minor": 0,
  "metadata": {
    "colab": {
      "name": "03_hw.ipynb",
      "provenance": [],
      "collapsed_sections": []
    },
    "kernelspec": {
      "name": "python3",
      "display_name": "Python 3"
    },
    "language_info": {
      "name": "python"
    }
  },
  "cells": [
    {
      "cell_type": "markdown",
      "metadata": {
        "id": "ejyx4g3apb7o"
      },
      "source": [
        "# Практическая работа к уроку №3"
      ]
    },
    {
      "cell_type": "code",
      "metadata": {
        "id": "ogmytuxLpJFg"
      },
      "source": [
        "import numpy as np\n",
        "import pandas as pd\n",
        "import matplotlib.pyplot as plt"
      ],
      "execution_count": 16,
      "outputs": []
    },
    {
      "cell_type": "code",
      "metadata": {
        "id": "AVc8I0LaplKH"
      },
      "source": [
        "X = np.array([[1, 1, 1, 1, 1, 1, 1, 1, 1, 1],\n",
        "              [1, 1, 2, 1, 3, 0, 5, 10, 1, 2],\n",
        "              [500, 700, 750, 600, 1450,\n",
        "               800, 1500, 2000, 450, 1000],\n",
        "              [1, 1, 2, 1, 2, 1, 3, 3, 1, 2]], dtype = np.float64)\n",
        "\n",
        "y = np.array([0, 0, 1, 0, 1, 0, 1, 0, 1, 1], dtype = np.float64)\n",
        "\n",
        "def calc_std_feat(x):\n",
        "    res = (x - x.mean()) / x.std()\n",
        "    return res\n",
        "\n",
        "def sigmoid(z):\n",
        "    res = 1 / (1 + np.exp(-z))\n",
        "    return res\n",
        "\n",
        "X_st = X.T.copy()\n",
        "X_st[:, 1] = calc_std_feat(X_st[:, 1])\n",
        "X_st[:, 2] = calc_std_feat(X_st[:, 2])\n",
        "X_st[:, 3] = calc_std_feat(X_st[:, 3])"
      ],
      "execution_count": 17,
      "outputs": []
    },
    {
      "cell_type": "markdown",
      "metadata": {
        "id": "gVbLHrAHp-Bs"
      },
      "source": [
        "1*. Измените функцию calc_logloss так, чтобы нули по возможности не попадали в np.log."
      ]
    },
    {
      "cell_type": "code",
      "metadata": {
        "id": "PnEYQz4mp_dJ"
      },
      "source": [
        "def calc_logloss(y, y_pred, eps=1e-8):\n",
        "    err = - np.mean(y * np.log(y_pred + eps) + (1.0 - y) * np.log(1.0 - y_pred + eps))\n",
        "    return err"
      ],
      "execution_count": 18,
      "outputs": []
    },
    {
      "cell_type": "markdown",
      "metadata": {
        "id": "bpySZNOrqADI"
      },
      "source": [
        "2. Подберите аргументы функции eval_model для логистической регрессии таким образом, чтобы log loss был минимальным."
      ]
    },
    {
      "cell_type": "code",
      "metadata": {
        "id": "pGdq1RY6q6UL"
      },
      "source": [
        "def eval_model(X, y, iterations, alpha=1e-1):\n",
        "    np.random.seed(42)\n",
        "    W = np.random.randn(X.shape[1])\n",
        "    n = X.shape[0]\n",
        "    for i in range(1, iterations+1):\n",
        "        z = np.dot(X, W)\n",
        "        y_pred = sigmoid(z)\n",
        "        err = calc_logloss(y, y_pred)\n",
        "        W -= alpha * (1 / n * np.dot((y_pred - y).T, X))\n",
        "        if i % 5000 == 0:\n",
        "            print(i, W, err)\n",
        "    return W"
      ],
      "execution_count": 19,
      "outputs": []
    },
    {
      "cell_type": "code",
      "metadata": {
        "colab": {
          "base_uri": "https://localhost:8080/"
        },
        "id": "aT2vW0LqsdHx",
        "outputId": "c680179e-ed29-4117-ee68-535a1e8e084f"
      },
      "source": [
        "W = eval_model(X_st, y, iterations=50000)"
      ],
      "execution_count": 20,
      "outputs": [
        {
          "output_type": "stream",
          "text": [
            "5000 [ 1.53535465 -4.5908596  -3.5151729   9.41836954] 0.22241203642356439\n",
            "10000 [ 2.48428253 -6.06769399 -5.34752279 13.29132815] 0.17913712050019812\n",
            "15000 [ 3.17728368 -7.19574836 -6.70750681 16.21354578] 0.15473106260179312\n",
            "20000 [ 3.72202873 -8.106698   -7.79591191 18.56784588] 0.13897337883019217\n",
            "25000 [ 4.17132283 -8.87071374 -8.70905565 20.54705365] 0.12787657151420617\n",
            "30000 [ 4.55467337 -9.52943786 -9.50100795 22.26234911] 0.11956367991544845\n",
            "35000 [  4.89003336 -10.10931007 -10.20483817  23.78299785] 0.11304375327266888\n",
            "40000 [  5.18905278 -10.62804616 -10.84208468  25.15475706] 0.10774689728535938\n",
            "45000 [  5.45968273 -11.09804819 -11.42747681  26.40928677] 0.10332284168408164\n",
            "50000 [  5.70757363 -11.5283176  -11.97148528  27.569326  ] 0.09954459557420335\n"
          ],
          "name": "stdout"
        }
      ]
    },
    {
      "cell_type": "markdown",
      "metadata": {
        "id": "Yo2LyEqAwSBf"
      },
      "source": [
        "3. Создайте функцию calc_pred_proba, возвращающую предсказанную вероятность класса 1 (на вход подаются W, который уже посчитан функцией eval_model и X, на выходе - массив y_pred_proba)."
      ]
    },
    {
      "cell_type": "code",
      "metadata": {
        "colab": {
          "base_uri": "https://localhost:8080/"
        },
        "id": "egAux5bFshDP",
        "outputId": "88905d6f-aaca-45aa-9232-8fbff26710fa"
      },
      "source": [
        "def calc_pred_proba(W, X):\n",
        "    z = np.dot(X, W)\n",
        "    y_pred_proba = sigmoid(z)\n",
        "    return y_pred_proba\n",
        "\n",
        "y_proba = calc_pred_proba(W, X_st)\n",
        "y_proba"
      ],
      "execution_count": 21,
      "outputs": [
        {
          "output_type": "execute_result",
          "data": {
            "text/plain": [
              "array([0.33472167, 0.00359485, 1.        , 0.04086419, 0.9489814 ,\n",
              "       0.01841023, 1.        , 0.01510532, 0.63356234, 0.99999999])"
            ]
          },
          "metadata": {},
          "execution_count": 21
        }
      ]
    },
    {
      "cell_type": "markdown",
      "metadata": {
        "id": "3XAypaQ2w-q9"
      },
      "source": [
        "4. Создайте функцию calc_pred, возвращающую предсказанный класс (на вход подаются W, который уже посчитан функцией eval_model и X, на выходе - массив y_pred)."
      ]
    },
    {
      "cell_type": "code",
      "metadata": {
        "colab": {
          "base_uri": "https://localhost:8080/"
        },
        "id": "3xt3xLfgwn-O",
        "outputId": "17b30eb4-3da8-41d6-ec2a-57b5416e123b"
      },
      "source": [
        "def calc_pred(W, X, treshhold=0.5):\n",
        "    z = np.dot(X, W)\n",
        "    y_pred_proba = sigmoid(z)\n",
        "    y_pred = list(map(lambda x: 1 if x > treshhold else 0, y_pred_proba))\n",
        "    return y_pred\n",
        "\n",
        "y_pred = calc_pred(W, X_st)\n",
        "y_pred"
      ],
      "execution_count": 22,
      "outputs": [
        {
          "output_type": "execute_result",
          "data": {
            "text/plain": [
              "[0, 0, 1, 0, 1, 0, 1, 0, 1, 1]"
            ]
          },
          "metadata": {},
          "execution_count": 22
        }
      ]
    },
    {
      "cell_type": "markdown",
      "metadata": {
        "id": "HPmufQcDyDrA"
      },
      "source": [
        "5. Посчитайте Accuracy, матрицу ошибок, точность и полноту, а также F1 score."
      ]
    },
    {
      "cell_type": "code",
      "metadata": {
        "id": "paiCSW4Nx-he"
      },
      "source": [
        "def metrics(y, y_pred, print_res=True, beta=1):\n",
        "    assert len(y) == len(y_pred), \"dim y not equal y_pred\"\n",
        "    \n",
        "    TP, TN, FP, FN = 0, 0, 0, 0\n",
        "    for i in range(len(y)):\n",
        "        if y[i] == y_pred[i]:\n",
        "            if y[i] == 1:\n",
        "                TP += 1\n",
        "            else:\n",
        "                TN += 1\n",
        "        else:\n",
        "            if y[i] == 1:\n",
        "                FN += 1\n",
        "            else:\n",
        "                FP += 1\n",
        "    \n",
        "    conf_matrix = pd.DataFrame(data=[[TP, FP], [FN, TN]],\n",
        "                               columns=[\"y=1\", \"y=0\"],\n",
        "                               index=[\"y_pred=1\", \"y_pred=0\"])\n",
        "    accuracy = np.mean(y == y_pred)\n",
        "    precision = TP / (TP + FP)\n",
        "    recall = TP / (TP + FN)\n",
        "    f_score = (1 + beta**2) / beta**2 * precision * recall / (precision + recall)\n",
        "\n",
        "    if print_res:\n",
        "        print(f\"accuracy: {accuracy}\\n\"\\\n",
        "        f\"precision: {precision}\\n\"\\\n",
        "        f\"recall: {recall}\\n\"\\\n",
        "        f\"f_score: {f_score}\\n\"\\\n",
        "        f\"confusion matrix\\n{conf_matrix}\")\n",
        "\n",
        "    return accuracy, precision, recall, f_score, conf_matrix"
      ],
      "execution_count": 23,
      "outputs": []
    },
    {
      "cell_type": "code",
      "metadata": {
        "colab": {
          "base_uri": "https://localhost:8080/"
        },
        "id": "dexjw4RCFf-y",
        "outputId": "bec53da0-0cd4-46b3-d42b-9cf198f0fca8"
      },
      "source": [
        "accuracy, precision, recall, f_score, conf_matrix = metrics(y, y_pred)"
      ],
      "execution_count": 24,
      "outputs": [
        {
          "output_type": "stream",
          "text": [
            "accuracy: 1.0\n",
            "precision: 1.0\n",
            "recall: 1.0\n",
            "f_score: 1.0\n",
            "confusion matrix\n",
            "          y=1  y=0\n",
            "y_pred=1    5    0\n",
            "y_pred=0    0    5\n"
          ],
          "name": "stdout"
        }
      ]
    },
    {
      "cell_type": "markdown",
      "metadata": {
        "id": "MF3meo09Hyl5"
      },
      "source": [
        "6. Могла ли модель переобучиться? Почему?"
      ]
    },
    {
      "cell_type": "markdown",
      "metadata": {
        "id": "8nIJ1QXQHzhO"
      },
      "source": [
        "Дать точного ответа на этот вопрос нельзя, так как у нас нет валидационной выборки, чтобы сравнить качество валидационной выборки с тестовой.\n",
        "\n",
        "Но здесь все же модель явно переобучилась, так как мы получили 100% качество классификации."
      ]
    },
    {
      "cell_type": "markdown",
      "metadata": {
        "id": "vEASPvS2JvXz"
      },
      "source": [
        "7*. Создайте функции eval_model_l1 и eval_model_l2 с применением L1 и L2 регуляризаций соответственно."
      ]
    },
    {
      "cell_type": "code",
      "metadata": {
        "id": "SZleav3BHzHb"
      },
      "source": [
        "def eval_model_l1(X, y, iterations, l1_lambda, alpha=1e-3):\n",
        "    np.random.seed(42)\n",
        "    W = np.random.randn(X.shape[1])\n",
        "    n = X.shape[0]\n",
        "    for i in range(1, iterations+1):\n",
        "        z = np.dot(X, W)\n",
        "        y_pred = sigmoid(z)\n",
        "        err = calc_logloss(y, y_pred) + np.sum(np.abs(W))\n",
        "        W -= alpha * (1 / n * np.dot((y_pred - y).T, X)) \\\n",
        "            + l1_lambda * np.sign(W)\n",
        "        if i % 5000 == 0:\n",
        "            print(i, W, err)\n",
        "    return W"
      ],
      "execution_count": 31,
      "outputs": []
    },
    {
      "cell_type": "code",
      "metadata": {
        "colab": {
          "base_uri": "https://localhost:8080/"
        },
        "id": "u14nBhBVKR_D",
        "outputId": "cc20044a-1004-405d-e3d9-7097020c7a39"
      },
      "source": [
        "W_l1 = eval_model_l1(X_st, y, iterations=50000, l1_lambda=0.0001)"
      ],
      "execution_count": 33,
      "outputs": [
        {
          "output_type": "stream",
          "text": [
            "5000 [ 9.50922352e-05 -4.15341080e-01 -1.23711029e-04  9.60498855e-01] 1.9342126735713396\n",
            "10000 [-4.79995292e-05 -3.43497364e-01 -1.13023971e-04  7.86062787e-01] 1.705113949884076\n",
            "15000 [ 7.42660207e-06 -2.45177754e-01 -2.05055477e-05  6.73509104e-01] 1.5109391890104842\n",
            "20000 [-1.56190905e-05 -1.56847495e-01 -1.06862676e-04  5.82433132e-01] 1.3461785326640068\n",
            "25000 [-8.03003614e-05 -8.09312036e-02  2.30905619e-05  5.05867837e-01] 1.206556660739628\n",
            "30000 [-1.32862535e-05 -1.60870849e-02  5.16657263e-05  4.41131355e-01] 1.0882866657095036\n",
            "35000 [-2.72305555e-05 -9.45264483e-05 -6.66833858e-05  3.97291337e-01] 1.0338741540191299\n",
            "40000 [-8.75773588e-05  1.64795484e-05 -4.90014341e-05  3.82827002e-01] 1.0207014009477335\n",
            "45000 [4.43387770e-05 8.31389818e-06 1.98684606e-05 3.78331168e-01] 1.0166364152445238\n",
            "50000 [-8.71068977e-05 -1.60469205e-04  4.28635494e-05  3.76936797e-01] 1.0153231642369933\n"
          ],
          "name": "stdout"
        }
      ]
    },
    {
      "cell_type": "code",
      "metadata": {
        "colab": {
          "base_uri": "https://localhost:8080/"
        },
        "id": "21glR55GLOyq",
        "outputId": "5cadc387-4c28-4437-fe85-0f72e452f5a5"
      },
      "source": [
        "y_pred_l1 = calc_pred(W_l1, X_st)\n",
        "accuracy, precision, recall, f_score, conf_matrix = metrics(y, y_pred_l1)"
      ],
      "execution_count": 34,
      "outputs": [
        {
          "output_type": "stream",
          "text": [
            "accuracy: 0.8\n",
            "precision: 0.8\n",
            "recall: 0.8\n",
            "f_score: 0.8000000000000002\n",
            "confusion matrix\n",
            "          y=1  y=0\n",
            "y_pred=1    4    1\n",
            "y_pred=0    1    4\n"
          ],
          "name": "stdout"
        }
      ]
    },
    {
      "cell_type": "code",
      "metadata": {
        "id": "Zf0c4vAlKV4a"
      },
      "source": [
        "def eval_model_l2(X, y, iterations, l2_lambda, alpha=1e-4):\n",
        "    np.random.seed(42)\n",
        "    W = np.random.randn(X.shape[1])\n",
        "    n = X.shape[0]\n",
        "    for i in range(1, iterations+1):\n",
        "        z = np.dot(X, W)\n",
        "        y_pred = sigmoid(z)\n",
        "        err = calc_logloss(y, y_pred) + np.sum(W **2)\n",
        "        W -= alpha * (1 / n * np.dot((y_pred - y).T, X)) + l2_lambda * 2 * W\n",
        "        if i % 5000 == 0:\n",
        "            print(i, W, err)\n",
        "    return W"
      ],
      "execution_count": 45,
      "outputs": []
    },
    {
      "cell_type": "code",
      "metadata": {
        "colab": {
          "base_uri": "https://localhost:8080/"
        },
        "id": "jEaYfFO1K6Qn",
        "outputId": "3b4bb823-7c56-4772-b51e-3aa25c3dce0c"
      },
      "source": [
        "W_l2 = eval_model_l2(X_st, y, iterations=50000, l2_lambda=0.0001)"
      ],
      "execution_count": 46,
      "outputs": [
        {
          "output_type": "stream",
          "text": [
            "5000 [ 0.16938244 -0.10717291  0.19332531  0.55315034] 1.0117814636036178\n",
            "10000 [ 0.05543861 -0.06271139  0.06344662  0.23632606] 0.7186334205793807\n",
            "15000 [ 0.01802815 -0.03377465  0.02948651  0.1346139 ] 0.6883155093796314\n",
            "20000 [ 0.00585892 -0.01976303  0.02078086  0.10138403] 0.6849698717462976\n",
            "25000 [ 0.00190546 -0.01376416  0.01857022  0.09030309] 0.6845780131579113\n",
            "30000 [ 0.00062146 -0.0113516   0.01801488  0.08654102] 0.6845302083692851\n",
            "35000 [ 0.00020448 -0.01041577  0.01787746  0.08524474] 0.6845242259134963\n",
            "40000 [ 6.90848008e-05 -1.00608353e-02  1.78442099e-02  8.47927872e-02] 0.6845234656386425\n",
            "45000 [ 2.51195637e-05 -9.92817880e-03  1.78364384e-02  8.46337708e-02] 0.6845233681211961\n",
            "50000 [ 1.08443531e-05 -9.87908618e-03  1.78347254e-02  8.45774308e-02] 0.6845233555418693\n"
          ],
          "name": "stdout"
        }
      ]
    },
    {
      "cell_type": "code",
      "metadata": {
        "colab": {
          "base_uri": "https://localhost:8080/"
        },
        "id": "C4OsKnQ4K_1j",
        "outputId": "09a7b2df-27d3-4de1-d588-80197537063e"
      },
      "source": [
        "y_pred_l2 = calc_pred(W_l2, X_st)\n",
        "accuracy, precision, recall, f_score, conf_matrix = metrics(y, y_pred_l2)"
      ],
      "execution_count": 47,
      "outputs": [
        {
          "output_type": "stream",
          "text": [
            "accuracy: 0.8\n",
            "precision: 0.8\n",
            "recall: 0.8\n",
            "f_score: 0.8000000000000002\n",
            "confusion matrix\n",
            "          y=1  y=0\n",
            "y_pred=1    4    1\n",
            "y_pred=0    1    4\n"
          ],
          "name": "stdout"
        }
      ]
    }
  ]
}