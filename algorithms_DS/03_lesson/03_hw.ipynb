{
  "nbformat": 4,
  "nbformat_minor": 0,
  "metadata": {
    "colab": {
      "name": "03_hw.ipynb",
      "provenance": [],
      "collapsed_sections": []
    },
    "kernelspec": {
      "name": "python3",
      "display_name": "Python 3"
    },
    "language_info": {
      "name": "python"
    }
  },
  "cells": [
    {
      "cell_type": "markdown",
      "metadata": {
        "id": "ejyx4g3apb7o"
      },
      "source": [
        "# Практическая работа к уроку №3"
      ]
    },
    {
      "cell_type": "code",
      "metadata": {
        "id": "ogmytuxLpJFg"
      },
      "source": [
        "import numpy as np\n",
        "import pandas as pd\n",
        "import matplotlib.pyplot as plt"
      ],
      "execution_count": 1,
      "outputs": []
    },
    {
      "cell_type": "code",
      "metadata": {
        "id": "AVc8I0LaplKH"
      },
      "source": [
        "X = np.array([[1, 1, 1, 1, 1, 1, 1, 1, 1, 1],\n",
        "              [1, 1, 2, 1, 3, 0, 5, 10, 1, 2],\n",
        "              [500, 700, 750, 600, 1450,\n",
        "               800, 1500, 2000, 450, 1000],\n",
        "              [1, 1, 2, 1, 2, 1, 3, 3, 1, 2]], dtype = np.float64)\n",
        "\n",
        "y = np.array([0, 0, 1, 0, 1, 0, 1, 0, 1, 1], dtype = np.float64)\n",
        "\n",
        "def calc_std_feat(x):\n",
        "    res = (x - x.mean()) / x.std()\n",
        "    return res\n",
        "\n",
        "def sigmoid(z):\n",
        "    res = 1 / (1 + np.exp(-z))\n",
        "    return res\n",
        "\n",
        "X_st = X.T.copy()\n",
        "X_st[:, 1] = calc_std_feat(X_st[:, 1])\n",
        "X_st[:, 2] = calc_std_feat(X_st[:, 2])\n",
        "X_st[:, 3] = calc_std_feat(X_st[:, 3])"
      ],
      "execution_count": 2,
      "outputs": []
    },
    {
      "cell_type": "markdown",
      "metadata": {
        "id": "gVbLHrAHp-Bs"
      },
      "source": [
        "1*. Измените функцию calc_logloss так, чтобы нули по возможности не попадали в np.log."
      ]
    },
    {
      "cell_type": "code",
      "metadata": {
        "id": "PnEYQz4mp_dJ"
      },
      "source": [
        "def calc_logloss(y, y_pred, eps=1e-8):\n",
        "    err = - np.mean(y * np.log(y_pred + eps) + (1.0 - y) * np.log(1.0 - y_pred + eps))\n",
        "    return err"
      ],
      "execution_count": 3,
      "outputs": []
    },
    {
      "cell_type": "markdown",
      "metadata": {
        "id": "bpySZNOrqADI"
      },
      "source": [
        "2. Подберите аргументы функции eval_model для логистической регрессии таким образом, чтобы log loss был минимальным."
      ]
    },
    {
      "cell_type": "code",
      "metadata": {
        "id": "pGdq1RY6q6UL"
      },
      "source": [
        "def eval_model(X, y, iterations, alpha=1e-1):\n",
        "    np.random.seed(42)\n",
        "    W = np.random.randn(X.shape[1])\n",
        "    n = X.shape[0]\n",
        "    for i in range(1, iterations+1):\n",
        "        z = np.dot(X, W)\n",
        "        y_pred = sigmoid(z)\n",
        "        err = calc_logloss(y, y_pred)\n",
        "        W -= alpha * (1 / n * np.dot((y_pred - y).T, X))\n",
        "        if i % 5000 == 0:\n",
        "            print(i, W, err)\n",
        "    return W"
      ],
      "execution_count": 4,
      "outputs": []
    },
    {
      "cell_type": "code",
      "metadata": {
        "colab": {
          "base_uri": "https://localhost:8080/"
        },
        "id": "aT2vW0LqsdHx",
        "outputId": "c12c5549-59b2-4de4-db42-f1a50c8ce96e"
      },
      "source": [
        "W = eval_model(X_st, y, iterations=50000)"
      ],
      "execution_count": 5,
      "outputs": [
        {
          "output_type": "stream",
          "text": [
            "5000 [ 1.53535465 -4.5908596  -3.5151729   9.41836954] 0.22241203642356439\n",
            "10000 [ 2.48428253 -6.06769399 -5.34752279 13.29132815] 0.17913712050019812\n",
            "15000 [ 3.17728368 -7.19574836 -6.70750681 16.21354578] 0.15473106260179312\n",
            "20000 [ 3.72202873 -8.106698   -7.79591191 18.56784588] 0.13897337883019217\n",
            "25000 [ 4.17132283 -8.87071374 -8.70905565 20.54705365] 0.12787657151420617\n",
            "30000 [ 4.55467337 -9.52943786 -9.50100795 22.26234911] 0.11956367991544845\n",
            "35000 [  4.89003336 -10.10931007 -10.20483817  23.78299785] 0.11304375327266888\n",
            "40000 [  5.18905278 -10.62804616 -10.84208468  25.15475706] 0.10774689728535938\n",
            "45000 [  5.45968273 -11.09804819 -11.42747681  26.40928677] 0.10332284168408164\n",
            "50000 [  5.70757363 -11.5283176  -11.97148528  27.569326  ] 0.09954459557420335\n"
          ],
          "name": "stdout"
        }
      ]
    },
    {
      "cell_type": "markdown",
      "metadata": {
        "id": "Yo2LyEqAwSBf"
      },
      "source": [
        "3. Создайте функцию calc_pred_proba, возвращающую предсказанную вероятность класса 1 (на вход подаются W, который уже посчитан функцией eval_model и X, на выходе - массив y_pred_proba)."
      ]
    },
    {
      "cell_type": "code",
      "metadata": {
        "colab": {
          "base_uri": "https://localhost:8080/"
        },
        "id": "egAux5bFshDP",
        "outputId": "df8f2336-1fa3-4b10-e574-04c527d4780e"
      },
      "source": [
        "def calc_pred_proba(W, X):\n",
        "    z = np.dot(X, W)\n",
        "    y_pred_proba = sigmoid(z)\n",
        "    return y_pred_proba\n",
        "\n",
        "y_proba = calc_pred_proba(W, X_st)\n",
        "y_proba"
      ],
      "execution_count": 6,
      "outputs": [
        {
          "output_type": "execute_result",
          "data": {
            "text/plain": [
              "array([0.33472167, 0.00359485, 1.        , 0.04086419, 0.9489814 ,\n",
              "       0.01841023, 1.        , 0.01510532, 0.63356234, 0.99999999])"
            ]
          },
          "metadata": {
            "tags": []
          },
          "execution_count": 6
        }
      ]
    },
    {
      "cell_type": "markdown",
      "metadata": {
        "id": "3XAypaQ2w-q9"
      },
      "source": [
        "4. Создайте функцию calc_pred, возвращающую предсказанный класс (на вход подаются W, который уже посчитан функцией eval_model и X, на выходе - массив y_pred)."
      ]
    },
    {
      "cell_type": "code",
      "metadata": {
        "colab": {
          "base_uri": "https://localhost:8080/"
        },
        "id": "3xt3xLfgwn-O",
        "outputId": "c429e65b-5ef3-40bd-c4fc-eabed69eb6a7"
      },
      "source": [
        "def calc_pred(W, X, treshhold=0.5):\n",
        "    z = np.dot(X, W)\n",
        "    y_pred_proba = sigmoid(z)\n",
        "    y_pred = list(map(lambda x: 1 if x > treshhold else 0, y_pred_proba))\n",
        "    return y_pred\n",
        "\n",
        "y_pred = calc_pred(W, X_st)\n",
        "y_pred"
      ],
      "execution_count": 7,
      "outputs": [
        {
          "output_type": "execute_result",
          "data": {
            "text/plain": [
              "[0, 0, 1, 0, 1, 0, 1, 0, 1, 1]"
            ]
          },
          "metadata": {
            "tags": []
          },
          "execution_count": 7
        }
      ]
    },
    {
      "cell_type": "markdown",
      "metadata": {
        "id": "HPmufQcDyDrA"
      },
      "source": [
        "5. Посчитайте Accuracy, матрицу ошибок, точность и полноту, а также F1 score."
      ]
    },
    {
      "cell_type": "code",
      "metadata": {
        "id": "paiCSW4Nx-he"
      },
      "source": [
        "def metrics(y, y_pred, print_res=True, beta=1):\n",
        "    assert len(y) == len(y_pred), \"dim y not equal y_pred\"\n",
        "    \n",
        "    TP, TN, FP, FN = 0, 0, 0, 0\n",
        "    for i in range(len(y)):\n",
        "        if y[i] == y_pred[i]:\n",
        "            if y[i] == 1:\n",
        "                TP += 1\n",
        "            else:\n",
        "                TN += 1\n",
        "        else:\n",
        "            if y[i] == 1:\n",
        "                FN += 1\n",
        "            else:\n",
        "                FP += 1\n",
        "    \n",
        "    conf_matrix = pd.DataFrame(data=[[TP, FP], [FN, TN]],\n",
        "                               columns=[\"y=1\", \"y=0\"],\n",
        "                               index=[\"y_pred=1\", \"y_pred=0\"])\n",
        "    accuracy = np.mean(y == y_pred)\n",
        "    precision = TP / (TP + FP)\n",
        "    recall = TP / (TP + FN)\n",
        "    f_score = (1 + beta**2) / beta**2 * precision * recall / (precision + recall)\n",
        "\n",
        "    if print_res:\n",
        "        print(f\"accuracy: {accuracy}\\n\"\\\n",
        "        f\"precision: {precision}\\n\"\\\n",
        "        f\"recall: {recall}\\n\"\\\n",
        "        f\"f_score: {f_score}\\n\"\\\n",
        "        f\"confusion matrix\\n{conf_matrix}\")\n",
        "\n",
        "    return accuracy, precision, recall, f_score, conf_matrix"
      ],
      "execution_count": 8,
      "outputs": []
    },
    {
      "cell_type": "code",
      "metadata": {
        "colab": {
          "base_uri": "https://localhost:8080/"
        },
        "id": "dexjw4RCFf-y",
        "outputId": "0cab4287-4f4a-4fa1-889d-5dade1513e29"
      },
      "source": [
        "accuracy, precision, recall, f_score, conf_matrix = metrics(y, y_pred)"
      ],
      "execution_count": 9,
      "outputs": [
        {
          "output_type": "stream",
          "text": [
            "accuracy: 1.0\n",
            "precision: 1.0\n",
            "recall: 1.0\n",
            "f_score: 1.0\n",
            "confusion matrix\n",
            "          y=1  y=0\n",
            "y_pred=1    5    0\n",
            "y_pred=0    0    5\n"
          ],
          "name": "stdout"
        }
      ]
    },
    {
      "cell_type": "markdown",
      "metadata": {
        "id": "MF3meo09Hyl5"
      },
      "source": [
        "6. Могла ли модель переобучиться? Почему?"
      ]
    },
    {
      "cell_type": "markdown",
      "metadata": {
        "id": "8nIJ1QXQHzhO"
      },
      "source": [
        "Дать точного ответа на этот вопрос нельзя, так как у нас нет валидационной выборки, чтобы сравнить качество валидационной выборки с тестовой.\n",
        "\n",
        "Но здесь все же модель явно переобучилась, так как мы получили 100% качество классификации."
      ]
    },
    {
      "cell_type": "markdown",
      "metadata": {
        "id": "vEASPvS2JvXz"
      },
      "source": [
        "7*. Создайте функции eval_model_l1 и eval_model_l2 с применением L1 и L2 регуляризаций соответственно."
      ]
    },
    {
      "cell_type": "code",
      "metadata": {
        "id": "SZleav3BHzHb"
      },
      "source": [
        "def eval_model_l1(X, y, iterations, l1_lambda, alpha=1e-2):\n",
        "    np.random.seed(42)\n",
        "    W = np.random.randn(X.shape[1])\n",
        "    n = X.shape[0]\n",
        "    for i in range(1, iterations+1):\n",
        "        z = np.dot(X, W)\n",
        "        y_pred = sigmoid(z)\n",
        "        err = calc_logloss(y, y_pred) + np.sum(np.abs(W))\n",
        "        W -= alpha * (1 / n * np.dot((y_pred - y).T, X)) \\\n",
        "            + l1_lambda * np.sign(W)\n",
        "        if i % 5000 == 0:\n",
        "            print(i, W, err)\n",
        "    return W"
      ],
      "execution_count": 10,
      "outputs": []
    },
    {
      "cell_type": "code",
      "metadata": {
        "colab": {
          "base_uri": "https://localhost:8080/"
        },
        "id": "u14nBhBVKR_D",
        "outputId": "245c7d77-1a6b-4023-9b74-43e27c6cb214"
      },
      "source": [
        "W_l1 = eval_model_l1(X_st, y, iterations=50000, l1_lambda=0.001)"
      ],
      "execution_count": 11,
      "outputs": [
        {
          "output_type": "stream",
          "text": [
            "5000 [-4.42913855e-04 -1.74762829e-03  1.89916063e-04  3.77738832e-01] 1.0171242352110201\n",
            "10000 [-5.01021000e-04 -1.56650076e-03 -4.37683093e-05  3.77120113e-01] 1.0183324436214845\n",
            "15000 [-5.62605885e-04 -8.48559863e-04  2.81003097e-04  3.77123865e-01] 1.0172933989256183\n",
            "20000 [-6.25581977e-04 -1.37969738e-04  5.97760274e-04  3.77121808e-01] 1.0162626090326734\n",
            "25000 [-0.00069009 -0.00143082 -0.00108773  0.3771165 ] 1.017406711602413\n",
            "30000 [-0.00075643 -0.00070606 -0.00075555  0.37712699] 1.017024710492117\n",
            "35000 [-8.24106887e-04  5.93944714e-07 -4.42104975e-04  3.77122380e-01] 1.0169523942404277\n",
            "40000 [-8.93524951e-04 -1.28870137e-03 -1.23940506e-04  3.77120743e-01] 1.0177614406840092\n",
            "45000 [-9.64658052e-04 -5.70538245e-04  2.00662523e-04  3.77123776e-01] 1.0167121990506502\n",
            "50000 [9.77027066e-04 1.40628308e-04 5.19792295e-04 3.77123800e-01] 1.0157434663183058\n"
          ],
          "name": "stdout"
        }
      ]
    },
    {
      "cell_type": "code",
      "metadata": {
        "colab": {
          "base_uri": "https://localhost:8080/"
        },
        "id": "21glR55GLOyq",
        "outputId": "df8d7c0a-32dc-4c69-c540-079e9a9c546e"
      },
      "source": [
        "y_pred_l1 = calc_pred(W_l1, X_st)\n",
        "accuracy, precision, recall, f_score, conf_matrix = metrics(y, y_pred_l1)"
      ],
      "execution_count": 12,
      "outputs": [
        {
          "output_type": "stream",
          "text": [
            "accuracy: 0.8\n",
            "precision: 0.8\n",
            "recall: 0.8\n",
            "f_score: 0.8000000000000002\n",
            "confusion matrix\n",
            "          y=1  y=0\n",
            "y_pred=1    4    1\n",
            "y_pred=0    1    4\n"
          ],
          "name": "stdout"
        }
      ]
    },
    {
      "cell_type": "code",
      "metadata": {
        "id": "Zf0c4vAlKV4a"
      },
      "source": [
        "def eval_model_l2(X, y, iterations, l2_lambda, alpha=1e-2):\n",
        "    np.random.seed(42)\n",
        "    W = np.random.randn(X.shape[1])\n",
        "    n = X.shape[0]\n",
        "    for i in range(1, iterations+1):\n",
        "        z = np.dot(X, W)\n",
        "        y_pred = sigmoid(z)\n",
        "        err = calc_logloss(y, y_pred) + np.sum(W **2)\n",
        "        W -= alpha * (1 / n * np.dot((y_pred - y).T, X)) \\\n",
        "            + l2_lambda * 2 * W\n",
        "        if i % 5000 == 0:\n",
        "            print(i, W, err)\n",
        "    return W"
      ],
      "execution_count": 13,
      "outputs": []
    },
    {
      "cell_type": "code",
      "metadata": {
        "colab": {
          "base_uri": "https://localhost:8080/"
        },
        "id": "jEaYfFO1K6Qn",
        "outputId": "7b233df8-7b97-4c27-e753-57d7887cc363"
      },
      "source": [
        "W_l2 = eval_model_l2(X_st, y, iterations=50000, l2_lambda=0.001)"
      ],
      "execution_count": 14,
      "outputs": [
        {
          "output_type": "stream",
          "text": [
            "5000 [ 0.00095209 -0.25612807 -0.0222485   0.56346989] 0.9850570042726269\n",
            "10000 [ 0.00095207 -0.25612372 -0.02224999  0.56346698] 0.9850520957077217\n",
            "15000 [ 0.00095207 -0.25612372 -0.02224999  0.56346698] 0.9850520956694253\n",
            "20000 [ 0.00095207 -0.25612372 -0.02224999  0.56346698] 0.9850520956694253\n",
            "25000 [ 0.00095207 -0.25612372 -0.02224999  0.56346698] 0.9850520956694253\n",
            "30000 [ 0.00095207 -0.25612372 -0.02224999  0.56346698] 0.9850520956694253\n",
            "35000 [ 0.00095207 -0.25612372 -0.02224999  0.56346698] 0.9850520956694253\n",
            "40000 [ 0.00095207 -0.25612372 -0.02224999  0.56346698] 0.9850520956694253\n",
            "45000 [ 0.00095207 -0.25612372 -0.02224999  0.56346698] 0.9850520956694253\n",
            "50000 [ 0.00095207 -0.25612372 -0.02224999  0.56346698] 0.9850520956694253\n"
          ],
          "name": "stdout"
        }
      ]
    },
    {
      "cell_type": "code",
      "metadata": {
        "colab": {
          "base_uri": "https://localhost:8080/"
        },
        "id": "C4OsKnQ4K_1j",
        "outputId": "453d0beb-0e31-4683-c657-9fb329ae1a2b"
      },
      "source": [
        "y_pred_l2 = calc_pred(W_l2, X_st)\n",
        "accuracy, precision, recall, f_score, conf_matrix = metrics(y, y_pred_l2)"
      ],
      "execution_count": 15,
      "outputs": [
        {
          "output_type": "stream",
          "text": [
            "accuracy: 0.8\n",
            "precision: 0.8\n",
            "recall: 0.8\n",
            "f_score: 0.8000000000000002\n",
            "confusion matrix\n",
            "          y=1  y=0\n",
            "y_pred=1    4    1\n",
            "y_pred=0    1    4\n"
          ],
          "name": "stdout"
        }
      ]
    }
  ]
}