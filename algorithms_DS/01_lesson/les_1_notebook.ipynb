{
  "nbformat": 4,
  "nbformat_minor": 0,
  "metadata": {
    "kernelspec": {
      "display_name": "Python 3",
      "language": "python",
      "name": "python3"
    },
    "language_info": {
      "codemirror_mode": {
        "name": "ipython",
        "version": 3
      },
      "file_extension": ".py",
      "mimetype": "text/x-python",
      "name": "python",
      "nbconvert_exporter": "python",
      "pygments_lexer": "ipython3",
      "version": "3.8.5"
    },
    "colab": {
      "name": "HW_Lesson1.ipynb",
      "provenance": []
    }
  },
  "cells": [
    {
      "cell_type": "markdown",
      "metadata": {
        "id": "_k_P0YzGXVqV"
      },
      "source": [
        "### <caenter> Подготовительная часть для выполнения практического задания"
      ]
    },
    {
      "cell_type": "code",
      "metadata": {
        "pycharm": {
          "name": "#%%\n"
        },
        "id": "gJ4jqk_9XVqX"
      },
      "source": [
        "%matplotlib inline\n",
        "import numpy as np\n",
        "import matplotlib.pyplot as plt"
      ],
      "execution_count": null,
      "outputs": []
    },
    {
      "cell_type": "code",
      "metadata": {
        "pycharm": {
          "name": "#%%\n"
        },
        "id": "RLIoV5ytXVqX"
      },
      "source": [
        "y = np.array([45, 55, 50, 59, 65, 35, 75, 80, 50, 60])\n",
        "\n",
        "X = np.array(\n",
        "    [\n",
        "        [1, 1, 1, 1, 1, 1, 1, 1, 1, 1],\n",
        "        [1, 1, 2, 1, 3, 0, 5, 10, 1, 2]\n",
        "    ]\n",
        ")"
      ],
      "execution_count": null,
      "outputs": []
    },
    {
      "cell_type": "code",
      "metadata": {
        "pycharm": {
          "name": "#%%\n"
        },
        "id": "3PUNlX0TXVqY",
        "outputId": "4d97e6d5-a11a-4eb5-9522-13810b73b293"
      },
      "source": [
        "plt.scatter(X[1], y)\n",
        "plt.plot(X[1], 35 * X[0] + X[1] * 5, label='model1')\n",
        "plt.plot(X[1], 40 * X[0] + X[1] * 7.5, label='model2')\n",
        "plt.legend(loc='best')\n",
        "plt.show()"
      ],
      "execution_count": null,
      "outputs": [
        {
          "output_type": "display_data",
          "data": {
            "image/png": "[encoded data removed]",
            "text/plain": [
              "<Figure size 432x288 with 1 Axes>"
            ]
          },
          "metadata": {
            "tags": [],
            "needs_background": "light"
          }
        }
      ]
    },
    {
      "cell_type": "code",
      "metadata": {
        "pycharm": {
          "name": "#%%\n"
        },
        "id": "4KF2LfSkXVqZ"
      },
      "source": [
        "y_pred1 = np.ones(10) * 35 + X[1] * 5\n",
        "y_pred2 = np.ones(10) * 40 + X[1] * 7.5"
      ],
      "execution_count": null,
      "outputs": []
    },
    {
      "cell_type": "code",
      "metadata": {
        "pycharm": {
          "name": "#%%\n"
        },
        "id": "QM_uzbMdXVqZ",
        "outputId": "ead00a89-26b0-4c40-970e-275f347947ba"
      },
      "source": [
        "y_pred1"
      ],
      "execution_count": null,
      "outputs": [
        {
          "output_type": "execute_result",
          "data": {
            "text/plain": [
              "array([40., 40., 45., 40., 50., 35., 60., 85., 40., 45.])"
            ]
          },
          "metadata": {
            "tags": []
          },
          "execution_count": 47
        }
      ]
    },
    {
      "cell_type": "code",
      "metadata": {
        "pycharm": {
          "name": "#%%\n"
        },
        "id": "g2m51I-_XVqZ",
        "outputId": "69c9f750-fa1b-412d-dc51-64123af168e6"
      },
      "source": [
        "y_pred2"
      ],
      "execution_count": null,
      "outputs": [
        {
          "output_type": "execute_result",
          "data": {
            "text/plain": [
              "array([ 47.5,  47.5,  55. ,  47.5,  62.5,  40. ,  77.5, 115. ,  47.5,\n",
              "        55. ])"
            ]
          },
          "metadata": {
            "tags": []
          },
          "execution_count": 48
        }
      ]
    },
    {
      "cell_type": "markdown",
      "metadata": {
        "id": "MzOlUrymXVqa"
      },
      "source": [
        "$\\displaystyle MAE = \\frac{1}{l} \\sum_{i=1}^{l}|y_{i}-\\hat{y_i}|$  \n",
        "$\\displaystyle MSE = \\frac{1}{l} \\sum_{i=1}^{l}(y_{i}-\\hat{y_i})^2$"
      ]
    },
    {
      "cell_type": "code",
      "metadata": {
        "pycharm": {
          "name": "#%%\n"
        },
        "id": "IxuXTaBRXVqa"
      },
      "source": [
        "mae_1 = np.mean(np.abs(y_pred1 - y))\n",
        "mae_2 = np.mean(np.abs(y_pred2 - y))"
      ],
      "execution_count": null,
      "outputs": []
    },
    {
      "cell_type": "code",
      "metadata": {
        "pycharm": {
          "name": "#%%\n"
        },
        "id": "NKeSQkScXVqa",
        "outputId": "2d11f8a8-26f1-4d52-e476-72aebf30dbdf"
      },
      "source": [
        "mae_1, mae_2"
      ],
      "execution_count": null,
      "outputs": [
        {
          "output_type": "execute_result",
          "data": {
            "text/plain": [
              "(10.4, 7.9)"
            ]
          },
          "metadata": {
            "tags": []
          },
          "execution_count": 50
        }
      ]
    },
    {
      "cell_type": "code",
      "metadata": {
        "pycharm": {
          "name": "#%%\n"
        },
        "id": "e9u2EphFXVqb"
      },
      "source": [
        "mse_1 = np.mean((y_pred1 - y) ** 2)\n",
        "mse_2 = np.mean((y_pred2 - y) ** 2)"
      ],
      "execution_count": null,
      "outputs": []
    },
    {
      "cell_type": "code",
      "metadata": {
        "pycharm": {
          "name": "#%%\n"
        },
        "id": "D1-a3xsWXVqb",
        "outputId": "4736ac37-bd88-44de-d432-262eb75fc38a"
      },
      "source": [
        "mse_1, mse_2"
      ],
      "execution_count": null,
      "outputs": [
        {
          "output_type": "execute_result",
          "data": {
            "text/plain": [
              "(143.6, 151.35)"
            ]
          },
          "metadata": {
            "tags": []
          },
          "execution_count": 52
        }
      ]
    },
    {
      "cell_type": "markdown",
      "metadata": {
        "pycharm": {
          "name": "#%% md\n"
        },
        "id": "ZhVoY7UoXVqb"
      },
      "source": [
        "$MAE_1>MAE_2$ но $MSE_1<MSE_2$\n",
        "Выбор метрики:\n",
        " * $MSE$ - в случае, если есть выбросы, и они имеют значение при работе модели\n",
        " * $MAE$ - в случае, если выбросы не важны, модель должна хорошо работать на большинстве моделей"
      ]
    },
    {
      "cell_type": "markdown",
      "metadata": {
        "id": "gxuoXuIsXVqc"
      },
      "source": [
        "Аналитический метод нахождения вектора весов в модели линейной регрессии:\n",
        "$w=(X^{T}\\cdot X)^{-1}\\cdot X^{T}\\cdot Y$\n",
        "\n",
        "Реализация:"
      ]
    },
    {
      "cell_type": "code",
      "metadata": {
        "pycharm": {
          "name": "#%%\n"
        },
        "id": "61Tl2Q6UXVqc",
        "outputId": "4a479b68-0686-4aa8-cef3-330ffcf0cc9e"
      },
      "source": [
        "W_0 = np.linalg.inv(X @ X.T) @ X @ y\n",
        "W_0\n",
        "# отличается от классического вида, поскольку у нас изначально массив\n",
        "# Х представляет собой транспонированную матрицу\n",
        "# для приведения к классическому виду необходимо изначально\n",
        "# задавать вектор признаков и вектор значений в иной размерности\n",
        "# код ниже"
      ],
      "execution_count": null,
      "outputs": [
        {
          "output_type": "execute_result",
          "data": {
            "text/plain": [
              "array([47.23214286,  3.91071429])"
            ]
          },
          "metadata": {
            "tags": []
          },
          "execution_count": 53
        }
      ]
    },
    {
      "cell_type": "code",
      "metadata": {
        "pycharm": {
          "name": "#%%\n"
        },
        "id": "1wK9lIP3XVqc",
        "outputId": "414770e2-d956-4adb-b789-c7191ad5f840"
      },
      "source": [
        "X1 = X.swapaxes(0, 1)\n",
        "y1 = y.reshape((len(y), -1))\n",
        "W1 = np.linalg.inv(X1.T @ X1) @ X1.T @ y1\n",
        "W1"
      ],
      "execution_count": null,
      "outputs": [
        {
          "output_type": "execute_result",
          "data": {
            "text/plain": [
              "array([[47.23214286],\n",
              "       [ 3.91071429]])"
            ]
          },
          "metadata": {
            "tags": []
          },
          "execution_count": 54
        }
      ]
    },
    {
      "cell_type": "code",
      "metadata": {
        "pycharm": {
          "name": "#%%\n"
        },
        "id": "g8q21eT8XVqc",
        "outputId": "56a518c0-150a-438a-f4b2-b75c9f5db03c"
      },
      "source": [
        "# ковариационная матрица\n",
        "np.dot(X, X.T)\n",
        "#np.dot(X1.T,X1)"
      ],
      "execution_count": null,
      "outputs": [
        {
          "output_type": "execute_result",
          "data": {
            "text/plain": [
              "array([[ 10,  26],\n",
              "       [ 26, 146]])"
            ]
          },
          "metadata": {
            "tags": []
          },
          "execution_count": 55
        }
      ]
    },
    {
      "cell_type": "code",
      "metadata": {
        "pycharm": {
          "name": "#%%\n"
        },
        "id": "pci-lyqMXVqd",
        "outputId": "1442731c-ada5-497d-e4ce-8041e8843741"
      },
      "source": [
        "plt.scatter(X[1], y)\n",
        "plt.plot(X[1], y_pred1, label='model1')\n",
        "plt.plot(X[1], 40 * np.ones(10) + X[1] * 7.5, label='model2')\n",
        "plt.plot(X[1], W_0[0] + W_0[1] * X[1], label='analytic_model')\n",
        "plt.legend(loc='best')\n",
        "plt.show()"
      ],
      "execution_count": null,
      "outputs": [
        {
          "output_type": "display_data",
          "data": {
            "image/png": "[encoded data removed]",
            "text/plain": [
              "<Figure size 432x288 with 1 Axes>"
            ]
          },
          "metadata": {
            "tags": [],
            "needs_background": "light"
          }
        }
      ]
    },
    {
      "cell_type": "code",
      "metadata": {
        "pycharm": {
          "name": "#%%\n"
        },
        "id": "Fpy_A70PXVqd"
      },
      "source": [
        "y_pred3 = W_0[0] + W_0[1] * X[1]"
      ],
      "execution_count": null,
      "outputs": []
    },
    {
      "cell_type": "code",
      "metadata": {
        "pycharm": {
          "name": "#%%\n"
        },
        "id": "Lrxvqe5cXVqd"
      },
      "source": [
        "def calc_mae(y, y_pred):\n",
        "    err = np.mean(np.abs(y - y_pred))\n",
        "    return err"
      ],
      "execution_count": null,
      "outputs": []
    },
    {
      "cell_type": "code",
      "metadata": {
        "pycharm": {
          "name": "#%%\n"
        },
        "id": "XceXTJkQXVqd"
      },
      "source": [
        "def calc_mse(y, y_pred):\n",
        "    err = np.mean((y - y_pred) ** 2)\n",
        "    return err"
      ],
      "execution_count": null,
      "outputs": []
    },
    {
      "cell_type": "code",
      "metadata": {
        "pycharm": {
          "name": "#%%\n"
        },
        "id": "b8c6_bzDXVqe",
        "outputId": "4e4eb4f8-985f-44ba-c12d-bd3fe02ee6a2"
      },
      "source": [
        "calc_mae(y, y_pred1), calc_mae(y, y_pred2), calc_mae(y, y_pred3)"
      ],
      "execution_count": null,
      "outputs": [
        {
          "output_type": "execute_result",
          "data": {
            "text/plain": [
              "(10.4, 7.9, 6.182142857142858)"
            ]
          },
          "metadata": {
            "tags": []
          },
          "execution_count": 60
        }
      ]
    },
    {
      "cell_type": "code",
      "metadata": {
        "pycharm": {
          "name": "#%%\n"
        },
        "id": "Pyq9VVC7XVqe",
        "outputId": "8139c946-bef4-4653-c1b9-35fe0539a8a0"
      },
      "source": [
        "calc_mse(y, y_pred1), calc_mse(y, y_pred2), calc_mse(y, y_pred3)\n"
      ],
      "execution_count": null,
      "outputs": [
        {
          "output_type": "execute_result",
          "data": {
            "text/plain": [
              "(143.6, 151.35, 45.93749999999999)"
            ]
          },
          "metadata": {
            "tags": []
          },
          "execution_count": 61
        }
      ]
    },
    {
      "cell_type": "markdown",
      "metadata": {
        "pycharm": {
          "name": "#%% md\n"
        },
        "id": "uQzcrSAAXVqe"
      },
      "source": [
        "Аналитическая формула имеет недостатки использования при вычислении весов линейной\n",
        "модели в следствии того, что вычисление обратной матрицы при большом количестве признаков\n",
        "имеет высокую вычислительную сложность."
      ]
    },
    {
      "cell_type": "markdown",
      "metadata": {
        "id": "6CT91Az0XVqf"
      },
      "source": [
        "## <center> Практическое задание"
      ]
    },
    {
      "cell_type": "markdown",
      "metadata": {
        "id": "O-N7TROwXVqf"
      },
      "source": [
        "**1. Подберите скорость обучения($\\alpha$) и количество итераций:**"
      ]
    },
    {
      "cell_type": "code",
      "metadata": {
        "pycharm": {
          "name": "#%%\n"
        },
        "id": "-_gC2qnpXVqf"
      },
      "source": [
        "n = X.shape[1]\n",
        "alpha = 1e-04\n",
        "\n",
        "W = np.array([1, 0.5])\n",
        "W, alpha"
      ],
      "execution_count": null,
      "outputs": []
    },
    {
      "cell_type": "code",
      "metadata": {
        "pycharm": {
          "name": "#%%\n"
        },
        "id": "iS9f8iC5XVqg"
      },
      "source": [
        "for i in range(1500):\n",
        "    y_pred = W @ X\n",
        "    err = calc_mse(y, y_pred)\n",
        "    for ii in range(W.shape[0]):\n",
        "        W[ii] -= alpha * (1 / n * 2 * np.sum(X[ii] * (y_pred - y)))\n",
        "    if i % 100 == 0:\n",
        "        print(i, W, err)"
      ],
      "execution_count": null,
      "outputs": []
    },
    {
      "cell_type": "markdown",
      "metadata": {
        "id": "QKhBG_ClXVqi"
      },
      "source": [
        "**2\\*. В этом коде мы избавляемся от итераций по весам, но тут есть ошибка, исправьте ее:**"
      ]
    },
    {
      "cell_type": "code",
      "metadata": {
        "pycharm": {
          "name": "#%%\n"
        },
        "scrolled": true,
        "id": "xDHfdmYUXVqi"
      },
      "source": [
        "for i in range(287):\n",
        "    y_pred = np.dot(W, X)\n",
        "    err = calc_mse(y, y_pred)\n",
        "    # for ii in range(W.shape[0]):\n",
        "    # W[ii] -= alpha * (1/n * 2 * np.sum(X[ii] * (y_pred - y)))'''\n",
        "    W -= (alpha * (1 / n * 2 * np.sum(X * (y_pred - y))))\n",
        "    if i % 10 == 0:\n",
        "        print(i, W, err)\n"
      ],
      "execution_count": null,
      "outputs": []
    }
  ]
}