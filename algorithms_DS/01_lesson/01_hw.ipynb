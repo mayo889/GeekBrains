{
  "nbformat": 4,
  "nbformat_minor": 0,
  "metadata": {
    "colab": {
      "name": "01_hw.ipynb",
      "provenance": []
    },
    "kernelspec": {
      "name": "python3",
      "display_name": "Python 3"
    },
    "language_info": {
      "name": "python"
    }
  },
  "cells": [
    {
      "cell_type": "markdown",
      "metadata": {
        "id": "6CT91Az0XVqf"
      },
      "source": [
        "## Урок 1. Домашнее задание"
      ]
    },
    {
      "cell_type": "markdown",
      "metadata": {
        "id": "Qwpgg3LdZioy"
      },
      "source": [
        "### Задание 1\n",
        "Подберите скорость обучения($\\alpha$) и количество итераций:"
      ]
    },
    {
      "cell_type": "code",
      "metadata": {
        "id": "hsiW6lMJaRnu"
      },
      "source": [
        "import numpy as np\n",
        "import matplotlib.pyplot as plt"
      ],
      "execution_count": 1,
      "outputs": []
    },
    {
      "cell_type": "code",
      "metadata": {
        "colab": {
          "base_uri": "https://localhost:8080/"
        },
        "id": "uwvZmMQXZvkc",
        "outputId": "96ee6295-3e29-40c5-944a-bf7a46e1c403"
      },
      "source": [
        "y = np.array([45, 55, 50, 59, 65, 35, 75, 80, 50, 60])\n",
        "\n",
        "X = np.array([[1, 1, 1, 1, 1, 1, 1, 1, 1, 1],\n",
        "              [1, 1, 2, 1, 3, 0, 5, 10, 1, 2]])\n",
        "X.shape"
      ],
      "execution_count": 2,
      "outputs": [
        {
          "output_type": "execute_result",
          "data": {
            "text/plain": [
              "(2, 10)"
            ]
          },
          "metadata": {
            "tags": []
          },
          "execution_count": 2
        }
      ]
    },
    {
      "cell_type": "code",
      "metadata": {
        "id": "NJucGHrGauQD"
      },
      "source": [
        "def calc_mse(y, y_pred):\n",
        "    return np.mean((y - y_pred) ** 2)"
      ],
      "execution_count": 3,
      "outputs": []
    },
    {
      "cell_type": "code",
      "metadata": {
        "colab": {
          "base_uri": "https://localhost:8080/"
        },
        "id": "RnG1svSDqIdq",
        "outputId": "93f6a0a1-444f-45da-8c4f-82eb1c0db735"
      },
      "source": [
        "# Изменим размерность X\n",
        "X = np.swapaxes(X, 0, 1)\n",
        "X.shape"
      ],
      "execution_count": 4,
      "outputs": [
        {
          "output_type": "execute_result",
          "data": {
            "text/plain": [
              "(10, 2)"
            ]
          },
          "metadata": {
            "tags": []
          },
          "execution_count": 4
        }
      ]
    },
    {
      "cell_type": "code",
      "metadata": {
        "pycharm": {
          "name": "#%%\n"
        },
        "id": "-_gC2qnpXVqf",
        "colab": {
          "base_uri": "https://localhost:8080/"
        },
        "outputId": "39bd7d7a-1ccd-474c-b8ac-ab38b84c5d60"
      },
      "source": [
        "n = X.shape[0]\n",
        "alpha = 1e-02\n",
        "gamma = 0.1\n",
        "step_lr = 1000\n",
        "eps = 1e-06\n",
        "\n",
        "W = np.array([1, 0.5])\n",
        "W, alpha"
      ],
      "execution_count": 5,
      "outputs": [
        {
          "output_type": "execute_result",
          "data": {
            "text/plain": [
              "(array([1. , 0.5]), 0.01)"
            ]
          },
          "metadata": {
            "tags": []
          },
          "execution_count": 5
        }
      ]
    },
    {
      "cell_type": "code",
      "metadata": {
        "pycharm": {
          "name": "#%%\n"
        },
        "id": "iS9f8iC5XVqg",
        "colab": {
          "base_uri": "https://localhost:8080/"
        },
        "outputId": "efab44d7-1eab-49da-df5c-e792b949aa59"
      },
      "source": [
        "for i in range(1, 2000):\n",
        "    y_pred = X @ W\n",
        "    err_prev = calc_mse(y, y_pred)\n",
        "    W_prev = W.copy()\n",
        "\n",
        "    for ii in range(W.shape[0]):\n",
        "        W[ii] -= alpha * (1 / n * 2 * np.sum(X.T[ii] * (y_pred - y)))\n",
        "\n",
        "    if i % 100 == 0:\n",
        "        print(i, W, err_prev, alpha)\n",
        "\n",
        "    # Scheduler step\n",
        "    if i % step_lr == 0:\n",
        "        alpha *= gamma\n",
        "\n",
        "    if np.linalg.norm(W_prev - W) < eps:\n",
        "        print(f'Stop: {i} iteration')\n",
        "        break"
      ],
      "execution_count": 6,
      "outputs": [
        {
          "output_type": "stream",
          "text": [
            "100 [31.72648327  6.77395294] 177.92494760058077 0.01\n",
            "200 [41.78014899  4.91746666] 62.255347042578386 0.01\n",
            "300 [45.3151501   4.26470166] 47.95490496498401 0.01\n",
            "400 [46.55810299  4.0351809 ] 46.18691542730009 0.01\n",
            "500 [46.99514157  3.95447839] 45.968335680716045 0.01\n",
            "600 [47.14881009  3.92610232] 45.94131227101915 0.01\n",
            "700 [47.20284196  3.91612492] 45.93797131796627 0.01\n",
            "800 [47.22184028  3.91261674] 45.93755826989325 0.01\n",
            "900 [47.22852033  3.91138321] 45.93750720401236 0.01\n",
            "1000 [47.23086913  3.91094949] 45.93750089064509 0.01\n",
            "1100 [47.23099498  3.91092625] 45.937500709853005 0.001\n",
            "1200 [47.23110839  3.91090531] 45.93750057651057 0.001\n",
            "Stop: 1288 iteration\n"
          ],
          "name": "stdout"
        }
      ]
    },
    {
      "cell_type": "code",
      "metadata": {
        "colab": {
          "base_uri": "https://localhost:8080/"
        },
        "id": "n8a5njn1b_hy",
        "outputId": "0535468d-c803-4d1d-b7b4-91f8fda9e75b"
      },
      "source": [
        "# Аналитическое решение:\n",
        "W_0 = np.linalg.inv(X.T @ X) @ X.T @ y\n",
        "W_0"
      ],
      "execution_count": 7,
      "outputs": [
        {
          "output_type": "execute_result",
          "data": {
            "text/plain": [
              "array([47.23214286,  3.91071429])"
            ]
          },
          "metadata": {
            "tags": []
          },
          "execution_count": 7
        }
      ]
    },
    {
      "cell_type": "markdown",
      "metadata": {
        "id": "TwQ6fjZfk1Yt"
      },
      "source": [
        "Решение полученное аналитически и решение полученное методом градиентного спуска совпадают с точностью до 2-3 знака после запятой"
      ]
    },
    {
      "cell_type": "markdown",
      "metadata": {
        "id": "QKhBG_ClXVqi"
      },
      "source": [
        "**2\\*. В этом коде мы избавляемся от итераций по весам, но тут есть ошибка, исправьте ее:**"
      ]
    },
    {
      "cell_type": "code",
      "metadata": {
        "colab": {
          "base_uri": "https://localhost:8080/"
        },
        "id": "CzNS3r-cmQxW",
        "outputId": "b56ec6ad-d183-481b-d1b0-550f98974ec4"
      },
      "source": [
        "n = X.shape[0]\n",
        "alpha = 1e-02\n",
        "gamma = 0.1\n",
        "step_lr = 1000\n",
        "eps = 1e-06\n",
        "\n",
        "W_old = W.copy()\n",
        "W = np.array([1, 0.5])\n",
        "W, alpha"
      ],
      "execution_count": 8,
      "outputs": [
        {
          "output_type": "execute_result",
          "data": {
            "text/plain": [
              "(array([1. , 0.5]), 0.01)"
            ]
          },
          "metadata": {
            "tags": []
          },
          "execution_count": 8
        }
      ]
    },
    {
      "cell_type": "code",
      "metadata": {
        "pycharm": {
          "name": "#%%\n"
        },
        "scrolled": true,
        "id": "xDHfdmYUXVqi",
        "colab": {
          "base_uri": "https://localhost:8080/"
        },
        "outputId": "6e270d94-19b9-47e8-b94a-d00436c252e5"
      },
      "source": [
        "for i in range(1, 2000):\n",
        "    y_pred = X @ W\n",
        "    err_prev = calc_mse(y, y_pred)\n",
        "    W_prev = W.copy()\n",
        "\n",
        "    # for ii in range(W.shape[0]):\n",
        "    # W[ii] -= alpha * (1/n * 2 * np.sum(X[ii] * (y_pred - y)))'''\n",
        "    W -= (alpha * (1 / n * 2 * X.T @ (y_pred - y)))\n",
        "\n",
        "    if i % 100 == 0:\n",
        "        print(i, W, err_prev, alpha)\n",
        "\n",
        "    # Scheduler step\n",
        "    if i % step_lr == 0:\n",
        "        alpha *= gamma\n",
        "\n",
        "    if np.linalg.norm(W_prev - W) < eps:\n",
        "        print(f'Stop: {i} iteration')\n",
        "        break"
      ],
      "execution_count": 9,
      "outputs": [
        {
          "output_type": "stream",
          "text": [
            "100 [31.72648327  6.77395294] 177.92494760058085 0.01\n",
            "200 [41.78014899  4.91746666] 62.25534704257841 0.01\n",
            "300 [45.3151501   4.26470166] 47.95490496498401 0.01\n",
            "400 [46.55810299  4.0351809 ] 46.18691542730009 0.01\n",
            "500 [46.99514157  3.95447839] 45.968335680716045 0.01\n",
            "600 [47.14881009  3.92610232] 45.94131227101915 0.01\n",
            "700 [47.20284196  3.91612492] 45.93797131796625 0.01\n",
            "800 [47.22184028  3.91261674] 45.93755826989325 0.01\n",
            "900 [47.22852033  3.91138321] 45.93750720401236 0.01\n",
            "1000 [47.23086913  3.91094949] 45.93750089064509 0.01\n",
            "1100 [47.23099498  3.91092625] 45.93750070985302 0.001\n",
            "1200 [47.23110839  3.91090531] 45.93750057651057 0.001\n",
            "Stop: 1288 iteration\n"
          ],
          "name": "stdout"
        }
      ]
    },
    {
      "cell_type": "code",
      "metadata": {
        "colab": {
          "base_uri": "https://localhost:8080/"
        },
        "id": "7xQsILL0rFpR",
        "outputId": "5ef6dc3d-a684-4c66-98f1-c8e393d1d0fc"
      },
      "source": [
        "W_old == W"
      ],
      "execution_count": 10,
      "outputs": [
        {
          "output_type": "execute_result",
          "data": {
            "text/plain": [
              "array([ True,  True])"
            ]
          },
          "metadata": {
            "tags": []
          },
          "execution_count": 10
        }
      ]
    },
    {
      "cell_type": "markdown",
      "metadata": {
        "id": "40BmekPXrTyp"
      },
      "source": [
        "Получили точно такой же результат"
      ]
    }
  ]
}