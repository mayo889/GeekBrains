{
 "cells": [
  {
   "cell_type": "code",
   "execution_count": 1,
   "metadata": {
    "id": "w55tea_oTG9O"
   },
   "outputs": [],
   "source": [
    "import torch"
   ]
  },
  {
   "cell_type": "code",
   "execution_count": 2,
   "metadata": {
    "colab": {
     "base_uri": "https://localhost:8080/"
    },
    "id": "OtWexEZtTG9v",
    "outputId": "55709fd4-f969-43a4-f3f9-c9ca776eeb1d"
   },
   "outputs": [
    {
     "data": {
      "text/plain": [
       "tensor([[[-1.3536,  1.1928,  0.1528,  0.0943, -1.0910],\n",
       "         [ 0.3455,  1.0514, -0.1953,  0.6922,  0.2697],\n",
       "         [-0.8403, -1.4688, -0.2942,  1.6853,  0.7853],\n",
       "         [ 0.6762, -0.1783, -1.0801, -2.4705,  0.8178]],\n",
       "\n",
       "        [[ 0.2750,  0.8239, -1.6782,  0.8222,  0.3128],\n",
       "         [ 0.1725,  0.4593,  1.1690, -2.2588,  0.2450],\n",
       "         [ 0.2066,  0.4975,  0.0450, -0.8708,  0.2354],\n",
       "         [-0.4933, -0.8950,  0.0473,  0.1454,  0.5774]],\n",
       "\n",
       "        [[ 0.9027, -1.0547, -1.8679, -0.9314,  1.5602],\n",
       "         [ 0.9707, -0.9653,  0.9568, -0.1543,  0.0956],\n",
       "         [ 0.4284,  0.1092, -0.0851,  0.1726,  0.4152],\n",
       "         [-0.4871,  0.5585,  0.0656, -0.9481, -0.7805]]])"
      ]
     },
     "execution_count": 2,
     "metadata": {},
     "output_type": "execute_result"
    }
   ],
   "source": [
    "# Создайте случайный FloatTensor размера 3x4x5\n",
    "x = torch.randn((3, 4, 5))\n",
    "x"
   ]
  },
  {
   "cell_type": "code",
   "execution_count": 3,
   "metadata": {
    "colab": {
     "base_uri": "https://localhost:8080/"
    },
    "id": "1FQdq6MZTG9x",
    "outputId": "813fe01a-b573-4d3c-e982-f0163dbb8725"
   },
   "outputs": [
    {
     "data": {
      "text/plain": [
       "torch.Size([3, 4, 5])"
      ]
     },
     "execution_count": 3,
     "metadata": {},
     "output_type": "execute_result"
    }
   ],
   "source": [
    "# Выведите его форму (shape)\n",
    "x.shape"
   ]
  },
  {
   "cell_type": "code",
   "execution_count": 4,
   "metadata": {
    "colab": {
     "base_uri": "https://localhost:8080/"
    },
    "id": "_IwKqxnOTG90",
    "outputId": "fe1343a7-4933-4af8-f1f7-4e14c14bdb03"
   },
   "outputs": [
    {
     "data": {
      "text/plain": [
       "tensor([[-1.3536,  1.1928,  0.1528,  0.0943, -1.0910,  0.3455,  1.0514, -0.1953,\n",
       "          0.6922,  0.2697],\n",
       "        [-0.8403, -1.4688, -0.2942,  1.6853,  0.7853,  0.6762, -0.1783, -1.0801,\n",
       "         -2.4705,  0.8178],\n",
       "        [ 0.2750,  0.8239, -1.6782,  0.8222,  0.3128,  0.1725,  0.4593,  1.1690,\n",
       "         -2.2588,  0.2450],\n",
       "        [ 0.2066,  0.4975,  0.0450, -0.8708,  0.2354, -0.4933, -0.8950,  0.0473,\n",
       "          0.1454,  0.5774],\n",
       "        [ 0.9027, -1.0547, -1.8679, -0.9314,  1.5602,  0.9707, -0.9653,  0.9568,\n",
       "         -0.1543,  0.0956],\n",
       "        [ 0.4284,  0.1092, -0.0851,  0.1726,  0.4152, -0.4871,  0.5585,  0.0656,\n",
       "         -0.9481, -0.7805]])"
      ]
     },
     "execution_count": 4,
     "metadata": {},
     "output_type": "execute_result"
    }
   ],
   "source": [
    "# Приведите его к форме 6 X 10\n",
    "x = x.reshape(6, 10)\n",
    "x"
   ]
  },
  {
   "cell_type": "code",
   "execution_count": 5,
   "metadata": {
    "colab": {
     "base_uri": "https://localhost:8080/"
    },
    "id": "L8Ek-resTG91",
    "outputId": "363631b0-7745-4b03-ac1a-a0477fe35021"
   },
   "outputs": [
    {
     "data": {
      "text/plain": [
       "tensor([[[-1.3536, -5.4142, -2.7071, -2.7071, -1.3536],\n",
       "         [ 1.1928,  4.7710,  2.3855,  2.3855,  1.1928],\n",
       "         [ 0.1528,  0.6111,  0.3055,  0.3055,  0.1528],\n",
       "         [ 0.0943,  0.3773,  0.1886,  0.1886,  0.0943],\n",
       "         [-1.0910, -4.3642, -2.1821, -2.1821, -1.0910],\n",
       "         [ 0.3455,  1.3819,  0.6910,  0.6910,  0.3455],\n",
       "         [ 1.0514,  4.2057,  2.1029,  2.1029,  1.0514],\n",
       "         [-0.1953, -0.7810, -0.3905, -0.3905, -0.1953],\n",
       "         [ 0.6922,  2.7689,  1.3845,  1.3845,  0.6922],\n",
       "         [ 0.2697,  1.0786,  0.5393,  0.5393,  0.2697]],\n",
       "\n",
       "        [[-0.8403, -3.3613, -1.6807, -1.6807, -0.8403],\n",
       "         [-1.4688, -5.8751, -2.9376, -2.9376, -1.4688],\n",
       "         [-0.2942, -1.1769, -0.5885, -0.5885, -0.2942],\n",
       "         [ 1.6853,  6.7411,  3.3706,  3.3706,  1.6853],\n",
       "         [ 0.7853,  3.1410,  1.5705,  1.5705,  0.7853],\n",
       "         [ 0.6762,  2.7050,  1.3525,  1.3525,  0.6762],\n",
       "         [-0.1783, -0.7134, -0.3567, -0.3567, -0.1783],\n",
       "         [-1.0801, -4.3205, -2.1603, -2.1603, -1.0801],\n",
       "         [-2.4705, -9.8820, -4.9410, -4.9410, -2.4705],\n",
       "         [ 0.8178,  3.2712,  1.6356,  1.6356,  0.8178]],\n",
       "\n",
       "        [[ 0.2750,  1.0999,  0.5499,  0.5499,  0.2750],\n",
       "         [ 0.8239,  3.2954,  1.6477,  1.6477,  0.8239],\n",
       "         [-1.6782, -6.7127, -3.3564, -3.3564, -1.6782],\n",
       "         [ 0.8222,  3.2887,  1.6443,  1.6443,  0.8222],\n",
       "         [ 0.3128,  1.2512,  0.6256,  0.6256,  0.3128],\n",
       "         [ 0.1725,  0.6898,  0.3449,  0.3449,  0.1725],\n",
       "         [ 0.4593,  1.8373,  0.9186,  0.9186,  0.4593],\n",
       "         [ 1.1690,  4.6759,  2.3379,  2.3379,  1.1690],\n",
       "         [-2.2588, -9.0350, -4.5175, -4.5175, -2.2588],\n",
       "         [ 0.2450,  0.9800,  0.4900,  0.4900,  0.2450]],\n",
       "\n",
       "        [[ 0.2066,  0.8266,  0.4133,  0.4133,  0.2066],\n",
       "         [ 0.4975,  1.9898,  0.9949,  0.9949,  0.4975],\n",
       "         [ 0.0450,  0.1801,  0.0900,  0.0900,  0.0450],\n",
       "         [-0.8708, -3.4832, -1.7416, -1.7416, -0.8708],\n",
       "         [ 0.2354,  0.9417,  0.4708,  0.4708,  0.2354],\n",
       "         [-0.4933, -1.9732, -0.9866, -0.9866, -0.4933],\n",
       "         [-0.8950, -3.5802, -1.7901, -1.7901, -0.8950],\n",
       "         [ 0.0473,  0.1892,  0.0946,  0.0946,  0.0473],\n",
       "         [ 0.1454,  0.5817,  0.2909,  0.2909,  0.1454],\n",
       "         [ 0.5774,  2.3096,  1.1548,  1.1548,  0.5774]],\n",
       "\n",
       "        [[ 0.9027,  3.6108,  1.8054,  1.8054,  0.9027],\n",
       "         [-1.0547, -4.2188, -2.1094, -2.1094, -1.0547],\n",
       "         [-1.8679, -7.4715, -3.7357, -3.7357, -1.8679],\n",
       "         [-0.9314, -3.7257, -1.8629, -1.8629, -0.9314],\n",
       "         [ 1.5602,  6.2408,  3.1204,  3.1204,  1.5602],\n",
       "         [ 0.9707,  3.8829,  1.9414,  1.9414,  0.9707],\n",
       "         [-0.9653, -3.8614, -1.9307, -1.9307, -0.9653],\n",
       "         [ 0.9568,  3.8270,  1.9135,  1.9135,  0.9568],\n",
       "         [-0.1543, -0.6173, -0.3086, -0.3086, -0.1543],\n",
       "         [ 0.0956,  0.3823,  0.1912,  0.1912,  0.0956]],\n",
       "\n",
       "        [[ 0.4284,  1.7135,  0.8567,  0.8567,  0.4284],\n",
       "         [ 0.1092,  0.4370,  0.2185,  0.2185,  0.1092],\n",
       "         [-0.0851, -0.3406, -0.1703, -0.1703, -0.0851],\n",
       "         [ 0.1726,  0.6906,  0.3453,  0.3453,  0.1726],\n",
       "         [ 0.4152,  1.6606,  0.8303,  0.8303,  0.4152],\n",
       "         [-0.4871, -1.9484, -0.9742, -0.9742, -0.4871],\n",
       "         [ 0.5585,  2.2339,  1.1170,  1.1170,  0.5585],\n",
       "         [ 0.0656,  0.2623,  0.1311,  0.1311,  0.0656],\n",
       "         [-0.9481, -3.7924, -1.8962, -1.8962, -0.9481],\n",
       "         [-0.7805, -3.1220, -1.5610, -1.5610, -0.7805]]])"
      ]
     },
     "execution_count": 5,
     "metadata": {},
     "output_type": "execute_result"
    }
   ],
   "source": [
    "# Умножьте его на вектор [1, 4, 2, 2, 1] поэлементно\n",
    "y = torch.Tensor([1, 4, 2, 2, 1])\n",
    "res = (x.reshape(-1, 1) * y.reshape(1, -1)).reshape(6, 10, 5)\n",
    "res"
   ]
  },
  {
   "cell_type": "code",
   "execution_count": 6,
   "metadata": {
    "colab": {
     "base_uri": "https://localhost:8080/"
    },
    "id": "cWKY7W77TG91",
    "outputId": "8240f9de-6b3c-45e3-b544-caf04adf1812"
   },
   "outputs": [
    {
     "data": {
      "text/plain": [
       "torch.Size([6, 6])"
      ]
     },
     "execution_count": 6,
     "metadata": {},
     "output_type": "execute_result"
    }
   ],
   "source": [
    "# Умножьте тензор матрично на себя, чтобы результат был размерности 6x6\n",
    "(x @ x.T).shape"
   ]
  },
  {
   "cell_type": "code",
   "execution_count": 7,
   "metadata": {
    "colab": {
     "base_uri": "https://localhost:8080/"
    },
    "id": "OWWbQ0jwTG93",
    "outputId": "cb638abb-05da-4976-ab44-259c1ca59ba7"
   },
   "outputs": [
    {
     "name": "stdout",
     "output_type": "stream",
     "text": [
      "Значение производной в заданной точке:\n",
      "        (3.0, 1.0, -75.0)\n"
     ]
    }
   ],
   "source": [
    "# Посчитайте производную функции y = x**3 + z - 75t в точке (1, 0.5, 2)\n",
    "from torch.autograd import Variable\n",
    "\n",
    "x = Variable(torch.Tensor([1]), requires_grad=True)\n",
    "z = Variable(torch.Tensor([0.5]), requires_grad=True)\n",
    "t = Variable(torch.Tensor([2]), requires_grad=True)\n",
    "\n",
    "y = x ** 3 + z - 75 * t\n",
    "\n",
    "y.backward()\n",
    "\n",
    "print(f\"Значение производной в заданной точке:\\n\\\n",
    "        ({float(x.grad)}, {float(z.grad)}, {float(t.grad)})\")"
   ]
  },
  {
   "cell_type": "code",
   "execution_count": 8,
   "metadata": {
    "colab": {
     "base_uri": "https://localhost:8080/"
    },
    "id": "yAZFj47eTG9_",
    "outputId": "af2bff63-51a8-4ef0-b66f-47496b0f6799"
   },
   "outputs": [
    {
     "data": {
      "text/plain": [
       "tensor([[1., 1., 1., 1., 1., 1.],\n",
       "        [1., 1., 1., 1., 1., 1.],\n",
       "        [1., 1., 1., 1., 1., 1.],\n",
       "        [1., 1., 1., 1., 1., 1.],\n",
       "        [1., 1., 1., 1., 1., 1.]])"
      ]
     },
     "execution_count": 8,
     "metadata": {},
     "output_type": "execute_result"
    }
   ],
   "source": [
    "# Создайте единичный тензор размера 5x6\n",
    "x = torch.ones((5, 6))\n",
    "x"
   ]
  },
  {
   "cell_type": "code",
   "execution_count": 9,
   "metadata": {
    "colab": {
     "base_uri": "https://localhost:8080/"
    },
    "id": "NHsdxgTMTG-B",
    "outputId": "1da9e094-7b37-4a26-ba89-6072402a45f1"
   },
   "outputs": [
    {
     "data": {
      "text/plain": [
       "array([[1., 1., 1., 1., 1., 1.],\n",
       "       [1., 1., 1., 1., 1., 1.],\n",
       "       [1., 1., 1., 1., 1., 1.],\n",
       "       [1., 1., 1., 1., 1., 1.],\n",
       "       [1., 1., 1., 1., 1., 1.]], dtype=float32)"
      ]
     },
     "execution_count": 9,
     "metadata": {},
     "output_type": "execute_result"
    }
   ],
   "source": [
    "# Переведите его в формат numpy\n",
    "x.numpy()"
   ]
  },
  {
   "cell_type": "code",
   "execution_count": 10,
   "metadata": {
    "id": "FQYJpUWbelbz"
   },
   "outputs": [],
   "source": [
    "# Давайте теперь пооптимизируем: возьмите функцию y = x**w1 - 2 * x**2 + 5\n",
    "# Посчитайте"
   ]
  },
  {
   "cell_type": "code",
   "execution_count": 11,
   "metadata": {
    "id": "EjPWjl_bekEx"
   },
   "outputs": [],
   "source": [
    "from torch import nn \n",
    "from torch import optim"
   ]
  },
  {
   "cell_type": "code",
   "execution_count": 12,
   "metadata": {
    "colab": {
     "base_uri": "https://localhost:8080/"
    },
    "id": "NiL6wBn8TG-C",
    "outputId": "45629b6d-b240-4c28-8dfd-43d110b1be94"
   },
   "outputs": [
    {
     "name": "stdout",
     "output_type": "stream",
     "text": [
      "tensor([4.]) tensor([2.]) tensor([0.4151], requires_grad=True)\n"
     ]
    }
   ],
   "source": [
    "w1 = Variable(torch.randn(1), requires_grad=True)\n",
    "x = Variable(torch.Tensor([2]), requires_grad=False)\n",
    "y = Variable(torch.Tensor([4]), requires_grad=False)\n",
    "\n",
    "def func(x, w1):\n",
    "    return x ** w1 - 2 * x ** 2 + 5\n",
    "\n",
    "print(y, x, w1)"
   ]
  },
  {
   "cell_type": "code",
   "execution_count": 13,
   "metadata": {
    "id": "fWog-43uedGl"
   },
   "outputs": [],
   "source": [
    "criterion = nn.MSELoss()\n",
    "optimizer = torch.optim.SGD([w1], lr=0.001)"
   ]
  },
  {
   "cell_type": "code",
   "execution_count": 14,
   "metadata": {
    "colab": {
     "base_uri": "https://localhost:8080/"
    },
    "id": "aPcwZgB7etCr",
    "outputId": "65f4298b-c9d8-4a75-9b05-12fc64f419f0"
   },
   "outputs": [
    {
     "name": "stdout",
     "output_type": "stream",
     "text": [
      "epoch 0: loss 32.1102180480957\n",
      "epoch 25: loss 28.94913673400879\n",
      "epoch 50: loss 24.723487854003906\n",
      "epoch 75: loss 19.127552032470703\n",
      "epoch 100: loss 12.246849060058594\n",
      "epoch 125: loss 5.506824970245361\n",
      "epoch 150: loss 1.441318154335022\n",
      "epoch 175: loss 0.2189614623785019\n",
      "epoch 200: loss 0.023955492302775383\n"
     ]
    }
   ],
   "source": [
    "for epoch in range(201):\n",
    "    optimizer.zero_grad()\n",
    "    pred = func(x, w1)\n",
    "    loss = criterion(pred, y)\n",
    "    if epoch % 25 == 0:\n",
    "        print(f\"epoch {epoch}: loss {float(loss)}\")\n",
    "    loss.backward()\n",
    "    optimizer.step()"
   ]
  },
  {
   "cell_type": "code",
   "execution_count": 15,
   "metadata": {
    "colab": {
     "base_uri": "https://localhost:8080/"
    },
    "id": "RKCK2seHc4sN",
    "outputId": "a3dd6fcb-c8c2-4002-e68e-2271bc23aee5"
   },
   "outputs": [
    {
     "name": "stdout",
     "output_type": "stream",
     "text": [
      "tensor([4.]) tensor([2.]) tensor([2.7766], requires_grad=True)\n"
     ]
    }
   ],
   "source": [
    "print(y, x, w1)"
   ]
  },
  {
   "cell_type": "code",
   "execution_count": null,
   "metadata": {
    "id": "Qkx1UK0UShQY"
   },
   "outputs": [],
   "source": []
  }
 ],
 "metadata": {
  "colab": {
   "collapsed_sections": [],
   "name": "HW_01.ipynb",
   "provenance": []
  },
  "kernelspec": {
   "display_name": "Python 3 (ipykernel)",
   "language": "python",
   "name": "python3"
  },
  "language_info": {
   "codemirror_mode": {
    "name": "ipython",
    "version": 3
   },
   "file_extension": ".py",
   "mimetype": "text/x-python",
   "name": "python",
   "nbconvert_exporter": "python",
   "pygments_lexer": "ipython3",
   "version": "3.9.5"
  }
 },
 "nbformat": 4,
 "nbformat_minor": 4
}
