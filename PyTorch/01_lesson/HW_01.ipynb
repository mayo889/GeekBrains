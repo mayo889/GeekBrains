{
  "cells": [
    {
      "cell_type": "code",
      "execution_count": 1,
      "metadata": {
        "id": "w55tea_oTG9O"
      },
      "outputs": [],
      "source": [
        "import torch"
      ]
    },
    {
      "cell_type": "code",
      "execution_count": 2,
      "metadata": {
        "colab": {
          "base_uri": "https://localhost:8080/"
        },
        "id": "OtWexEZtTG9v",
        "outputId": "55709fd4-f969-43a4-f3f9-c9ca776eeb1d"
      },
      "outputs": [
        {
          "output_type": "execute_result",
          "data": {
            "text/plain": [
              "tensor([[[-0.1850, -1.8555, -0.9546,  0.1008, -0.3644],\n",
              "         [ 1.2624,  0.5157,  0.2824, -1.6159, -0.3430],\n",
              "         [ 0.3378,  1.8808, -0.7690, -0.7260, -1.4706],\n",
              "         [-1.6866, -0.2013,  0.1146, -0.2078, -0.9165]],\n",
              "\n",
              "        [[ 0.2289,  0.9801, -0.3466, -1.3388,  1.3150],\n",
              "         [ 0.1122, -0.3463,  0.6059,  0.3741, -0.0691],\n",
              "         [-1.0852,  0.9899,  0.6489,  0.1055, -1.7396],\n",
              "         [-1.0937,  0.0719,  0.1627,  0.0991,  0.4062]],\n",
              "\n",
              "        [[-0.7617,  1.2916,  1.0311, -0.8704,  0.2370],\n",
              "         [-0.3298, -0.2298,  0.6691, -1.6778,  0.4143],\n",
              "         [ 0.9262, -0.4755,  0.1134,  1.7685, -0.8650],\n",
              "         [-0.3439, -0.5263,  0.2090,  0.6127,  0.2349]]])"
            ]
          },
          "metadata": {},
          "execution_count": 2
        }
      ],
      "source": [
        "# Создайте случайный FloatTensor размера 3x4x5\n",
        "x = torch.randn((3, 4, 5))\n",
        "x"
      ]
    },
    {
      "cell_type": "code",
      "execution_count": 3,
      "metadata": {
        "colab": {
          "base_uri": "https://localhost:8080/"
        },
        "id": "1FQdq6MZTG9x",
        "outputId": "813fe01a-b573-4d3c-e982-f0163dbb8725"
      },
      "outputs": [
        {
          "output_type": "execute_result",
          "data": {
            "text/plain": [
              "torch.Size([3, 4, 5])"
            ]
          },
          "metadata": {},
          "execution_count": 3
        }
      ],
      "source": [
        "# Выведите его форму (shape)\n",
        "x.shape"
      ]
    },
    {
      "cell_type": "code",
      "execution_count": 4,
      "metadata": {
        "colab": {
          "base_uri": "https://localhost:8080/"
        },
        "id": "_IwKqxnOTG90",
        "outputId": "fe1343a7-4933-4af8-f1f7-4e14c14bdb03"
      },
      "outputs": [
        {
          "output_type": "execute_result",
          "data": {
            "text/plain": [
              "tensor([[-0.1850, -1.8555, -0.9546,  0.1008, -0.3644,  1.2624,  0.5157,  0.2824,\n",
              "         -1.6159, -0.3430],\n",
              "        [ 0.3378,  1.8808, -0.7690, -0.7260, -1.4706, -1.6866, -0.2013,  0.1146,\n",
              "         -0.2078, -0.9165],\n",
              "        [ 0.2289,  0.9801, -0.3466, -1.3388,  1.3150,  0.1122, -0.3463,  0.6059,\n",
              "          0.3741, -0.0691],\n",
              "        [-1.0852,  0.9899,  0.6489,  0.1055, -1.7396, -1.0937,  0.0719,  0.1627,\n",
              "          0.0991,  0.4062],\n",
              "        [-0.7617,  1.2916,  1.0311, -0.8704,  0.2370, -0.3298, -0.2298,  0.6691,\n",
              "         -1.6778,  0.4143],\n",
              "        [ 0.9262, -0.4755,  0.1134,  1.7685, -0.8650, -0.3439, -0.5263,  0.2090,\n",
              "          0.6127,  0.2349]])"
            ]
          },
          "metadata": {},
          "execution_count": 4
        }
      ],
      "source": [
        "# Приведите его к форме 6 X 10\n",
        "x = x.reshape(6, 10)\n",
        "x"
      ]
    },
    {
      "cell_type": "code",
      "execution_count": 5,
      "metadata": {
        "colab": {
          "base_uri": "https://localhost:8080/"
        },
        "id": "L8Ek-resTG91",
        "outputId": "363631b0-7745-4b03-ac1a-a0477fe35021"
      },
      "outputs": [
        {
          "output_type": "execute_result",
          "data": {
            "text/plain": [
              "tensor([[[-0.1850, -0.7401, -0.3700, -0.3700, -0.1850],\n",
              "         [-1.8555, -7.4219, -3.7110, -3.7110, -1.8555],\n",
              "         [-0.9546, -3.8183, -1.9092, -1.9092, -0.9546],\n",
              "         [ 0.1008,  0.4033,  0.2017,  0.2017,  0.1008],\n",
              "         [-0.3644, -1.4574, -0.7287, -0.7287, -0.3644],\n",
              "         [ 1.2624,  5.0496,  2.5248,  2.5248,  1.2624],\n",
              "         [ 0.5157,  2.0630,  1.0315,  1.0315,  0.5157],\n",
              "         [ 0.2824,  1.1296,  0.5648,  0.5648,  0.2824],\n",
              "         [-1.6159, -6.4635, -3.2317, -3.2317, -1.6159],\n",
              "         [-0.3430, -1.3721, -0.6861, -0.6861, -0.3430]],\n",
              "\n",
              "        [[ 0.3378,  1.3511,  0.6756,  0.6756,  0.3378],\n",
              "         [ 1.8808,  7.5232,  3.7616,  3.7616,  1.8808],\n",
              "         [-0.7690, -3.0762, -1.5381, -1.5381, -0.7690],\n",
              "         [-0.7260, -2.9041, -1.4521, -1.4521, -0.7260],\n",
              "         [-1.4706, -5.8823, -2.9411, -2.9411, -1.4706],\n",
              "         [-1.6866, -6.7465, -3.3732, -3.3732, -1.6866],\n",
              "         [-0.2013, -0.8053, -0.4027, -0.4027, -0.2013],\n",
              "         [ 0.1146,  0.4586,  0.2293,  0.2293,  0.1146],\n",
              "         [-0.2078, -0.8312, -0.4156, -0.4156, -0.2078],\n",
              "         [-0.9165, -3.6659, -1.8329, -1.8329, -0.9165]],\n",
              "\n",
              "        [[ 0.2289,  0.9157,  0.4579,  0.4579,  0.2289],\n",
              "         [ 0.9801,  3.9203,  1.9601,  1.9601,  0.9801],\n",
              "         [-0.3466, -1.3865, -0.6932, -0.6932, -0.3466],\n",
              "         [-1.3388, -5.3552, -2.6776, -2.6776, -1.3388],\n",
              "         [ 1.3150,  5.2601,  2.6301,  2.6301,  1.3150],\n",
              "         [ 0.1122,  0.4487,  0.2244,  0.2244,  0.1122],\n",
              "         [-0.3463, -1.3851, -0.6926, -0.6926, -0.3463],\n",
              "         [ 0.6059,  2.4238,  1.2119,  1.2119,  0.6059],\n",
              "         [ 0.3741,  1.4965,  0.7482,  0.7482,  0.3741],\n",
              "         [-0.0691, -0.2766, -0.1383, -0.1383, -0.0691]],\n",
              "\n",
              "        [[-1.0852, -4.3407, -2.1704, -2.1704, -1.0852],\n",
              "         [ 0.9899,  3.9598,  1.9799,  1.9799,  0.9899],\n",
              "         [ 0.6489,  2.5957,  1.2979,  1.2979,  0.6489],\n",
              "         [ 0.1055,  0.4220,  0.2110,  0.2110,  0.1055],\n",
              "         [-1.7396, -6.9585, -3.4793, -3.4793, -1.7396],\n",
              "         [-1.0937, -4.3750, -2.1875, -2.1875, -1.0937],\n",
              "         [ 0.0719,  0.2877,  0.1439,  0.1439,  0.0719],\n",
              "         [ 0.1627,  0.6509,  0.3254,  0.3254,  0.1627],\n",
              "         [ 0.0991,  0.3966,  0.1983,  0.1983,  0.0991],\n",
              "         [ 0.4062,  1.6249,  0.8124,  0.8124,  0.4062]],\n",
              "\n",
              "        [[-0.7617, -3.0466, -1.5233, -1.5233, -0.7617],\n",
              "         [ 1.2916,  5.1663,  2.5831,  2.5831,  1.2916],\n",
              "         [ 1.0311,  4.1246,  2.0623,  2.0623,  1.0311],\n",
              "         [-0.8704, -3.4816, -1.7408, -1.7408, -0.8704],\n",
              "         [ 0.2370,  0.9479,  0.4739,  0.4739,  0.2370],\n",
              "         [-0.3298, -1.3191, -0.6596, -0.6596, -0.3298],\n",
              "         [-0.2298, -0.9190, -0.4595, -0.4595, -0.2298],\n",
              "         [ 0.6691,  2.6764,  1.3382,  1.3382,  0.6691],\n",
              "         [-1.6778, -6.7112, -3.3556, -3.3556, -1.6778],\n",
              "         [ 0.4143,  1.6574,  0.8287,  0.8287,  0.4143]],\n",
              "\n",
              "        [[ 0.9262,  3.7048,  1.8524,  1.8524,  0.9262],\n",
              "         [-0.4755, -1.9020, -0.9510, -0.9510, -0.4755],\n",
              "         [ 0.1134,  0.4536,  0.2268,  0.2268,  0.1134],\n",
              "         [ 1.7685,  7.0742,  3.5371,  3.5371,  1.7685],\n",
              "         [-0.8650, -3.4600, -1.7300, -1.7300, -0.8650],\n",
              "         [-0.3439, -1.3756, -0.6878, -0.6878, -0.3439],\n",
              "         [-0.5263, -2.1052, -1.0526, -1.0526, -0.5263],\n",
              "         [ 0.2090,  0.8359,  0.4179,  0.4179,  0.2090],\n",
              "         [ 0.6127,  2.4509,  1.2255,  1.2255,  0.6127],\n",
              "         [ 0.2349,  0.9394,  0.4697,  0.4697,  0.2349]]])"
            ]
          },
          "metadata": {},
          "execution_count": 5
        }
      ],
      "source": [
        "# Умножьте его на вектор [1, 4, 2, 2, 1] поэлементно\n",
        "y = torch.Tensor([1, 4, 2, 2, 1])\n",
        "res = (x.reshape(-1, 1) * y.reshape(1, -1)).reshape(6, 10, 5)\n",
        "res"
      ]
    },
    {
      "cell_type": "code",
      "execution_count": 6,
      "metadata": {
        "colab": {
          "base_uri": "https://localhost:8080/"
        },
        "id": "cWKY7W77TG91",
        "outputId": "8240f9de-6b3c-45e3-b544-caf04adf1812"
      },
      "outputs": [
        {
          "output_type": "execute_result",
          "data": {
            "text/plain": [
              "torch.Size([6, 6])"
            ]
          },
          "metadata": {},
          "execution_count": 6
        }
      ],
      "source": [
        "# Умножьте тензор матрично на себя, чтобы результат был размерности 6x6\n",
        "(x @ x.T).shape"
      ]
    },
    {
      "cell_type": "code",
      "execution_count": 7,
      "metadata": {
        "colab": {
          "base_uri": "https://localhost:8080/"
        },
        "id": "OWWbQ0jwTG93",
        "outputId": "cb638abb-05da-4976-ab44-259c1ca59ba7"
      },
      "outputs": [
        {
          "output_type": "stream",
          "name": "stdout",
          "text": [
            "Значение производной в заданной точке:\n",
            "        (3.0, 1.0, -75.0)\n"
          ]
        }
      ],
      "source": [
        "# Посчитайте производную функции y = x**3 + z - 75t в точке (1, 0.5, 2)\n",
        "from torch.autograd import Variable\n",
        "\n",
        "x = Variable(torch.Tensor([1]), requires_grad=True)\n",
        "z = Variable(torch.Tensor([0.5]), requires_grad=True)\n",
        "t = Variable(torch.Tensor([2]), requires_grad=True)\n",
        "\n",
        "y = x ** 3 + z - 75 * t\n",
        "\n",
        "y.backward()\n",
        "\n",
        "print(f\"Значение производной в заданной точке:\\n\\\n",
        "        ({float(x.grad)}, {float(z.grad)}, {float(t.grad)})\")"
      ]
    },
    {
      "cell_type": "code",
      "execution_count": 8,
      "metadata": {
        "colab": {
          "base_uri": "https://localhost:8080/"
        },
        "id": "yAZFj47eTG9_",
        "outputId": "af2bff63-51a8-4ef0-b66f-47496b0f6799"
      },
      "outputs": [
        {
          "output_type": "execute_result",
          "data": {
            "text/plain": [
              "tensor([[1., 1., 1., 1., 1., 1.],\n",
              "        [1., 1., 1., 1., 1., 1.],\n",
              "        [1., 1., 1., 1., 1., 1.],\n",
              "        [1., 1., 1., 1., 1., 1.],\n",
              "        [1., 1., 1., 1., 1., 1.]])"
            ]
          },
          "metadata": {},
          "execution_count": 8
        }
      ],
      "source": [
        "# Создайте единичный тензор размера 5x6\n",
        "x = torch.ones((5, 6))\n",
        "x"
      ]
    },
    {
      "cell_type": "code",
      "execution_count": 9,
      "metadata": {
        "colab": {
          "base_uri": "https://localhost:8080/"
        },
        "id": "NHsdxgTMTG-B",
        "outputId": "1da9e094-7b37-4a26-ba89-6072402a45f1"
      },
      "outputs": [
        {
          "output_type": "execute_result",
          "data": {
            "text/plain": [
              "array([[1., 1., 1., 1., 1., 1.],\n",
              "       [1., 1., 1., 1., 1., 1.],\n",
              "       [1., 1., 1., 1., 1., 1.],\n",
              "       [1., 1., 1., 1., 1., 1.],\n",
              "       [1., 1., 1., 1., 1., 1.]], dtype=float32)"
            ]
          },
          "metadata": {},
          "execution_count": 9
        }
      ],
      "source": [
        "# Переведите его в формат numpy\n",
        "x.numpy()"
      ]
    },
    {
      "cell_type": "code",
      "source": [
        "# Давайте теперь пооптимизируем: возьмите функцию y = x**w1 - 2 * x**2 + 5\n",
        "# Посчитайте"
      ],
      "metadata": {
        "id": "FQYJpUWbelbz"
      },
      "execution_count": 10,
      "outputs": []
    },
    {
      "cell_type": "code",
      "source": [
        "from torch import nn \n",
        "from torch import optim"
      ],
      "metadata": {
        "id": "EjPWjl_bekEx"
      },
      "execution_count": 11,
      "outputs": []
    },
    {
      "cell_type": "code",
      "execution_count": 12,
      "metadata": {
        "colab": {
          "base_uri": "https://localhost:8080/"
        },
        "id": "NiL6wBn8TG-C",
        "outputId": "45629b6d-b240-4c28-8dfd-43d110b1be94"
      },
      "outputs": [
        {
          "output_type": "stream",
          "name": "stdout",
          "text": [
            "tensor([4.]) tensor([2.]) tensor([-1.8543], requires_grad=True)\n"
          ]
        }
      ],
      "source": [
        "w1 = Variable(torch.randn(1), requires_grad=True)\n",
        "x = Variable(torch.Tensor([2]), requires_grad=False)\n",
        "y = Variable(torch.Tensor([4]), requires_grad=False)\n",
        "\n",
        "def func(x, w1):\n",
        "    return x ** w1 - 2 * x ** 2 + 5\n",
        "\n",
        "print(y, x, w1)"
      ]
    },
    {
      "cell_type": "code",
      "source": [
        "criterion = nn.MSELoss()\n",
        "optimizer = torch.optim.SGD([w1], lr=0.001)"
      ],
      "metadata": {
        "id": "fWog-43uedGl"
      },
      "execution_count": 13,
      "outputs": []
    },
    {
      "cell_type": "code",
      "source": [
        "for epoch in range(201):\n",
        "    optimizer.zero_grad()\n",
        "    pred = func(x, w1)\n",
        "    loss = criterion(pred, y)\n",
        "    if epoch % 25 == 0:\n",
        "        print(f\"epoch {epoch}: loss {float(loss)}\")\n",
        "    loss.backward()\n",
        "    optimizer.step()"
      ],
      "metadata": {
        "colab": {
          "base_uri": "https://localhost:8080/"
        },
        "id": "aPcwZgB7etCr",
        "outputId": "65f4298b-c9d8-4a75-9b05-12fc64f419f0"
      },
      "execution_count": 14,
      "outputs": [
        {
          "output_type": "stream",
          "name": "stdout",
          "text": [
            "epoch 0: loss 45.20446014404297\n",
            "epoch 25: loss 45.03105545043945\n",
            "epoch 50: loss 44.841468811035156\n",
            "epoch 75: loss 44.63336181640625\n",
            "epoch 100: loss 44.40394592285156\n",
            "epoch 125: loss 44.149845123291016\n",
            "epoch 150: loss 43.86696243286133\n",
            "epoch 175: loss 43.55023193359375\n",
            "epoch 200: loss 43.19338607788086\n"
          ]
        }
      ]
    },
    {
      "cell_type": "code",
      "source": [
        "print(y, x, w1)"
      ],
      "metadata": {
        "colab": {
          "base_uri": "https://localhost:8080/"
        },
        "id": "RKCK2seHc4sN",
        "outputId": "a3dd6fcb-c8c2-4002-e68e-2271bc23aee5"
      },
      "execution_count": 15,
      "outputs": [
        {
          "output_type": "stream",
          "name": "stdout",
          "text": [
            "tensor([4.]) tensor([2.]) tensor([-1.2210], requires_grad=True)\n"
          ]
        }
      ]
    },
    {
      "cell_type": "code",
      "source": [
        ""
      ],
      "metadata": {
        "id": "Qkx1UK0UShQY"
      },
      "execution_count": null,
      "outputs": []
    }
  ],
  "metadata": {
    "kernelspec": {
      "display_name": "Python 3",
      "language": "python",
      "name": "python3"
    },
    "language_info": {
      "codemirror_mode": {
        "name": "ipython",
        "version": 3
      },
      "file_extension": ".py",
      "mimetype": "text/x-python",
      "name": "python",
      "nbconvert_exporter": "python",
      "pygments_lexer": "ipython3",
      "version": "3.7.4"
    },
    "colab": {
      "name": "HW_01.ipynb",
      "provenance": [],
      "collapsed_sections": []
    }
  },
  "nbformat": 4,
  "nbformat_minor": 0
}