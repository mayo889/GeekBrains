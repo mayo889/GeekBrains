{
  "cells": [
    {
      "cell_type": "code",
      "execution_count": 15,
      "metadata": {
        "id": "w55tea_oTG9O"
      },
      "outputs": [],
      "source": [
        "import torch"
      ]
    },
    {
      "cell_type": "code",
      "execution_count": 16,
      "metadata": {
        "colab": {
          "base_uri": "https://localhost:8080/"
        },
        "id": "OtWexEZtTG9v",
        "outputId": "52affef2-2988-42f1-d352-26d5fbda4c2b"
      },
      "outputs": [
        {
          "output_type": "execute_result",
          "data": {
            "text/plain": [
              "tensor([[[ 0.3706, -0.0164, -0.1865,  1.0748, -0.0736],\n",
              "         [ 1.0247, -0.1131, -1.1834, -0.2037, -0.6935],\n",
              "         [-0.2501, -1.7376,  0.1323, -1.3774,  1.4115],\n",
              "         [-0.3661,  0.5385, -1.1685,  0.4695, -0.9749]],\n",
              "\n",
              "        [[ 1.0536, -0.5228, -0.1516, -1.0032,  0.4486],\n",
              "         [ 0.0036,  1.0406, -1.6038,  0.4744, -1.0056],\n",
              "         [ 0.8568,  0.5661,  0.5385,  1.0945,  1.3227],\n",
              "         [-0.4694,  1.6012,  0.1695, -0.8541,  0.8204]],\n",
              "\n",
              "        [[-0.1069, -1.1291,  0.6809,  1.5536, -0.1595],\n",
              "         [-0.3820, -0.9476, -0.9808,  0.0640, -0.4597],\n",
              "         [-0.6883, -0.9081,  0.2110,  0.7788,  0.3134],\n",
              "         [-0.3095,  2.2428, -0.6173, -0.3510, -1.8574]]])"
            ]
          },
          "metadata": {},
          "execution_count": 16
        }
      ],
      "source": [
        "# Создайте случайный FloatTensor размера 3x4x5\n",
        "x = torch.randn((3, 4, 5))\n",
        "x"
      ]
    },
    {
      "cell_type": "code",
      "execution_count": 17,
      "metadata": {
        "colab": {
          "base_uri": "https://localhost:8080/"
        },
        "id": "1FQdq6MZTG9x",
        "outputId": "c112e469-5c5d-4043-a1ab-c6a2b0169faf"
      },
      "outputs": [
        {
          "output_type": "execute_result",
          "data": {
            "text/plain": [
              "torch.Size([3, 4, 5])"
            ]
          },
          "metadata": {},
          "execution_count": 17
        }
      ],
      "source": [
        "# Выведите его форму (shape)\n",
        "x.shape"
      ]
    },
    {
      "cell_type": "code",
      "execution_count": 18,
      "metadata": {
        "colab": {
          "base_uri": "https://localhost:8080/"
        },
        "id": "_IwKqxnOTG90",
        "outputId": "5d0afe20-7396-4a21-f0af-5699fb51cd8f"
      },
      "outputs": [
        {
          "output_type": "execute_result",
          "data": {
            "text/plain": [
              "tensor([[ 0.3706, -0.0164, -0.1865,  1.0748, -0.0736,  1.0247, -0.1131, -1.1834,\n",
              "         -0.2037, -0.6935],\n",
              "        [-0.2501, -1.7376,  0.1323, -1.3774,  1.4115, -0.3661,  0.5385, -1.1685,\n",
              "          0.4695, -0.9749],\n",
              "        [ 1.0536, -0.5228, -0.1516, -1.0032,  0.4486,  0.0036,  1.0406, -1.6038,\n",
              "          0.4744, -1.0056],\n",
              "        [ 0.8568,  0.5661,  0.5385,  1.0945,  1.3227, -0.4694,  1.6012,  0.1695,\n",
              "         -0.8541,  0.8204],\n",
              "        [-0.1069, -1.1291,  0.6809,  1.5536, -0.1595, -0.3820, -0.9476, -0.9808,\n",
              "          0.0640, -0.4597],\n",
              "        [-0.6883, -0.9081,  0.2110,  0.7788,  0.3134, -0.3095,  2.2428, -0.6173,\n",
              "         -0.3510, -1.8574]])"
            ]
          },
          "metadata": {},
          "execution_count": 18
        }
      ],
      "source": [
        "# Приведите его к форме 6 X 10\n",
        "x = x.reshape(6, 10)\n",
        "x"
      ]
    },
    {
      "cell_type": "code",
      "execution_count": 19,
      "metadata": {
        "colab": {
          "base_uri": "https://localhost:8080/"
        },
        "id": "L8Ek-resTG91",
        "outputId": "6b04c143-3522-45e3-f5ae-d3d0486dfc67"
      },
      "outputs": [
        {
          "output_type": "execute_result",
          "data": {
            "text/plain": [
              "tensor([[[ 3.7064e-01,  1.4826e+00,  7.4129e-01,  7.4129e-01,  3.7064e-01],\n",
              "         [-1.6360e-02, -6.5440e-02, -3.2720e-02, -3.2720e-02, -1.6360e-02],\n",
              "         [-1.8648e-01, -7.4593e-01, -3.7296e-01, -3.7296e-01, -1.8648e-01],\n",
              "         [ 1.0748e+00,  4.2990e+00,  2.1495e+00,  2.1495e+00,  1.0748e+00],\n",
              "         [-7.3568e-02, -2.9427e-01, -1.4714e-01, -1.4714e-01, -7.3568e-02],\n",
              "         [ 1.0247e+00,  4.0990e+00,  2.0495e+00,  2.0495e+00,  1.0247e+00],\n",
              "         [-1.1314e-01, -4.5254e-01, -2.2627e-01, -2.2627e-01, -1.1314e-01],\n",
              "         [-1.1834e+00, -4.7338e+00, -2.3669e+00, -2.3669e+00, -1.1834e+00],\n",
              "         [-2.0369e-01, -8.1475e-01, -4.0737e-01, -4.0737e-01, -2.0369e-01],\n",
              "         [-6.9351e-01, -2.7740e+00, -1.3870e+00, -1.3870e+00, -6.9351e-01]],\n",
              "\n",
              "        [[-2.5015e-01, -1.0006e+00, -5.0030e-01, -5.0030e-01, -2.5015e-01],\n",
              "         [-1.7376e+00, -6.9503e+00, -3.4752e+00, -3.4752e+00, -1.7376e+00],\n",
              "         [ 1.3227e-01,  5.2906e-01,  2.6453e-01,  2.6453e-01,  1.3227e-01],\n",
              "         [-1.3774e+00, -5.5097e+00, -2.7548e+00, -2.7548e+00, -1.3774e+00],\n",
              "         [ 1.4115e+00,  5.6459e+00,  2.8229e+00,  2.8229e+00,  1.4115e+00],\n",
              "         [-3.6608e-01, -1.4643e+00, -7.3215e-01, -7.3215e-01, -3.6608e-01],\n",
              "         [ 5.3852e-01,  2.1541e+00,  1.0770e+00,  1.0770e+00,  5.3852e-01],\n",
              "         [-1.1685e+00, -4.6740e+00, -2.3370e+00, -2.3370e+00, -1.1685e+00],\n",
              "         [ 4.6952e-01,  1.8781e+00,  9.3904e-01,  9.3904e-01,  4.6952e-01],\n",
              "         [-9.7494e-01, -3.8998e+00, -1.9499e+00, -1.9499e+00, -9.7494e-01]],\n",
              "\n",
              "        [[ 1.0536e+00,  4.2144e+00,  2.1072e+00,  2.1072e+00,  1.0536e+00],\n",
              "         [-5.2280e-01, -2.0912e+00, -1.0456e+00, -1.0456e+00, -5.2280e-01],\n",
              "         [-1.5162e-01, -6.0647e-01, -3.0323e-01, -3.0323e-01, -1.5162e-01],\n",
              "         [-1.0032e+00, -4.0128e+00, -2.0064e+00, -2.0064e+00, -1.0032e+00],\n",
              "         [ 4.4864e-01,  1.7946e+00,  8.9728e-01,  8.9728e-01,  4.4864e-01],\n",
              "         [ 3.5586e-03,  1.4234e-02,  7.1172e-03,  7.1172e-03,  3.5586e-03],\n",
              "         [ 1.0406e+00,  4.1623e+00,  2.0812e+00,  2.0812e+00,  1.0406e+00],\n",
              "         [-1.6038e+00, -6.4154e+00, -3.2077e+00, -3.2077e+00, -1.6038e+00],\n",
              "         [ 4.7435e-01,  1.8974e+00,  9.4871e-01,  9.4871e-01,  4.7435e-01],\n",
              "         [-1.0056e+00, -4.0224e+00, -2.0112e+00, -2.0112e+00, -1.0056e+00]],\n",
              "\n",
              "        [[ 8.5682e-01,  3.4273e+00,  1.7136e+00,  1.7136e+00,  8.5682e-01],\n",
              "         [ 5.6610e-01,  2.2644e+00,  1.1322e+00,  1.1322e+00,  5.6610e-01],\n",
              "         [ 5.3847e-01,  2.1539e+00,  1.0769e+00,  1.0769e+00,  5.3847e-01],\n",
              "         [ 1.0945e+00,  4.3778e+00,  2.1889e+00,  2.1889e+00,  1.0945e+00],\n",
              "         [ 1.3227e+00,  5.2909e+00,  2.6455e+00,  2.6455e+00,  1.3227e+00],\n",
              "         [-4.6937e-01, -1.8775e+00, -9.3874e-01, -9.3874e-01, -4.6937e-01],\n",
              "         [ 1.6012e+00,  6.4049e+00,  3.2025e+00,  3.2025e+00,  1.6012e+00],\n",
              "         [ 1.6950e-01,  6.7798e-01,  3.3899e-01,  3.3899e-01,  1.6950e-01],\n",
              "         [-8.5407e-01, -3.4163e+00, -1.7081e+00, -1.7081e+00, -8.5407e-01],\n",
              "         [ 8.2041e-01,  3.2816e+00,  1.6408e+00,  1.6408e+00,  8.2041e-01]],\n",
              "\n",
              "        [[-1.0689e-01, -4.2757e-01, -2.1379e-01, -2.1379e-01, -1.0689e-01],\n",
              "         [-1.1291e+00, -4.5163e+00, -2.2582e+00, -2.2582e+00, -1.1291e+00],\n",
              "         [ 6.8094e-01,  2.7238e+00,  1.3619e+00,  1.3619e+00,  6.8094e-01],\n",
              "         [ 1.5536e+00,  6.2144e+00,  3.1072e+00,  3.1072e+00,  1.5536e+00],\n",
              "         [-1.5954e-01, -6.3815e-01, -3.1908e-01, -3.1908e-01, -1.5954e-01],\n",
              "         [-3.8204e-01, -1.5282e+00, -7.6408e-01, -7.6408e-01, -3.8204e-01],\n",
              "         [-9.4761e-01, -3.7904e+00, -1.8952e+00, -1.8952e+00, -9.4761e-01],\n",
              "         [-9.8082e-01, -3.9233e+00, -1.9616e+00, -1.9616e+00, -9.8082e-01],\n",
              "         [ 6.3973e-02,  2.5589e-01,  1.2795e-01,  1.2795e-01,  6.3973e-02],\n",
              "         [-4.5968e-01, -1.8387e+00, -9.1935e-01, -9.1935e-01, -4.5968e-01]],\n",
              "\n",
              "        [[-6.8827e-01, -2.7531e+00, -1.3765e+00, -1.3765e+00, -6.8827e-01],\n",
              "         [-9.0806e-01, -3.6322e+00, -1.8161e+00, -1.8161e+00, -9.0806e-01],\n",
              "         [ 2.1104e-01,  8.4417e-01,  4.2209e-01,  4.2209e-01,  2.1104e-01],\n",
              "         [ 7.7879e-01,  3.1151e+00,  1.5576e+00,  1.5576e+00,  7.7879e-01],\n",
              "         [ 3.1337e-01,  1.2535e+00,  6.2674e-01,  6.2674e-01,  3.1337e-01],\n",
              "         [-3.0948e-01, -1.2379e+00, -6.1897e-01, -6.1897e-01, -3.0948e-01],\n",
              "         [ 2.2428e+00,  8.9713e+00,  4.4857e+00,  4.4857e+00,  2.2428e+00],\n",
              "         [-6.1730e-01, -2.4692e+00, -1.2346e+00, -1.2346e+00, -6.1730e-01],\n",
              "         [-3.5098e-01, -1.4039e+00, -7.0195e-01, -7.0195e-01, -3.5098e-01],\n",
              "         [-1.8574e+00, -7.4297e+00, -3.7148e+00, -3.7148e+00, -1.8574e+00]]])"
            ]
          },
          "metadata": {},
          "execution_count": 19
        }
      ],
      "source": [
        "# Умножьте его на вектор [1, 4, 2, 2, 1] поэлементно\n",
        "y = torch.Tensor([1, 4, 2, 2, 1])\n",
        "res = (x.reshape(-1, 1) * y.reshape(1, -1)).reshape(6, 10, 5)\n",
        "res"
      ]
    },
    {
      "cell_type": "code",
      "execution_count": 20,
      "metadata": {
        "colab": {
          "base_uri": "https://localhost:8080/"
        },
        "id": "cWKY7W77TG91",
        "outputId": "6c0c2690-59e9-4a48-81ea-9a0411f18cea"
      },
      "outputs": [
        {
          "output_type": "execute_result",
          "data": {
            "text/plain": [
              "torch.Size([6, 6])"
            ]
          },
          "metadata": {},
          "execution_count": 20
        }
      ],
      "source": [
        "# Умножьте тензор матрично на себя, чтобы результат был размерности 6x6\n",
        "(x @ x.T).shape"
      ]
    },
    {
      "cell_type": "code",
      "execution_count": 21,
      "metadata": {
        "colab": {
          "base_uri": "https://localhost:8080/"
        },
        "id": "OWWbQ0jwTG93",
        "outputId": "953ba725-66be-462a-b569-e94276a96e40"
      },
      "outputs": [
        {
          "output_type": "stream",
          "name": "stdout",
          "text": [
            "Значение производной в заданной точке:\n",
            "        (3.0, 1.0, -75.0)\n"
          ]
        }
      ],
      "source": [
        "# Посчитайте производную функции y = x**3 + z - 75t в точке (1, 0.5, 2)\n",
        "from torch.autograd import Variable\n",
        "\n",
        "x = Variable(torch.Tensor([1]), requires_grad=True)\n",
        "z = Variable(torch.Tensor([0.5]), requires_grad=True)\n",
        "t = Variable(torch.Tensor([2]), requires_grad=True)\n",
        "\n",
        "y = x ** 3 + z - 75 * t\n",
        "\n",
        "y.backward()\n",
        "\n",
        "print(f\"Значение производной в заданной точке:\\n\\\n",
        "        ({float(x.grad)}, {float(z.grad)}, {float(t.grad)})\")"
      ]
    },
    {
      "cell_type": "code",
      "execution_count": 22,
      "metadata": {
        "colab": {
          "base_uri": "https://localhost:8080/"
        },
        "id": "yAZFj47eTG9_",
        "outputId": "bb6a1308-f576-48d6-93bc-645c58f2ab99"
      },
      "outputs": [
        {
          "output_type": "execute_result",
          "data": {
            "text/plain": [
              "tensor([[1., 1., 1., 1., 1., 1.],\n",
              "        [1., 1., 1., 1., 1., 1.],\n",
              "        [1., 1., 1., 1., 1., 1.],\n",
              "        [1., 1., 1., 1., 1., 1.],\n",
              "        [1., 1., 1., 1., 1., 1.]])"
            ]
          },
          "metadata": {},
          "execution_count": 22
        }
      ],
      "source": [
        "# Создайте единичный тензор размера 5x6\n",
        "x = torch.ones((5, 6))\n",
        "x"
      ]
    },
    {
      "cell_type": "code",
      "execution_count": 23,
      "metadata": {
        "colab": {
          "base_uri": "https://localhost:8080/"
        },
        "id": "NHsdxgTMTG-B",
        "outputId": "c5d7fe52-5792-4b16-9f7c-4f914d33d281"
      },
      "outputs": [
        {
          "output_type": "execute_result",
          "data": {
            "text/plain": [
              "array([[1., 1., 1., 1., 1., 1.],\n",
              "       [1., 1., 1., 1., 1., 1.],\n",
              "       [1., 1., 1., 1., 1., 1.],\n",
              "       [1., 1., 1., 1., 1., 1.],\n",
              "       [1., 1., 1., 1., 1., 1.]], dtype=float32)"
            ]
          },
          "metadata": {},
          "execution_count": 23
        }
      ],
      "source": [
        "# Переведите его в формат numpy\n",
        "x.numpy()"
      ]
    },
    {
      "cell_type": "code",
      "source": [
        "# Давайте теперь пооптимизируем: возьмите функцию y = x**w1 - 2 * x**2 + 5\n",
        "# Посчитайте"
      ],
      "metadata": {
        "id": "FQYJpUWbelbz"
      },
      "execution_count": 24,
      "outputs": []
    },
    {
      "cell_type": "code",
      "source": [
        "from torch import nn \n",
        "from torch import optim"
      ],
      "metadata": {
        "id": "EjPWjl_bekEx"
      },
      "execution_count": 25,
      "outputs": []
    },
    {
      "cell_type": "code",
      "execution_count": 26,
      "metadata": {
        "colab": {
          "base_uri": "https://localhost:8080/"
        },
        "id": "NiL6wBn8TG-C",
        "outputId": "33c9d57f-3a11-4f03-fe3b-85b8e95bb202"
      },
      "outputs": [
        {
          "output_type": "stream",
          "name": "stdout",
          "text": [
            "tensor([4.]) tensor([2.]) tensor([-0.0274], requires_grad=True)\n"
          ]
        }
      ],
      "source": [
        "w1 = Variable(torch.randn(1), requires_grad=True)\n",
        "x = Variable(torch.Tensor([2]), requires_grad=False)\n",
        "y = Variable(torch.Tensor([4]), requires_grad=False)\n",
        "\n",
        "def func(x, w1):\n",
        "    return x ** w1 - 2 * x ** 2 + 5\n",
        "\n",
        "print(y, x, w1)"
      ]
    },
    {
      "cell_type": "code",
      "source": [
        "criterion = nn.MSELoss()\n",
        "optimizer = torch.optim.SGD([w1], lr=0.001)"
      ],
      "metadata": {
        "id": "fWog-43uedGl"
      },
      "execution_count": 27,
      "outputs": []
    },
    {
      "cell_type": "code",
      "source": [
        "for epoch in range(201):\n",
        "    optimizer.zero_grad()\n",
        "    pred = func(x, w1)\n",
        "    loss = criterion(pred, y)\n",
        "    if epoch % 25 == 0:\n",
        "        print(f\"epoch {epoch}: loss {float(loss)}\")\n",
        "    loss.backward()\n",
        "    optimizer.step()"
      ],
      "metadata": {
        "colab": {
          "base_uri": "https://localhost:8080/"
        },
        "id": "aPcwZgB7etCr",
        "outputId": "ee0c87b5-9cb9-4eeb-9d37-6479aa012eb8"
      },
      "execution_count": 28,
      "outputs": [
        {
          "output_type": "stream",
          "name": "stdout",
          "text": [
            "epoch 0: loss 36.22624969482422\n",
            "epoch 25: loss 34.3332633972168\n",
            "epoch 50: loss 31.882774353027344\n",
            "epoch 75: loss 28.646493911743164\n",
            "epoch 100: loss 24.318403244018555\n",
            "epoch 125: loss 18.602863311767578\n",
            "epoch 150: loss 11.654321670532227\n",
            "epoch 175: loss 5.043615818023682\n",
            "epoch 200: loss 1.2574553489685059\n"
          ]
        }
      ]
    },
    {
      "cell_type": "code",
      "source": [
        "print(y, x, w1)"
      ],
      "metadata": {
        "colab": {
          "base_uri": "https://localhost:8080/"
        },
        "id": "RKCK2seHc4sN",
        "outputId": "62a2d44b-e4e9-4114-ff86-750a99eb4992"
      },
      "execution_count": 29,
      "outputs": [
        {
          "output_type": "stream",
          "name": "stdout",
          "text": [
            "tensor([4.]) tensor([2.]) tensor([2.5646], requires_grad=True)\n"
          ]
        }
      ]
    }
  ],
  "metadata": {
    "kernelspec": {
      "display_name": "Python 3",
      "language": "python",
      "name": "python3"
    },
    "language_info": {
      "codemirror_mode": {
        "name": "ipython",
        "version": 3
      },
      "file_extension": ".py",
      "mimetype": "text/x-python",
      "name": "python",
      "nbconvert_exporter": "python",
      "pygments_lexer": "ipython3",
      "version": "3.7.4"
    },
    "colab": {
      "name": "HW_01.ipynb",
      "provenance": [],
      "collapsed_sections": []
    }
  },
  "nbformat": 4,
  "nbformat_minor": 0
}