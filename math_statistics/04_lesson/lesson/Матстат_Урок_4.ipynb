{
  "nbformat": 4,
  "nbformat_minor": 0,
  "metadata": {
    "colab": {
      "name": "Матстат - Урок 4.ipynb",
      "provenance": [],
      "collapsed_sections": [
        "OJQ2MA-7i6Yt"
      ]
    },
    "kernelspec": {
      "display_name": "Python 3",
      "language": "python",
      "name": "python3"
    }
  },
  "cells": [
    {
      "cell_type": "markdown",
      "metadata": {
        "id": "BtMkTMxui6Ut"
      },
      "source": [
        "## Урок 4"
      ]
    },
    {
      "cell_type": "markdown",
      "metadata": {
        "id": "C8EP-7Wui6Ux"
      },
      "source": [
        "### Непрерывные случайные величины. \n",
        "\n",
        "### Функция распределения и плотность распределения вероятностей. \n",
        "\n",
        "### Равномерное и нормальное распределение. Центральная предельная теорема"
      ]
    },
    {
      "cell_type": "code",
      "metadata": {
        "id": "hEzpwdhflV3Y"
      },
      "source": [
        ""
      ],
      "execution_count": null,
      "outputs": []
    },
    {
      "cell_type": "markdown",
      "metadata": {
        "collapsed": true,
        "id": "XvDR0Waai6U0"
      },
      "source": [
        "**Непрерывная случайная величина** может принимать все возможные значения, содержащиеся на промежутке, который может быть как конечным (ограниченным), так и бесконечным."
      ]
    },
    {
      "cell_type": "markdown",
      "metadata": {
        "collapsed": true,
        "id": "XZORR920i6U1"
      },
      "source": [
        "**Функция распределения вероятностей** — это функция $F(x)$, которая для каждого значения $x$ показывает, какова вероятность того, что случайная величина меньше $x$."
      ]
    },
    {
      "cell_type": "markdown",
      "metadata": {
        "collapsed": true,
        "id": "TtpMrj88i6U4"
      },
      "source": [
        "**Плотность распределения вероятностей** — это функция $f(x)$, которая равна производной функции распределения вероятностей:"
      ]
    },
    {
      "cell_type": "markdown",
      "metadata": {
        "collapsed": true,
        "id": "pQAJZJ20i6U6"
      },
      "source": [
        "$$f(x) = F'(x)$$"
      ]
    },
    {
      "cell_type": "markdown",
      "metadata": {
        "collapsed": true,
        "id": "CSl1_uN-i6U7"
      },
      "source": [
        "#### Равномерное распределение"
      ]
    },
    {
      "cell_type": "markdown",
      "metadata": {
        "collapsed": true,
        "id": "3le34dnIi6U_"
      },
      "source": [
        "Распределение вероятностей случайной величины $X$ в зависимости от плотности:"
      ]
    },
    {
      "cell_type": "markdown",
      "metadata": {
        "id": "yumUBW2Oi6VB"
      },
      "source": [
        "$$f(x) = \\begin{cases} 0, если \\; x \\le a; \\\\ \\frac{1}{b - a}, если \\; a < x \\le b; \\\\ 0, \\; если \\; x > b. \\end{cases}$$"
      ]
    },
    {
      "cell_type": "markdown",
      "metadata": {
        "id": "33P919A0i6VG"
      },
      "source": [
        "Математическое ожидание $M(X)$ равномерно распределенной непрерывной случайной величины можно вычислить по формуле:"
      ]
    },
    {
      "cell_type": "markdown",
      "metadata": {
        "id": "RAd-f2e-i6VH"
      },
      "source": [
        "$$M(X) = \\frac{a + b}{2}$$"
      ]
    },
    {
      "cell_type": "markdown",
      "metadata": {
        "id": "Fhn0ToAfi6VJ"
      },
      "source": [
        "По следующей формуле можно рассчитать дисперсию $D(X)$:"
      ]
    },
    {
      "cell_type": "markdown",
      "metadata": {
        "id": "zbBdqRj0i6VL"
      },
      "source": [
        "\n",
        "$$D(X) = \\frac{(b - a)^2}{12}$$"
      ]
    },
    {
      "cell_type": "markdown",
      "metadata": {
        "id": "LAg5Zitzi6VN"
      },
      "source": [
        "Посмотрим на график плотности равномерного распределения:"
      ]
    },
    {
      "cell_type": "markdown",
      "metadata": {
        "id": "fnLAGtKNi6VP"
      },
      "source": [
        "<img src='https://ru.files.fm/thumb_show.php?i=4whssuky&view' width=500>Рис. 1 График плотности равномерного распределения</img>"
      ]
    },
    {
      "cell_type": "markdown",
      "metadata": {
        "id": "cnqnQDKVi6VR"
      },
      "source": [
        "График функции равномерного распределения:"
      ]
    },
    {
      "cell_type": "markdown",
      "metadata": {
        "id": "oyQNoEwCi6VT"
      },
      "source": [
        "<img src='https://ru.files.fm/thumb_show.php?i=fwy7dghu&view' width=500>Рис. 2 График функции равномерного распределения</img>"
      ]
    },
    {
      "cell_type": "markdown",
      "metadata": {
        "id": "KPY3CoKRi6VV"
      },
      "source": [
        "#### Нормальное распределение"
      ]
    },
    {
      "cell_type": "markdown",
      "metadata": {
        "id": "jbWKmxOBi6VX"
      },
      "source": [
        "Нормальное распределение — это распределение вероятностей непрерывной случайной величины $X$, плотность вероятности которой подчиняется формуле:"
      ]
    },
    {
      "cell_type": "markdown",
      "metadata": {
        "id": "lqTqlCDai6VZ"
      },
      "source": [
        "$$f(x) = \\frac{1}{\\sigma \\sqrt{2 \\pi}} e ^ {- \\frac{(x - a)^2}{2 \\sigma^2}},$$\n",
        "\n",
        "---\n",
        "\n"
      ]
    },
    {
      "cell_type": "markdown",
      "metadata": {
        "id": "gHiRniuYi6Vb"
      },
      "source": [
        "где $a = M(X), \\; \\sigma^2 = D(X).$"
      ]
    },
    {
      "cell_type": "markdown",
      "metadata": {
        "id": "1q-XrpWpi6Vd"
      },
      "source": [
        "График плотности нормального распределения имеет колоколообразную форму:"
      ]
    },
    {
      "cell_type": "markdown",
      "metadata": {
        "id": "HDlsBYJ5i6Vg"
      },
      "source": [
        "<img src='https://ru.files.fm/thumb_show.php?i=wmq8yuhw&view' width=500> </img> Рис 3. График плотности нормального распределения"
      ]
    },
    {
      "cell_type": "markdown",
      "metadata": {
        "id": "BJM8r1DSi6Vm"
      },
      "source": [
        "Примеры нормально распределенных величин: рост и вес людей, скорость движение молекул в газах и жидкостях, показатели IQ."
      ]
    },
    {
      "cell_type": "markdown",
      "metadata": {
        "id": "nMIonO2Si6Vu"
      },
      "source": [
        "Одно из свойств нормального распределения: среднее значение, медиана и мода совпадают."
      ]
    },
    {
      "cell_type": "markdown",
      "metadata": {
        "id": "r5RucWyGi6Vx"
      },
      "source": [
        "На отрезке от $-\\sigma$ до $+\\sigma$ расположено около 68 % наблюдений, \n",
        "\n",
        "от $-2\\sigma$ до $+2\\sigma$ — 95.4 %,\n",
        "\n",
        "и от $-3\\sigma$ до $+3\\sigma$ — 99.72 %."
      ]
    },
    {
      "cell_type": "markdown",
      "metadata": {
        "id": "2hgQxgpYi6Vy"
      },
      "source": [
        "**Пример 1**"
      ]
    },
    {
      "cell_type": "markdown",
      "metadata": {
        "id": "HTxyDrh0i6V0"
      },
      "source": [
        "Расмотрим конкретный пример данных, распределенных нормально, — из статьи\n",
        "<a href='https://habr.com/post/301340/'>«Рост хоккеистов: анализируем данные всех чемпионатов мира в текущем веке»</a>."
      ]
    },
    {
      "cell_type": "code",
      "metadata": {
        "id": "-UQ9luH2i6V2"
      },
      "source": [
        "import pandas as pd\n",
        "import numpy as np"
      ],
      "execution_count": null,
      "outputs": []
    },
    {
      "cell_type": "code",
      "metadata": {
        "id": "bmsGD4E6i6WB"
      },
      "source": [
        "df = pd.read_csv('hockey_players.csv', encoding='cp1251', parse_dates=['birth'])"
      ],
      "execution_count": null,
      "outputs": []
    },
    {
      "cell_type": "markdown",
      "metadata": {
        "id": "swgqE8N4i6WI"
      },
      "source": [
        "Просмотрим первые строки датасета:"
      ]
    },
    {
      "cell_type": "code",
      "metadata": {
        "id": "nUXZvcjgi6WK"
      },
      "source": [
        "df.head()"
      ],
      "execution_count": null,
      "outputs": []
    },
    {
      "cell_type": "markdown",
      "metadata": {
        "id": "QEJZ5LTSi6WW"
      },
      "source": [
        "Посмотрим количество строк, полей и информацию о полях в датасете:"
      ]
    },
    {
      "cell_type": "code",
      "metadata": {
        "id": "wjgoaSKxi6WY"
      },
      "source": [
        "df.shape"
      ],
      "execution_count": null,
      "outputs": []
    },
    {
      "cell_type": "code",
      "metadata": {
        "id": "LmZrkjUoi6Wj"
      },
      "source": [
        "df.columns"
      ],
      "execution_count": null,
      "outputs": []
    },
    {
      "cell_type": "code",
      "metadata": {
        "id": "OAiu_WjGi6Wq"
      },
      "source": [
        "df.describe()"
      ],
      "execution_count": null,
      "outputs": []
    },
    {
      "cell_type": "markdown",
      "metadata": {
        "id": "VRPQmemUi6Wz"
      },
      "source": [
        "Удалим дубликаты:"
      ]
    },
    {
      "cell_type": "code",
      "metadata": {
        "id": "Y2uJztvvi6W0"
      },
      "source": [
        "df = df.drop_duplicates(['name', 'birth'])"
      ],
      "execution_count": null,
      "outputs": []
    },
    {
      "cell_type": "code",
      "metadata": {
        "id": "pK0C_2tRi6XB"
      },
      "source": [
        "df.shape"
      ],
      "execution_count": null,
      "outputs": []
    },
    {
      "cell_type": "markdown",
      "metadata": {
        "id": "le-taotCi6XN"
      },
      "source": [
        "Построим распределение роста среди хоккеистов:"
      ]
    },
    {
      "cell_type": "code",
      "metadata": {
        "id": "O8xmDadti6XO"
      },
      "source": [
        "import matplotlib.pyplot as plt"
      ],
      "execution_count": null,
      "outputs": []
    },
    {
      "cell_type": "code",
      "metadata": {
        "id": "Xb7ozyBOi6XV"
      },
      "source": [
        "plt.hist(df['height'], bins=20)\n",
        "plt.show()"
      ],
      "execution_count": null,
      "outputs": []
    },
    {
      "cell_type": "markdown",
      "metadata": {
        "id": "yttA1NUQi6Xp"
      },
      "source": [
        "На гистограмме видим характерное — похожее на колокол — нормальное распределение, так как мы знаем, что рост — одна из величин, которые могут распределяться нормально. Посмотрим отдельно статистики распределения роста хоккеистов."
      ]
    },
    {
      "cell_type": "markdown",
      "metadata": {
        "id": "rFclwRdoi6Xr"
      },
      "source": [
        "Среднее значение:"
      ]
    },
    {
      "cell_type": "code",
      "metadata": {
        "id": "X5an2KXyi6Xt"
      },
      "source": [
        "df['height'].mean()"
      ],
      "execution_count": null,
      "outputs": []
    },
    {
      "cell_type": "markdown",
      "metadata": {
        "id": "pPismRLIi6X0"
      },
      "source": [
        "Медиана:"
      ]
    },
    {
      "cell_type": "code",
      "metadata": {
        "id": "s3HEJ2kdi6X2"
      },
      "source": [
        "df['height'].median()"
      ],
      "execution_count": null,
      "outputs": []
    },
    {
      "cell_type": "markdown",
      "metadata": {
        "id": "Crajxm_oi6X-"
      },
      "source": [
        "Мода (специально для этого показателя предварительно округлим значения роста до целых):"
      ]
    },
    {
      "cell_type": "code",
      "metadata": {
        "id": "_UhX2_rai6YA"
      },
      "source": [
        "df['height_rounded'] = df['height'].apply(round)\n",
        "df['height_rounded'].head(10)"
      ],
      "execution_count": null,
      "outputs": []
    },
    {
      "cell_type": "code",
      "metadata": {
        "id": "WcMSgPJyi6YI"
      },
      "source": [
        "df['height'].mode()"
      ],
      "execution_count": null,
      "outputs": []
    },
    {
      "cell_type": "markdown",
      "metadata": {
        "id": "EsO96t9ri6YS"
      },
      "source": [
        "Видим, что значения среднего, медианы и моды достаточно близки. При большем количестве наблюдений и хорошем приближении к нормальному распределению эти величины могли бы быть приблизительно равны."
      ]
    },
    {
      "cell_type": "markdown",
      "metadata": {
        "id": "4N2B3zuki6YU"
      },
      "source": [
        "Среднее квадратичное отклонение:"
      ]
    },
    {
      "cell_type": "code",
      "metadata": {
        "id": "QMny5o5Ri6YW"
      },
      "source": [
        "df['height'].std()c"
      ],
      "execution_count": null,
      "outputs": []
    },
    {
      "cell_type": "markdown",
      "metadata": {
        "id": "bRJeoJJCi6Yg"
      },
      "source": [
        "Дисперсия:"
      ]
    },
    {
      "cell_type": "code",
      "metadata": {
        "id": "NAK_pW9Fi6Yk"
      },
      "source": [
        "df['height'].var()"
      ],
      "execution_count": null,
      "outputs": []
    },
    {
      "cell_type": "markdown",
      "metadata": {
        "id": "OJQ2MA-7i6Yt"
      },
      "source": [
        "#### Центральная предельная теорема"
      ]
    },
    {
      "cell_type": "markdown",
      "metadata": {
        "id": "uvR_ni38i6Yv"
      },
      "source": [
        "Центральные предельные теоремы — класс теорем в теории вероятностей. Они утверждают, что сумма достаточно большого количества слабо зависимых случайных величин, имеющих примерно одинаковые масштабы (ни одно из слагаемых не доминирует, не вносит в сумму определяющего вклада), имеет распределение, близкое к нормальному."
      ]
    },
    {
      "cell_type": "markdown",
      "metadata": {
        "id": "3swSoDmHi6Yw"
      },
      "source": [
        "Если у нас есть несколько выборок из генеральной совокупности (то есть из совокупности всех возможных объектов исследования), то среднее по этим выборкам также будет иметь нормальное распределение."
      ]
    },
    {
      "cell_type": "markdown",
      "metadata": {
        "id": "qnigeCqDPeLr"
      },
      "source": [
        ""
      ]
    },
    {
      "cell_type": "markdown",
      "metadata": {
        "id": "t-P7XtKLi6Yx"
      },
      "source": [
        "Другими словами, среднее достаточно большого числа независимых и нормально распределенных случайных величин также является приблизительно нормально распределенным."
      ]
    },
    {
      "cell_type": "markdown",
      "metadata": {
        "id": "ZNJVNoUzi6Y0"
      },
      "source": [
        "Если $x_1, x_2, ..., x_n$ — случайные величины с математическим ожиданием (или средним значением) $\\mu$ и стандартным отклонением $\\sigma$, и при этом $n$ — большое число, то $\\frac{1}{n}(x_1 + x_2 + ... + x_n)$ — приближенно нормально распределенная величина с математическим ожиданием $\\mu$ и стандартным отклонением, равным $\\frac{\\sigma}{\\sqrt(n)}$."
      ]
    },
    {
      "cell_type": "markdown",
      "metadata": {
        "id": "LsZdXuI2i6Y1"
      },
      "source": [
        "**Пример 2**"
      ]
    },
    {
      "cell_type": "markdown",
      "metadata": {
        "id": "91QHJiETi6Y3"
      },
      "source": [
        "Из имеющегося набора данных с ростом хоккеистов сформируем 300 выборок по 10 наблюдений и рассмотрим распределение средних значений:"
      ]
    },
    {
      "cell_type": "code",
      "metadata": {
        "id": "ce661T2wi6Y-"
      },
      "source": [
        "\n",
        "np.random.seed(42)"
      ],
      "execution_count": null,
      "outputs": []
    },
    {
      "cell_type": "code",
      "metadata": {
        "id": "lIjw59w3i6ZF"
      },
      "source": [
        "samples = []"
      ],
      "execution_count": null,
      "outputs": []
    },
    {
      "cell_type": "code",
      "metadata": {
        "id": "gJWXD9Bei6ZL"
      },
      "source": [
        "for i in range(300):\n",
        "    sample = df.loc[:, 'height'].sample(n=10).values\n",
        "    samples.append(sample)"
      ],
      "execution_count": null,
      "outputs": []
    },
    {
      "cell_type": "markdown",
      "metadata": {
        "id": "5ni3mNeti6ZT"
      },
      "source": [
        "Вычислим средние значения для каждой выборки:"
      ]
    },
    {
      "cell_type": "code",
      "metadata": {
        "id": "T_D4fYNMi6Za"
      },
      "source": [
        "mean_values = []"
      ],
      "execution_count": null,
      "outputs": []
    },
    {
      "cell_type": "code",
      "metadata": {
        "id": "YCbucA8di6Zq"
      },
      "source": [
        "for sample in samples:\n",
        "    mean_values.append(sample.mean())"
      ],
      "execution_count": null,
      "outputs": []
    },
    {
      "cell_type": "code",
      "metadata": {
        "id": "IQIpStyei6Z1"
      },
      "source": [
        "len(mean_values)"
      ],
      "execution_count": null,
      "outputs": []
    },
    {
      "cell_type": "code",
      "metadata": {
        "id": "QGZpP0vBi6Z_"
      },
      "source": [
        "mean_values = np.array(mean_values)"
      ],
      "execution_count": null,
      "outputs": []
    },
    {
      "cell_type": "code",
      "metadata": {
        "id": "h2Dymc_Qi6aE"
      },
      "source": [
        "mean_values"
      ],
      "execution_count": null,
      "outputs": []
    },
    {
      "cell_type": "code",
      "metadata": {
        "id": "MCa_T6BXi6aL"
      },
      "source": [
        "plt.hist(mean_values, bins=10)\n",
        "plt.show()"
      ],
      "execution_count": null,
      "outputs": []
    },
    {
      "cell_type": "markdown",
      "metadata": {
        "id": "WPRRNnEKi6aW"
      },
      "source": [
        "По гистограмме видно: количество наблюдений недостаточно большое, но распределение похоже на нормальное."
      ]
    },
    {
      "cell_type": "code",
      "metadata": {
        "id": "sANwFnRCi6aa"
      },
      "source": [
        ""
      ],
      "execution_count": null,
      "outputs": []
    }
  ]
}