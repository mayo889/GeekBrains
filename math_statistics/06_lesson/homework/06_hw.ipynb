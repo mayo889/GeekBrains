{
  "nbformat": 4,
  "nbformat_minor": 0,
  "metadata": {
    "colab": {
      "name": "06_hw.ipynb",
      "provenance": [],
      "collapsed_sections": [],
      "authorship_tag": "ABX9TyOA8Go38vwD14BAFiu29JRq"
    },
    "kernelspec": {
      "name": "python3",
      "display_name": "Python 3"
    },
    "language_info": {
      "name": "python"
    }
  },
  "cells": [
    {
      "cell_type": "markdown",
      "metadata": {
        "id": "9aHXaPz6H1vi"
      },
      "source": [
        "## Домашнее задание к уроку № 6"
      ]
    },
    {
      "cell_type": "code",
      "metadata": {
        "id": "7zseKx_pIWbK"
      },
      "source": [
        "import numpy as np\n",
        "import pandas as pd\n",
        "from math import sqrt"
      ],
      "execution_count": 9,
      "outputs": []
    },
    {
      "cell_type": "markdown",
      "metadata": {
        "id": "1-9LDWu0H7W2"
      },
      "source": [
        "### Задание 1"
      ]
    },
    {
      "cell_type": "markdown",
      "metadata": {
        "id": "_vwiwW1lH7qU"
      },
      "source": [
        "Даны значения величины заработной платы заемщиков банка (zp) и значения их поведенческого кредитного скоринга (ks):\n",
        "zp = [35, 45, 190, 200, 40, 70, 54, 150, 120, 110],\n",
        "ks = [401, 574, 874, 919, 459, 739, 653, 902, 746, 832].\n",
        "Найдите ковариацию этих двух величин с помощью элементарных действий, а затем с помощью функции cov из numpy\n",
        "Полученные значения должны быть равны.\n",
        "Найдите коэффициент корреляции Пирсона с помощью ковариации и среднеквадратичных отклонений двух признаков,\n",
        "а затем с использованием функций из библиотек numpy и pandas."
      ]
    },
    {
      "cell_type": "code",
      "metadata": {
        "colab": {
          "base_uri": "https://localhost:8080/",
          "height": 495
        },
        "id": "Iii6XEXtH6kx",
        "outputId": "658c6335-caa2-4d19-a315-2a7538895843"
      },
      "source": [
        "zp = np.array([35, 45, 190, 200, 40, 70, 54, 150, 120, 110])\n",
        "ks = np.array([401, 574, 874, 919, 459, 739, 653, 902, 746, 832])\n",
        "\n",
        "df = pd.DataFrame({'zp': zp, 'ks': ks})\n",
        "display(df)\n",
        "\n",
        "cov = np.mean(zp * ks) - np.mean(zp) * np.mean(ks)\n",
        "cov_func = np.cov(zp, ks, ddof=0)[0][1]\n",
        "cov_df = df.cov(ddof=0).iloc[0, 1]\n",
        "\n",
        "print(f\"\\nКовариация с помощью элементарных действий: {round(cov, 2)}\")\n",
        "print(f\"Ковариация с помощью numpy: {round(cov_func, 2)}\")\n",
        "print(f\"Ковариация с помощью pandas: {round(cov_df, 2)}\\n\")\n",
        "\n",
        "corr = cov / (zp.std() * ks.std())\n",
        "corr_func = np.corrcoef(zp, ks)[0][1]\n",
        "corr_df = df.corr().iloc[0, 1]\n",
        "\n",
        "print(f\"коэффициент корреляции Пирсона с помощью элементарных действий: {round(corr, 5)}\")\n",
        "print(f\"коэффициент корреляции Пирсона с помощью numpy: {round(corr_func, 5)}\")\n",
        "print(f\"коэффициент корреляции Пирсона с помощью pandas: {round(corr_df, 5)}\")"
      ],
      "execution_count": 28,
      "outputs": [
        {
          "output_type": "display_data",
          "data": {
            "text/html": [
              "<div>\n",
              "<style scoped>\n",
              "    .dataframe tbody tr th:only-of-type {\n",
              "        vertical-align: middle;\n",
              "    }\n",
              "\n",
              "    .dataframe tbody tr th {\n",
              "        vertical-align: top;\n",
              "    }\n",
              "\n",
              "    .dataframe thead th {\n",
              "        text-align: right;\n",
              "    }\n",
              "</style>\n",
              "<table border=\"1\" class=\"dataframe\">\n",
              "  <thead>\n",
              "    <tr style=\"text-align: right;\">\n",
              "      <th></th>\n",
              "      <th>zp</th>\n",
              "      <th>ks</th>\n",
              "    </tr>\n",
              "  </thead>\n",
              "  <tbody>\n",
              "    <tr>\n",
              "      <th>0</th>\n",
              "      <td>35</td>\n",
              "      <td>401</td>\n",
              "    </tr>\n",
              "    <tr>\n",
              "      <th>1</th>\n",
              "      <td>45</td>\n",
              "      <td>574</td>\n",
              "    </tr>\n",
              "    <tr>\n",
              "      <th>2</th>\n",
              "      <td>190</td>\n",
              "      <td>874</td>\n",
              "    </tr>\n",
              "    <tr>\n",
              "      <th>3</th>\n",
              "      <td>200</td>\n",
              "      <td>919</td>\n",
              "    </tr>\n",
              "    <tr>\n",
              "      <th>4</th>\n",
              "      <td>40</td>\n",
              "      <td>459</td>\n",
              "    </tr>\n",
              "    <tr>\n",
              "      <th>5</th>\n",
              "      <td>70</td>\n",
              "      <td>739</td>\n",
              "    </tr>\n",
              "    <tr>\n",
              "      <th>6</th>\n",
              "      <td>54</td>\n",
              "      <td>653</td>\n",
              "    </tr>\n",
              "    <tr>\n",
              "      <th>7</th>\n",
              "      <td>150</td>\n",
              "      <td>902</td>\n",
              "    </tr>\n",
              "    <tr>\n",
              "      <th>8</th>\n",
              "      <td>120</td>\n",
              "      <td>746</td>\n",
              "    </tr>\n",
              "    <tr>\n",
              "      <th>9</th>\n",
              "      <td>110</td>\n",
              "      <td>832</td>\n",
              "    </tr>\n",
              "  </tbody>\n",
              "</table>\n",
              "</div>"
            ],
            "text/plain": [
              "    zp   ks\n",
              "0   35  401\n",
              "1   45  574\n",
              "2  190  874\n",
              "3  200  919\n",
              "4   40  459\n",
              "5   70  739\n",
              "6   54  653\n",
              "7  150  902\n",
              "8  120  746\n",
              "9  110  832"
            ]
          },
          "metadata": {
            "tags": []
          }
        },
        {
          "output_type": "stream",
          "text": [
            "\n",
            "Ковариация с помощью элементарных действий: 9157.84\n",
            "Ковариация с помощью numpy: 9157.84\n",
            "Ковариация с помощью pandas: 9157.84\n",
            "\n",
            "коэффициент корреляции Пирсона с помощью элементарных действий: 0.88749\n",
            "коэффициент корреляции Пирсона с помощью numpy: 0.88749\n",
            "коэффициент корреляции Пирсона с помощью pandas: 0.88749\n"
          ],
          "name": "stdout"
        }
      ]
    },
    {
      "cell_type": "markdown",
      "metadata": {
        "id": "XcUwSzNZH8AE"
      },
      "source": [
        "### Задание 2"
      ]
    },
    {
      "cell_type": "markdown",
      "metadata": {
        "id": "Z1e4KWGsH8Vj"
      },
      "source": [
        "Измерены значения IQ выборки студентов,\n",
        "обучающихся в местных технических вузах:\n",
        "131, 125, 115, 122, 131, 115, 107, 99, 125, 111.\n",
        "Известно, что в генеральной совокупности IQ распределен нормально.\n",
        "Найдите доверительный интервал для математического ожидания с надежностью 0.95."
      ]
    },
    {
      "cell_type": "code",
      "metadata": {
        "id": "UotnjtdoH8ot",
        "colab": {
          "base_uri": "https://localhost:8080/"
        },
        "outputId": "c6fca047-2843-471b-9315-30f0abcbbac3"
      },
      "source": [
        "iq = np.array([131, 125, 115, 122, 131, 115, 107, 99, 125, 111])\n",
        "interval = 0.95\n",
        "\n",
        "alpha = 1 - interval # 0.05\n",
        "n = len(iq) # число измерений = 10\n",
        "v = n - 1  # число степений свободы = 9\n",
        "\n",
        "# Найдем по таблице значение критерия t при alpha / 2 = 0.05 / 2 = 0.025 и v = 9\n",
        "t = 2.262\n",
        "\n",
        "mu = iq.mean() # среднее по выборке\n",
        "sigma = iq.std(ddof=1) # стандартное отклонение выборки\n",
        "\n",
        "left = mu - t * sigma / sqrt(n)\n",
        "right = mu + t * sigma / sqrt(n)\n",
        "\n",
        "print(f\"Границы доверительного интервала с надежностью 95%: [{round(left, 2)};{round(right, 2)}]\")"
      ],
      "execution_count": 29,
      "outputs": [
        {
          "output_type": "stream",
          "text": [
            "Границы доверительного интервала с надежностью 95%: [110.56;125.64]\n"
          ],
          "name": "stdout"
        }
      ]
    },
    {
      "cell_type": "markdown",
      "metadata": {
        "id": "nwd3CwRUH80b"
      },
      "source": [
        "### Задание 3"
      ]
    },
    {
      "cell_type": "markdown",
      "metadata": {
        "id": "BQgiebg-H9DE"
      },
      "source": [
        "Известно, что рост футболистов в сборной распределен нормально\n",
        "с дисперсией генеральной совокупности, равной 25 кв.см. Объем выборки равен 27,\n",
        "среднее выборочное составляет 174.2. Найдите доверительный интервал для математического ожидания с надежностью 0,95"
      ]
    },
    {
      "cell_type": "code",
      "metadata": {
        "id": "iK9Xy3WFIJ4S",
        "colab": {
          "base_uri": "https://localhost:8080/"
        },
        "outputId": "21808325-9cfc-46fb-a3d9-9905471b3b72"
      },
      "source": [
        "var = 25 # дисперсия ГС\n",
        "n = 27 # объем выборки\n",
        "mu_0 = 174.2 # среднее выборочное\n",
        "interval = 0.95 # надежность\n",
        "\n",
        "std = sqrt(var) # стандартное отклонение ГС\n",
        "# Так как доверительный интервал 0.95, то статистический уровень значимости равен 0.05\n",
        "# Найдем по таблице накопленного нормального распределения значение критерия z при 0.95 + 0.05 / 2 = 0.975\n",
        "z = 1.96\n",
        "\n",
        "# Границы доверительного интервала\n",
        "left = mu_0 - z * std / sqrt(n)\n",
        "right = mu_0 + z * std / sqrt(n)\n",
        "\n",
        "print(f\"Границы доверительного интервала с надежностью 95%: [{round(left, 2)};{round(right, 2)}]\")"
      ],
      "execution_count": 32,
      "outputs": [
        {
          "output_type": "stream",
          "text": [
            "Границы доверительного интервала с надежностью 95%: [172.31;176.09]\n"
          ],
          "name": "stdout"
        }
      ]
    }
  ]
}