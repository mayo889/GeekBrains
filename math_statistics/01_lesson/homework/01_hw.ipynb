{
  "nbformat": 4,
  "nbformat_minor": 0,
  "metadata": {
    "colab": {
      "name": "01_hw.ipynb",
      "provenance": [],
      "collapsed_sections": []
    },
    "kernelspec": {
      "name": "python3",
      "display_name": "Python 3"
    },
    "language_info": {
      "name": "python"
    }
  },
  "cells": [
    {
      "cell_type": "markdown",
      "metadata": {
        "id": "KFgFjbTLlv-S"
      },
      "source": [
        "## Урок 1. Домашнее задание"
      ]
    },
    {
      "cell_type": "markdown",
      "metadata": {
        "id": "JeXQvwD_l0Dr"
      },
      "source": [
        "### Задание 1"
      ]
    },
    {
      "cell_type": "markdown",
      "metadata": {
        "id": "0u7nj6pTl3b0"
      },
      "source": [
        "Из колоды в 52 карты извлекаются случайным образом 4 карты."
      ]
    },
    {
      "cell_type": "markdown",
      "metadata": {
        "id": "JNtM9xuqmlaO"
      },
      "source": [
        "a) Найти вероятность того, что все карты – крести. "
      ]
    },
    {
      "cell_type": "code",
      "metadata": {
        "id": "1ozougyenlTg"
      },
      "source": [
        "from math import factorial\n",
        "\n",
        "def combinations(n, k):\n",
        "    return int(factorial(n) / (factorial(k) * factorial(n - k)))"
      ],
      "execution_count": 1,
      "outputs": []
    },
    {
      "cell_type": "code",
      "metadata": {
        "colab": {
          "base_uri": "https://localhost:8080/"
        },
        "id": "lGZ2cmi9lydy",
        "outputId": "802fda16-5f2e-42a1-e979-f4f32b666168"
      },
      "source": [
        "# Число благоприятных исходов - это количество сочетаний 4 карт из 13 крестовых карт\n",
        "m = combinations(13, 4)\n",
        "print(f\"m - {m}\")\n",
        "\n",
        "# Общее число исходов - это количество сочетаний 4 карт из 52 карт\n",
        "n = combinations(52, 4)\n",
        "print(f\"n - {n}\")\n",
        "\n",
        "# Вероятность, что выбранные 4 карты крести:\n",
        "p = round(m / n, 5)\n",
        "print(f\"Ответ: {p} или {p * 100}%\")"
      ],
      "execution_count": 19,
      "outputs": [
        {
          "output_type": "stream",
          "text": [
            "m - 715\n",
            "n - 270725\n",
            "Ответ: 0.00264 или 0.264%\n"
          ],
          "name": "stdout"
        }
      ]
    },
    {
      "cell_type": "markdown",
      "metadata": {
        "id": "2oy3hWmcmmc0"
      },
      "source": [
        "б) Найти вероятность, что среди 4-х карт окажется хотя бы один туз."
      ]
    },
    {
      "cell_type": "code",
      "metadata": {
        "colab": {
          "base_uri": "https://localhost:8080/"
        },
        "id": "FmJoTdZ-mmyB",
        "outputId": "b839204f-c332-4cbd-cf5f-4149f6e1e8b8"
      },
      "source": [
        "# в res суммируем вероятности, что среди 4 карт 1, 2, 3 или 4 туза\n",
        "res = 0\n",
        "\n",
        "for i in range(1, 5):\n",
        "    # количество вариантов взять i тузов из 4 карт\n",
        "    m_ace = combinations(4, i)\n",
        "\n",
        "    # количество вариантов взять (4 - i) нетузовых карт из 48 карт\n",
        "    m_not_ace = combinations(48, 4 - i)\n",
        "\n",
        "    # прибавляем вероятность\n",
        "    res += m_ace * m_not_ace\n",
        "\n",
        "# делим суммарную вероятность благоприятных исходов на общее количество исходов\n",
        "n = combinations(52, 4)\n",
        "res = round(res / n, 3)\n",
        "\n",
        "print(f\"Ответ: {res} или {res * 100}%\")"
      ],
      "execution_count": 17,
      "outputs": [
        {
          "output_type": "stream",
          "text": [
            "Ответ: 0.281 или 28.1%\n"
          ],
          "name": "stdout"
        }
      ]
    },
    {
      "cell_type": "markdown",
      "metadata": {
        "id": "75beHeKMsztP"
      },
      "source": [
        "### Задание 2"
      ]
    },
    {
      "cell_type": "markdown",
      "metadata": {
        "id": "WjvQa0iSs8i-"
      },
      "source": [
        "На входной двери подъезда установлен кодовый замок, содержащий десять кнопок с цифрами от 0 до 9. Код содержит три цифры, которые нужно нажать одновременно. Какова вероятность того, что человек, не знающий код, откроет дверь с первой попытки?"
      ]
    },
    {
      "cell_type": "code",
      "metadata": {
        "colab": {
          "base_uri": "https://localhost:8080/"
        },
        "id": "9wCLlcyns1hQ",
        "outputId": "bf4e8234-1f36-4922-bfcf-0249b4c675c8"
      },
      "source": [
        "# Так как цифры необходимо нажать одновременно, то нам не важен порядок выбранный 3 цифр\n",
        "\n",
        "# Общее количество вариантов нажать 3 кнопки из 10\n",
        "n = combinations(10, 3)\n",
        "\n",
        "# Нам подойдет только 1 код, то есть количество благоприятных исходов равняется 1\n",
        "m = 1\n",
        "\n",
        "# вероятность того, что человек, не знающий код, откроет дверь с первой попытки\n",
        "p = round(m / n, 3)\n",
        "\n",
        "print(f\"Ответ: {p} или {p * 100}%\")"
      ],
      "execution_count": 16,
      "outputs": [
        {
          "output_type": "stream",
          "text": [
            "Ответ: 0.008 или 0.8%\n"
          ],
          "name": "stdout"
        }
      ]
    },
    {
      "cell_type": "markdown",
      "metadata": {
        "id": "nR2RkYmtuZ-9"
      },
      "source": [
        "### Задание 3"
      ]
    },
    {
      "cell_type": "markdown",
      "metadata": {
        "id": "pxupmQf5ucBR"
      },
      "source": [
        "В ящике имеется 15 деталей, из которых 9 окрашены. Рабочий случайным образом извлекает 3 детали. Какова вероятность того, что все извлеченные детали окрашены?"
      ]
    },
    {
      "cell_type": "code",
      "metadata": {
        "colab": {
          "base_uri": "https://localhost:8080/"
        },
        "id": "9FM6Pj7QuJ41",
        "outputId": "336a3b53-bb3b-4300-ae05-cc9838035058"
      },
      "source": [
        "m = 9 # количество окрашенных деталей\n",
        "n = 15 # общее количество деталей\n",
        "\n",
        "p = 1\n",
        "\n",
        "num_details = 3 # количество окрашенных деталей, которое необходимо извлечь\n",
        "\n",
        "for i in range(num_details):\n",
        "    # вероятность извлечь 1 окрашенную деталь из имеющегося набора деталей\n",
        "    p_i = m / n\n",
        "\n",
        "    # уменьшаем количество деталей\n",
        "    m -= 1\n",
        "    n -= 1\n",
        "\n",
        "    # перемножаем вероятности независимых событий\n",
        "    p *= p_i\n",
        "\n",
        "p = round(p, 3)\n",
        "\n",
        "print(f\"Ответ: {p} или {p * 100}%\")"
      ],
      "execution_count": 21,
      "outputs": [
        {
          "output_type": "stream",
          "text": [
            "Ответ: 0.185 или 18.5%\n"
          ],
          "name": "stdout"
        }
      ]
    },
    {
      "cell_type": "markdown",
      "metadata": {
        "id": "7xTILhmHwUAQ"
      },
      "source": [
        "### Задание 4"
      ]
    },
    {
      "cell_type": "markdown",
      "metadata": {
        "id": "DSI-F4QjwVix"
      },
      "source": [
        "В лотерее 100 билетов. Из них 2 выигрышных. Какова вероятность того, что 2 приобретенных билета окажутся выигрышными?"
      ]
    },
    {
      "cell_type": "code",
      "metadata": {
        "colab": {
          "base_uri": "https://localhost:8080/"
        },
        "id": "VcF7wz-2uY0t",
        "outputId": "0fd10f83-b0f8-4f77-ed3a-9c9eb3aed8fb"
      },
      "source": [
        "# количество вариантов выбрать 2 билета из 100\n",
        "n = combinations(100, 2)\n",
        "\n",
        "# количество благоприятных исходов равняется 1, так как имеется всего 2 выигрышных билета\n",
        "m = 1\n",
        "\n",
        "# вероятность того, что 2 приобретенных билета окажутся выигрышными\n",
        "p = round(m / n, 6)\n",
        "\n",
        "print(f\"Ответ: {p} или {p * 100}%\")"
      ],
      "execution_count": 24,
      "outputs": [
        {
          "output_type": "stream",
          "text": [
            "Ответ: 0.000202 или 0.0202%\n"
          ],
          "name": "stdout"
        }
      ]
    }
  ]
}