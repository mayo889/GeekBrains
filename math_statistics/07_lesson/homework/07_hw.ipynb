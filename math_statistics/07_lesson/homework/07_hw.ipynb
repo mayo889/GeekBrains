{
  "nbformat": 4,
  "nbformat_minor": 0,
  "metadata": {
    "colab": {
      "name": "07_hw.ipynb",
      "provenance": [],
      "collapsed_sections": [],
      "authorship_tag": "ABX9TyPgN9DmMaV/JF4uA7R+3m/g"
    },
    "kernelspec": {
      "name": "python3",
      "display_name": "Python 3"
    },
    "language_info": {
      "name": "python"
    }
  },
  "cells": [
    {
      "cell_type": "markdown",
      "metadata": {
        "id": "gDaFKlK0wn4Y"
      },
      "source": [
        "## Домашнее задание к уроку №7"
      ]
    },
    {
      "cell_type": "code",
      "metadata": {
        "id": "PIRTrahDxZyX"
      },
      "source": [
        "import numpy as np\n",
        "import matplotlib.pyplot as plt"
      ],
      "execution_count": 61,
      "outputs": []
    },
    {
      "cell_type": "markdown",
      "metadata": {
        "id": "k3_weNrxwo9u"
      },
      "source": [
        "### Задание 1\n",
        "Даны значения величины заработной платы заемщиков банка (zp) и значения их поведенческого кредитного скоринга (ks): zp = [35, 45, 190, 200, 40, 70, 54, 150, 120, 110], ks = [401, 574, 874, 919, 459, 739, 653, 902, 746, 832]. Используя математические операции, посчитать коэффициенты линейной регрессии, приняв за X заработную плату (то есть, zp - признак), а за y - значения скорингового балла (то есть, ks - целевая переменная). Произвести расчет как с использованием intercept, так и без."
      ]
    },
    {
      "cell_type": "code",
      "metadata": {
        "colab": {
          "base_uri": "https://localhost:8080/"
        },
        "id": "0KuRy06kxpb3",
        "outputId": "75076e12-f244-41ed-a810-1db1d5c07e3d"
      },
      "source": [
        "\"\"\"\n",
        "Уравнение линейной регрессии\n",
        "y = a + b * x\n",
        "\"\"\"\n",
        "zp = np.array([35, 45, 190, 200, 40, 70, 54, 150, 120, 110])\n",
        "ks = np.array([401, 574, 874, 919, 459, 739, 653, 902, 746, 832])\n",
        "\n",
        "# По формуле\n",
        "b = (np.mean(zp * ks) - np.mean(zp) * np.mean(ks)) / (np.mean(zp ** 2) - np.mean(zp) ** 2)\n",
        "a = ks.mean() - b * zp.mean()\n",
        "print(f\"ks = {round(a, 2)} + {round(b, 2)} * zp\")\n",
        "\n",
        "# Матричный способ\n",
        "ks = ks[:, np.newaxis]\n",
        "zp = zp[:, np.newaxis]\n",
        "zp = np.hstack((np.ones((len(zp), 1)), zp))\n",
        "\n",
        "b = (np.linalg.inv(zp.T @ zp) @ zp.T @ ks).squeeze()\n",
        "print(f\"ks = {round(b[0], 2)} + {round(b[1], 2)} * zp\")"
      ],
      "execution_count": 58,
      "outputs": [
        {
          "output_type": "stream",
          "text": [
            "ks = 444.18 + 2.62 * zp\n",
            "ks = 444.18 + 2.62 * zp\n"
          ],
          "name": "stdout"
        }
      ]
    },
    {
      "cell_type": "code",
      "metadata": {
        "colab": {
          "base_uri": "https://localhost:8080/"
        },
        "id": "dJB8yO7p1pnw",
        "outputId": "f8ddd06c-d11a-451e-8a88-0100e14bdbeb"
      },
      "source": [
        "\"\"\"\n",
        "Уравнение линейной регрессии\n",
        "y = b * x\n",
        "\"\"\"\n",
        "zp = np.array([35, 45, 190, 200, 40, 70, 54, 150, 120, 110]).reshape(-1, 1)\n",
        "ks = np.array([401, 574, 874, 919, 459, 739, 653, 902, 746, 832]).reshape(-1, 1)\n",
        "\n",
        "b = (np.linalg.inv(zp.T @ zp) @ zp.T @ ks).squeeze(1)\n",
        "\n",
        "print(f\"ks = {round(b[0], 2)} * zp\")"
      ],
      "execution_count": 59,
      "outputs": [
        {
          "output_type": "stream",
          "text": [
            "ks = 5.89 * zp\n"
          ],
          "name": "stdout"
        }
      ]
    },
    {
      "cell_type": "code",
      "metadata": {
        "colab": {
          "base_uri": "https://localhost:8080/",
          "height": 388
        },
        "id": "e9AGhgwK6lFY",
        "outputId": "e850fbe8-ae0a-4f52-92a2-487b2e4f68d3"
      },
      "source": [
        "plt.figure(figsize=(15, 6))\n",
        "plt.scatter(zp, ks, c='red')\n",
        "plt.plot(zp, 444.18 + 2.62 * zp)\n",
        "plt.plot(zp, 5.89 * zp)\n",
        "plt.xlabel('Заработная плата')\n",
        "plt.ylabel('Поведенческий кредитный скоринг')\n",
        "plt.legend(['y = a + b * x', 'y = b * x'])\n",
        "plt.show()"
      ],
      "execution_count": 65,
      "outputs": [
        {
          "output_type": "display_data",
          "data": {
            "image/png": "[encoded data removed]",
            "text/plain": [
              "<Figure size 1080x432 with 1 Axes>"
            ]
          },
          "metadata": {
            "tags": [],
            "needs_background": "light"
          }
        }
      ]
    },
    {
      "cell_type": "markdown",
      "metadata": {
        "id": "Q5cy5S4bwrL-"
      },
      "source": [
        "### Задание 2\n",
        "Посчитать коэффициент линейной регрессии при заработной плате (zp), используя градиентный спуск (без intercept)."
      ]
    },
    {
      "cell_type": "code",
      "metadata": {
        "colab": {
          "base_uri": "https://localhost:8080/"
        },
        "id": "Uxs2bNqzwriZ",
        "outputId": "603cd7f3-9aa7-4bdb-bc26-f2f18ccc81c4"
      },
      "source": [
        "\"\"\"\n",
        "Уравнение линейной регрессии\n",
        "y = b1 * x\n",
        "\"\"\"\n",
        "zp = np.array([35, 45, 190, 200, 40, 70, 54, 150, 120, 110])\n",
        "ks = np.array([401, 574, 874, 919, 459, 739, 653, 902, 746, 832])\n",
        "n = len(zp)\n",
        "\n",
        "# Функция потерь - MSE\n",
        "def mse(b1, x, y, n):\n",
        "    return np.sum((b1 * x - y) ** 2) / n\n",
        "# Производная функции потерь по b1: 2 * np.sum(x * (b1 * x - y)) / n\n",
        "\n",
        "# learning rate\n",
        "lr = 1e-6\n",
        "\n",
        "# инициализация веса случайным образом\n",
        "b1 = np.random.uniform(-3, 3)\n",
        "\n",
        "# количество эпох (итераций)\n",
        "epochs = 500\n",
        "\n",
        "for epoch in range(epochs + 1):\n",
        "    b1 -= lr * 2 / n * np.sum(zp * (b1 * zp - ks))\n",
        "    if epoch % 100 == 0:\n",
        "        print(f\"Iteration: {epoch}, b1: {b1}, loss_mse: {mse(b1, zp, ks, n)}\")\n",
        "\n",
        "print(f\"\\nks = {round(b1, 2)} * zp\")"
      ],
      "execution_count": 89,
      "outputs": [
        {
          "output_type": "stream",
          "text": [
            "Iteration: 0, b1: -2.0700119147185747, loss_mse: 929387.5044604475\n",
            "Iteration: 100, b1: 5.402865145879012, loss_mse: 59783.64074034785\n",
            "Iteration: 200, b1: 5.86003016461622, loss_mse: 56529.08458783879\n",
            "Iteration: 300, b1: 5.8879979543526515, loss_mse: 56516.90417306406\n",
            "Iteration: 400, b1: 5.889708927919485, loss_mse: 56516.85858696963\n",
            "Iteration: 500, b1: 5.889813599421024, loss_mse: 56516.858416360315\n",
            "\n",
            "ks = 5.89 * zp\n"
          ],
          "name": "stdout"
        }
      ]
    },
    {
      "cell_type": "markdown",
      "metadata": {
        "id": "TxvZKGcpFYWe"
      },
      "source": [
        "При матричном расчете получили ks = 5.89 * zp\n",
        "\n",
        "Функция потерь сошлась"
      ]
    },
    {
      "cell_type": "markdown",
      "metadata": {
        "id": "sFMWqpguwrsG"
      },
      "source": [
        "### Задание 3\n",
        "Произвести вычисления как в пункте 2, но с вычислением intercept. Учесть, что изменение коэффициентов должно производиться на каждом шаге одновременно (то есть изменение одного коэффициента не должно влиять на изменение другого во время одной итерации)"
      ]
    },
    {
      "cell_type": "code",
      "metadata": {
        "colab": {
          "base_uri": "https://localhost:8080/"
        },
        "id": "S5XNtTYRwr-Y",
        "outputId": "fe6e84cd-ca49-44a5-b0b8-cb39d103f5b6"
      },
      "source": [
        "\"\"\"\n",
        "Уравнение линейной регрессии\n",
        "y = b0 + b1 * x\n",
        "\"\"\"\n",
        "zp = np.array([35, 45, 190, 200, 40, 70, 54, 150, 120, 110])\n",
        "ks = np.array([401, 574, 874, 919, 459, 739, 653, 902, 746, 832])\n",
        "n = len(zp)\n",
        "\n",
        "# Функция потерь - MSE\n",
        "def mse(b0, b1, x, y, n):\n",
        "    return np.sum((b0 + b1 * x - y) ** 2) / n\n",
        "# Производная функции потерь по b0: 2 * np.sum(b0 + b1 * x - y) / n\n",
        "# Производная функции потерь по b1: 2 * np.sum(x * (b0 + b1 * x - y)) / n\n",
        "\n",
        "# learning rate\n",
        "lr = 1e-5\n",
        "\n",
        "# инициализация веса случайным образом\n",
        "b0 = np.random.uniform(-3, 3)\n",
        "b1 = np.random.uniform(-3, 3)\n",
        "\n",
        "# количество эпох (итераций)\n",
        "epochs = 2000000\n",
        "\n",
        "for epoch in range(epochs + 1):\n",
        "    b0 -= lr * 2 * np.sum(b0 + b1 * zp - ks) / n\n",
        "    b1 -= lr * 2 * np.sum(zp * (b0 + b1 * zp - ks)) / n\n",
        "    if epoch % 500000 == 0:\n",
        "        print(f\"Iteration: {epoch}, b0: {b0}, b1: {b1}, loss_mse: {mse(b0, b1, zp, ks, n)}\")\n",
        "\n",
        "print(f\"\\nks = {round(b0, 2)} + {round(b1, 2)} * zp\")"
      ],
      "execution_count": 109,
      "outputs": [
        {
          "output_type": "stream",
          "text": [
            "Iteration: 0, b0: -2.3989155923341454, b1: 2.720894478349299, loss_mse: 196950.75765675656\n",
            "Iteration: 500000, b0: 408.83784353497055, b1: 2.880652008874362, loss_mse: 6787.211547467648\n",
            "Iteration: 1000000, b0: 441.3806417240271, b1: 2.6411238412957996, loss_mse: 6472.39827124206\n",
            "Iteration: 1500000, b0: 443.95602948731926, b1: 2.6221679448740507, loss_mse: 6470.426627208853\n",
            "Iteration: 2000000, b0: 444.15984177453214, b1: 2.620667803939565, loss_mse: 6470.41427899965\n",
            "\n",
            "ks = 444.16 + 2.62 * zp\n"
          ],
          "name": "stdout"
        }
      ]
    },
    {
      "cell_type": "markdown",
      "metadata": {
        "id": "sgBkp8HuEkxV"
      },
      "source": [
        "При матричном расчете получили ks = 444.18 + 2.62 * zp\n",
        "\n",
        "Функция потерь сошлась"
      ]
    }
  ]
}