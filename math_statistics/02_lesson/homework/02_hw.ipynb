{
  "nbformat": 4,
  "nbformat_minor": 0,
  "metadata": {
    "colab": {
      "name": "02_hw.ipynb",
      "provenance": [],
      "collapsed_sections": [],
      "authorship_tag": "ABX9TyOrbuPEMCWPo313xn12aiYd",
      "include_colab_link": true
    },
    "kernelspec": {
      "name": "python3",
      "display_name": "Python 3"
    },
    "language_info": {
      "name": "python"
    }
  },
  "cells": [
    {
      "cell_type": "markdown",
      "metadata": {
        "id": "view-in-github",
        "colab_type": "text"
      },
      "source": [
        "<a href=\"https://colab.research.google.com/github/mayo889/math/blob/main/math_statistics/02_lesson/homework/02_hw.ipynb\" target=\"_parent\"><img src=\"https://colab.research.google.com/assets/colab-badge.svg\" alt=\"Open In Colab\"/></a>"
      ]
    },
    {
      "cell_type": "markdown",
      "metadata": {
        "id": "d8lWyldc_atv"
      },
      "source": [
        "## Домашнее задание к уроку №2"
      ]
    },
    {
      "cell_type": "code",
      "metadata": {
        "id": "vU2criZqAPng"
      },
      "source": [
        "from math import factorial, exp\n",
        "\n",
        "def combinations(n, k):\n",
        "    return int(factorial(n) / (factorial(k) * factorial(n - k)))"
      ],
      "execution_count": 8,
      "outputs": []
    },
    {
      "cell_type": "markdown",
      "metadata": {
        "id": "Pg7qphQj_fyp"
      },
      "source": [
        "### Задание 1"
      ]
    },
    {
      "cell_type": "markdown",
      "metadata": {
        "id": "DoH78gvX_iom"
      },
      "source": [
        "Вероятность того, что стрелок попадет в мишень, выстрелив один раз, равна 0.8. Стрелок выстрелил 100 раз. Найдите вероятность того, что стрелок попадет в цель ровно 85 раз."
      ]
    },
    {
      "cell_type": "code",
      "metadata": {
        "colab": {
          "base_uri": "https://localhost:8080/"
        },
        "id": "oLk_7NWv_eF4",
        "outputId": "2e0384a4-d51f-409b-f2fa-c40668ef5d98"
      },
      "source": [
        "# Распределение данной случайной величины подчиняется биномиальному распределению\n",
        "# В данном случае:\n",
        "p = 0.8 # вероятность попасть в мишень в отдельном испытании\n",
        "q = 1 - p # вероятность не попасть в мишень в отдельном испытании\n",
        "k = 85 # количество необходимых попаданий\n",
        "n = 100 # количество выстрелов\n",
        "\n",
        "P_n = combinations(n, k) * (p ** k) * (q ** (n - k))\n",
        "print(f\"Ответ: {round(P_n, 5)}\")"
      ],
      "execution_count": 6,
      "outputs": [
        {
          "output_type": "stream",
          "text": [
            "Ответ: 0.04806\n"
          ],
          "name": "stdout"
        }
      ]
    },
    {
      "cell_type": "markdown",
      "metadata": {
        "id": "TMpEMfTzCGnn"
      },
      "source": [
        "### Задание 2"
      ]
    },
    {
      "cell_type": "markdown",
      "metadata": {
        "id": "zVwVMng5CIwG"
      },
      "source": [
        "Вероятность того, что лампочка перегорит в течение первого дня эксплуатации, равна 0.0004. В жилом комплексе после ремонта в один день включили 5000 новых лампочек."
      ]
    },
    {
      "cell_type": "markdown",
      "metadata": {
        "id": "9wbj8TeQCQ7-"
      },
      "source": [
        "Какова вероятность, что ни одна из них не перегорит в первый день?"
      ]
    },
    {
      "cell_type": "code",
      "metadata": {
        "colab": {
          "base_uri": "https://localhost:8080/"
        },
        "id": "2b-4iaF5BDot",
        "outputId": "37e783ab-7769-4bdf-c3cf-db52d69697e5"
      },
      "source": [
        "# Так как вероятность наступления события (перегорание лампочки) очень низкое, то\n",
        "# распределение данной случайной величины подчиняется распределению Пуассона\n",
        "p = 0.0004 # вероятность того, что лампочка перегорит в течение первого дня эксплуатации\n",
        "n = 5000 # количество включенных одновременно лампочек\n",
        "m = 0 # необходимо, чтобы ни одна лампочка не перегорела\n",
        "\n",
        "lmbd = p * n # в среднем перегорит столько при подключении 5000 лампочек\n",
        "\n",
        "P_m = lmbd ** m * exp(-lmbd) / factorial(m)\n",
        "\n",
        "print(f\"Ответ: {round(P_m, 5)}\")"
      ],
      "execution_count": 9,
      "outputs": [
        {
          "output_type": "stream",
          "text": [
            "Ответ: 0.13534\n"
          ],
          "name": "stdout"
        }
      ]
    },
    {
      "cell_type": "markdown",
      "metadata": {
        "id": "CxfPuMU2CSrf"
      },
      "source": [
        "Какова вероятность, что перегорят ровно две?"
      ]
    },
    {
      "cell_type": "code",
      "metadata": {
        "colab": {
          "base_uri": "https://localhost:8080/"
        },
        "id": "tSBxLZEJCS6j",
        "outputId": "f0847496-ccaf-41b0-a052-d57f47e424b5"
      },
      "source": [
        "m = 2\n",
        "\n",
        "P_m = lmbd ** m * exp(-lmbd) / factorial(m)\n",
        "\n",
        "print(f\"Ответ: {round(P_m, 5)}\")"
      ],
      "execution_count": 10,
      "outputs": [
        {
          "output_type": "stream",
          "text": [
            "Ответ: 0.27067\n"
          ],
          "name": "stdout"
        }
      ]
    },
    {
      "cell_type": "markdown",
      "metadata": {
        "id": "ijBeh92XD_HS"
      },
      "source": [
        "### Задание 3"
      ]
    },
    {
      "cell_type": "markdown",
      "metadata": {
        "id": "czpyNRGyECJa"
      },
      "source": [
        "Монету подбросили 144 раза. Какова вероятность, что орел выпадет ровно 70 раз?"
      ]
    },
    {
      "cell_type": "code",
      "metadata": {
        "colab": {
          "base_uri": "https://localhost:8080/"
        },
        "id": "7ZxSdOTLD8KO",
        "outputId": "a9c0831b-20b4-4f0e-aefb-fd6899708477"
      },
      "source": [
        "# Распределение данной случайной величины подчиняется биномиальному распределению\n",
        "# Так как вероятность выпадения орла 0.5\n",
        "p = 0.5\n",
        "q = 1 - p\n",
        "n = 144\n",
        "k = 70\n",
        "\n",
        "P_n = combinations(n, k) * (p ** k) * (q ** (n - k))\n",
        "print(f\"Ответ: {round(P_n, 5)}\")"
      ],
      "execution_count": 11,
      "outputs": [
        {
          "output_type": "stream",
          "text": [
            "Ответ: 0.06281\n"
          ],
          "name": "stdout"
        }
      ]
    },
    {
      "cell_type": "markdown",
      "metadata": {
        "id": "XQGDJF0_EaWA"
      },
      "source": [
        "# Задание 4"
      ]
    },
    {
      "cell_type": "markdown",
      "metadata": {
        "id": "juYn8Q4gEcNp"
      },
      "source": [
        "В первом ящике находится 10 мячей, из которых 7 - белые. Во втором ящике - 11 мячей, из которых 9 белых. Из каждого ящика вытаскивают случайным образом по два мяча."
      ]
    },
    {
      "cell_type": "markdown",
      "metadata": {
        "id": "xSlB9XbXEf7A"
      },
      "source": [
        "Какова вероятность того, что все мячи белые?"
      ]
    },
    {
      "cell_type": "code",
      "metadata": {
        "colab": {
          "base_uri": "https://localhost:8080/"
        },
        "id": "QhLEwq2FEUjh",
        "outputId": "1bffcee3-fe01-4bb1-a6ff-dc1e71c08087"
      },
      "source": [
        "# Данные события являются совместными, поэтому будем находить вероятность вытаскивания\n",
        "# из каждой корзины, и перемножать вероятности, так как нас интересует\n",
        "# одновременное наступление событий\n",
        "\n",
        "# то есть из 1 корзины - 2 белых, из 2 корзины - 2 белых\n",
        "\n",
        "p_1 = combinations(7, 2) / combinations(10, 2)\n",
        "p_2 = combinations(9, 2) / combinations(11, 2)\n",
        "\n",
        "p_res = p_1 * p_2\n",
        "print(f\"Ответ: {round(p_res, 5)}\")"
      ],
      "execution_count": 13,
      "outputs": [
        {
          "output_type": "stream",
          "text": [
            "Ответ: 0.30545\n"
          ],
          "name": "stdout"
        }
      ]
    },
    {
      "cell_type": "markdown",
      "metadata": {
        "id": "9tG583z8EhgK"
      },
      "source": [
        "Какова вероятность того, что ровно два мяча белые?"
      ]
    },
    {
      "cell_type": "code",
      "metadata": {
        "colab": {
          "base_uri": "https://localhost:8080/"
        },
        "id": "jRF_5kxnEiRK",
        "outputId": "be9548f0-a4cd-4380-ff04-7d3684d339bc"
      },
      "source": [
        "# возможны следующие 3 случая:\n",
        "\n",
        "# из 1 корзины - 2 белых, из 2 корзины - 0 белых (2 черных)\n",
        "p_1 = combinations(7, 2) / combinations(10, 2)\n",
        "p_2 = combinations(2, 2) / combinations(11, 2)\n",
        "case_1 = p_1 * p_2\n",
        "\n",
        "# из 1 корзины - 0 белых (2 черных), из 2 корзины - 2 белых\n",
        "p_1 = combinations(3, 2) / combinations(10, 2)\n",
        "p_2 = combinations(9, 2) / combinations(11, 2)\n",
        "case_2 = p_1 * p_2\n",
        "\n",
        "# из 1 корзины - 1 белый и 1 черный, из 2 корзины - 1 белый и 1 черный\n",
        "p_1 = combinations(7, 1) * combinations(2, 1) / combinations(10, 2)\n",
        "p_2 = combinations(9, 1) * combinations(3, 1) / combinations(11, 2)\n",
        "case_3 = p_1 * p_2\n",
        "\n",
        "# Сложим вероятности каждого случая, так как эти 3 случая \n",
        "# являются несовместимыми событиями\n",
        "p_res = case_1 + case_2 + case_3\n",
        "print(f\"Ответ: {round(p_res, 5)}\")"
      ],
      "execution_count": 19,
      "outputs": [
        {
          "output_type": "stream",
          "text": [
            "Ответ: 0.20485\n"
          ],
          "name": "stdout"
        }
      ]
    },
    {
      "cell_type": "markdown",
      "metadata": {
        "id": "uL_B04auEirL"
      },
      "source": [
        "Какова вероятность того, что хотя бы один мяч белый?"
      ]
    },
    {
      "cell_type": "code",
      "metadata": {
        "colab": {
          "base_uri": "https://localhost:8080/"
        },
        "id": "JrCdJqpQEjDA",
        "outputId": "0d97b69f-7a89-411f-f68d-45b83733f376"
      },
      "source": [
        "# Решим от обратного\n",
        "# Сформулируем задачу так, что нам нужно вытащить ни одного белого мяча\n",
        "# То есть из 1 корзины - 2 черных, из 2 корзины - 2 черных\n",
        "p_1 = combinations(3, 2) / combinations(10, 2)\n",
        "p_2 = combinations(2, 2) / combinations(11, 2)\n",
        "\n",
        "p_no_white = p_1 * p_2\n",
        "\n",
        "# тогда вероятность вытащить хотя бы 1 белый:\n",
        "p_res = 1 - p_no_white\n",
        "print(f\"Ответ: {round(p_res, 5)}\")"
      ],
      "execution_count": 14,
      "outputs": [
        {
          "output_type": "stream",
          "text": [
            "Ответ: 0.99879\n"
          ],
          "name": "stdout"
        }
      ]
    }
  ]
}