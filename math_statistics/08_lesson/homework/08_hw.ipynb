{
  "nbformat": 4,
  "nbformat_minor": 0,
  "metadata": {
    "colab": {
      "name": "08_hw.ipynb",
      "provenance": [],
      "collapsed_sections": [],
      "authorship_tag": "ABX9TyO48D8p5H2fBZX+CQo+vZWv"
    },
    "kernelspec": {
      "name": "python3",
      "display_name": "Python 3"
    },
    "language_info": {
      "name": "python"
    }
  },
  "cells": [
    {
      "cell_type": "markdown",
      "metadata": {
        "id": "zU5Z9r_ishR1"
      },
      "source": [
        "## Домашнее задание к уроку 8"
      ]
    },
    {
      "cell_type": "markdown",
      "metadata": {
        "id": "8PJZm9JKsksn"
      },
      "source": [
        "### Задание 1\n",
        "Провести дисперсионный анализ для определения того, есть ли различия среднего роста среди взрослых футболистов, хоккеистов и штангистов. Даны значения роста в трех группах случайно выбранных спортсменов: Футболисты: 173, 175, 180, 178, 177, 185, 183, 182. Хоккеисты: 177, 179, 180, 188, 177, 172, 171, 184, 180. Штангисты: 172, 173, 169, 177, 166, 180, 178, 177, 172, 166, 170."
      ]
    },
    {
      "cell_type": "code",
      "metadata": {
        "id": "yPLAStKmvBVP"
      },
      "source": [
        "import numpy as np\n",
        "from scipy import stats"
      ],
      "execution_count": 2,
      "outputs": []
    },
    {
      "cell_type": "code",
      "metadata": {
        "colab": {
          "base_uri": "https://localhost:8080/"
        },
        "id": "lblmb_enskUj",
        "outputId": "bd7ea4d3-d34a-4748-af4d-3111a491781b"
      },
      "source": [
        "fb = np.array([173, 175, 180, 178, 177, 185, 183, 182])\n",
        "hk = np.array([177, 179, 180, 188, 177, 172, 171, 184, 180])\n",
        "wl = np.array([172, 173, 169, 177, 166, 180, 178, 177, 172, 166, 170])\n",
        "\n",
        "stats.f_oneway(fb, hk, wl)"
      ],
      "execution_count": 5,
      "outputs": [
        {
          "output_type": "execute_result",
          "data": {
            "text/plain": [
              "F_onewayResult(statistic=5.500053450812596, pvalue=0.010482206918698694)"
            ]
          },
          "metadata": {
            "tags": []
          },
          "execution_count": 5
        }
      ]
    },
    {
      "cell_type": "markdown",
      "metadata": {
        "id": "CnBmLPaQxVlg"
      },
      "source": [
        "Сформулируем гипотезы\n",
        "\n",
        "*   Нулевая гипотеза H0: mu1 = mu2 = mu3\n",
        "*   Альтернативная гипотеза H1: mu1 != mu2 != mu3\n",
        "\n",
        "Примем статистический уровень значимости\n",
        "\n",
        "*   равный 5%, то есть alpha = 0.05\n",
        "\n",
        "> Так как 0.05 > 0.01048, то различие между группами статистически **значимо**, то есть принимаем альтернативную гипотезу.\n",
        "\n",
        "> Вывод: **существует** различие среднего роста среди взрослых футболистов, хоккеистов и штангистов\n",
        "\n",
        "*   равный 1%, то есть alpha = 0.01\n",
        "\n",
        "> Так как 0.01 < 0.01048, то различие между группами статистически **незначимо**, то есть принимаем нулевую гипотезу.\n",
        "\n",
        "> Вывод: **не существует** различия среднего роста среди взрослых футболистов, хоккеистов и штангистов"
      ]
    }
  ]
}