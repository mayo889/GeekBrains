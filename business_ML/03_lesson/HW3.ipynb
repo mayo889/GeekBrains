{
 "cells": [
  {
   "cell_type": "markdown",
   "metadata": {},
   "source": [
    "### Практическая работа к уроку № 3"
   ]
  },
  {
   "cell_type": "code",
   "execution_count": 87,
   "metadata": {},
   "outputs": [],
   "source": [
    "import numpy as np\n",
    "import pandas as pd\n",
    "\n",
    "from sklearn.pipeline import Pipeline\n",
    "from sklearn.base import BaseEstimator, TransformerMixin\n",
    "from sklearn.preprocessing import StandardScaler\n",
    "from sklearn.pipeline import FeatureUnion\n",
    "\n",
    "from sklearn.model_selection import cross_validate\n",
    "\n",
    "from sklearn.neighbors import KNeighborsClassifier\n",
    "from sklearn.ensemble import RandomForestClassifier, GradientBoostingClassifier\n",
    "from sklearn.svm import SVC\n",
    "from sklearn.linear_model import LogisticRegression"
   ]
  },
  {
   "cell_type": "markdown",
   "metadata": {},
   "source": [
    "1. обучить несколько разных моделей на наборе данных ССЗ (train_case2.csv): логрег, бустинг, лес и т.д - на ваш выбор 2-3 варианта\n",
    "2. при обучении моделей обязательно использовать кроссвалидацию\n",
    "3. вывести сравнение полученных моделей по основным метрикам классификации: pr/rec/auc/f_score (можно в виде таблицы, где строки - модели, а столбцы - метрики)\n",
    "4. сделать выводы о том, какая модель справилась с задачей лучше других"
   ]
  },
  {
   "cell_type": "code",
   "execution_count": 36,
   "metadata": {},
   "outputs": [],
   "source": [
    "df = pd.read_csv('train_case2.csv', ';')\n",
    "df.head(3)\n",
    "\n",
    "# Так как обучать будем с помощью кросс валидации, то разбивать на train/test не будем\n",
    "X, y = df.drop('cardio', 1), df['cardio']"
   ]
  },
  {
   "cell_type": "code",
   "execution_count": 38,
   "metadata": {},
   "outputs": [],
   "source": [
    "class ColumnSelector(BaseEstimator, TransformerMixin):\n",
    "    \"\"\"\n",
    "    Transformer to select a single column from the data frame to perform additional transformations on\n",
    "    \"\"\"\n",
    "    def __init__(self, key):\n",
    "        self.key = key\n",
    "\n",
    "    def fit(self, X, y=None):\n",
    "        return self\n",
    "\n",
    "    def transform(self, X):\n",
    "        return X[self.key]\n",
    "    \n",
    "class NumberSelector(BaseEstimator, TransformerMixin):\n",
    "    \"\"\"\n",
    "    Transformer to select a single column from the data frame to perform additional transformations on\n",
    "    Use on numeric columns in the data\n",
    "    \"\"\"\n",
    "    def __init__(self, key):\n",
    "        self.key = key\n",
    "\n",
    "    def fit(self, X, y=None):\n",
    "        return self\n",
    "\n",
    "    def transform(self, X):\n",
    "        return X[[self.key]]\n",
    "    \n",
    "class OHEEncoder(BaseEstimator, TransformerMixin):\n",
    "    def __init__(self, key):\n",
    "        self.key = key\n",
    "        self.columns = []\n",
    "\n",
    "    def fit(self, X, y=None):\n",
    "        self.columns = [col for col in pd.get_dummies(X, prefix=self.key).columns]\n",
    "        return self\n",
    "\n",
    "    def transform(self, X):\n",
    "        X = pd.get_dummies(X, prefix=self.key)\n",
    "        test_columns = [col for col in X.columns]\n",
    "        for col_ in test_columns:\n",
    "            if col_ not in self.columns:\n",
    "                X[col_] = 0\n",
    "        return X[self.columns]\n",
    "\n",
    "continuos_cols = ['age', 'height', 'weight', 'ap_hi', 'ap_lo']\n",
    "cat_cols = ['gender', 'cholesterol']\n",
    "base_cols = ['gluc', 'smoke', 'alco', 'active']\n",
    "\n",
    "continuos_transformers = []\n",
    "cat_transformers = []\n",
    "base_transformers = []\n",
    "\n",
    "for cont_col in continuos_cols:\n",
    "    transfomer =  Pipeline([\n",
    "                ('selector', NumberSelector(key=cont_col)),\n",
    "                ('standard', StandardScaler())\n",
    "            ])\n",
    "    continuos_transformers.append((cont_col, transfomer))\n",
    "    \n",
    "for cat_col in cat_cols:\n",
    "    cat_transformer = Pipeline([\n",
    "                ('selector', ColumnSelector(key=cat_col)),\n",
    "                ('ohe', OHEEncoder(key=cat_col))\n",
    "            ])\n",
    "    cat_transformers.append((cat_col, cat_transformer))\n",
    "    \n",
    "for base_col in base_cols:\n",
    "    base_transformer = Pipeline([\n",
    "                ('selector', NumberSelector(key=base_col))\n",
    "            ])\n",
    "    base_transformers.append((base_col, base_transformer))\n",
    "\n",
    "\n",
    "# Объединим все наши трансформеры\n",
    "feats = FeatureUnion(continuos_transformers+cat_transformers+base_transformers)\n",
    "feature_processing = Pipeline([('feats', feats)])"
   ]
  },
  {
   "cell_type": "code",
   "execution_count": 72,
   "metadata": {},
   "outputs": [],
   "source": [
    "def train(name, classifier, all_scores):\n",
    "    print(f\"Train {name}\")\n",
    "    scores = cross_validate(classifier, X, y, cv=5,\n",
    "                            scoring=('roc_auc', 'precision', 'recall', 'f1'),\n",
    "                            n_jobs=-1)\n",
    "\n",
    "    scores = {k: v.mean() for k, v in scores.items()}\n",
    "    \n",
    "    all_scores.update({name: {k: v for k, v in scores.items() if k.startswith(\"test_\")}})\n",
    "    \n",
    "    return all_scores"
   ]
  },
  {
   "cell_type": "code",
   "execution_count": 82,
   "metadata": {},
   "outputs": [],
   "source": [
    "classifier_1 = Pipeline([\n",
    "    ('features',feats),\n",
    "    ('classifier', LogisticRegression(random_state = 42))\n",
    "])\n",
    "classifier_2 = Pipeline([\n",
    "    ('features',feats),\n",
    "    ('classifier', RandomForestClassifier(random_state = 42))\n",
    "])\n",
    "classifier_3 = Pipeline([\n",
    "    ('features',feats),\n",
    "    ('classifier', KNeighborsClassifier())\n",
    "])\n",
    "classifier_4 = Pipeline([\n",
    "    ('features',feats),\n",
    "    ('classifier', GradientBoostingClassifier(random_state = 42))\n",
    "])\n",
    "classifier_5 = Pipeline([\n",
    "    ('features',feats),\n",
    "    ('classifier', SVC(random_state = 42))\n",
    "])\n",
    "\n",
    "classifiers = {\"LogisticRegression\": classifier_1,\n",
    "               \"RandomForestClassifier\": classifier_2,\n",
    "               \"KNeighborsClassifier\": classifier_3,\n",
    "               \"GradientBoostingClassifier\": classifier_4,\n",
    "               \"SVC\": classifier_5}"
   ]
  },
  {
   "cell_type": "code",
   "execution_count": 83,
   "metadata": {},
   "outputs": [
    {
     "name": "stdout",
     "output_type": "stream",
     "text": [
      "Train LogisticRegression\n",
      "Train RandomForestClassifier\n",
      "Train KNeighborsClassifier\n",
      "Train GradientBoostingClassifier\n",
      "Train SVC\n"
     ]
    }
   ],
   "source": [
    "all_scores = {}\n",
    "for name_classifier, classifier in classifiers.items():\n",
    "    all_scores = train(name_classifier, classifier, all_scores)"
   ]
  },
  {
   "cell_type": "code",
   "execution_count": 85,
   "metadata": {},
   "outputs": [
    {
     "data": {
      "text/html": [
       "<div>\n",
       "<style scoped>\n",
       "    .dataframe tbody tr th:only-of-type {\n",
       "        vertical-align: middle;\n",
       "    }\n",
       "\n",
       "    .dataframe tbody tr th {\n",
       "        vertical-align: top;\n",
       "    }\n",
       "\n",
       "    .dataframe thead th {\n",
       "        text-align: right;\n",
       "    }\n",
       "</style>\n",
       "<table border=\"1\" class=\"dataframe\">\n",
       "  <thead>\n",
       "    <tr style=\"text-align: right;\">\n",
       "      <th></th>\n",
       "      <th>test_roc_auc</th>\n",
       "      <th>test_precision</th>\n",
       "      <th>test_recall</th>\n",
       "      <th>test_f1</th>\n",
       "    </tr>\n",
       "  </thead>\n",
       "  <tbody>\n",
       "    <tr>\n",
       "      <th>GradientBoostingClassifier</th>\n",
       "      <td>0.802611</td>\n",
       "      <td>0.754593</td>\n",
       "      <td>0.698934</td>\n",
       "      <td>0.725688</td>\n",
       "    </tr>\n",
       "    <tr>\n",
       "      <th>SVC</th>\n",
       "      <td>0.789840</td>\n",
       "      <td>0.746546</td>\n",
       "      <td>0.700763</td>\n",
       "      <td>0.722921</td>\n",
       "    </tr>\n",
       "    <tr>\n",
       "      <th>LogisticRegression</th>\n",
       "      <td>0.784314</td>\n",
       "      <td>0.742284</td>\n",
       "      <td>0.676434</td>\n",
       "      <td>0.707807</td>\n",
       "    </tr>\n",
       "    <tr>\n",
       "      <th>RandomForestClassifier</th>\n",
       "      <td>0.773342</td>\n",
       "      <td>0.718259</td>\n",
       "      <td>0.700392</td>\n",
       "      <td>0.709210</td>\n",
       "    </tr>\n",
       "    <tr>\n",
       "      <th>KNeighborsClassifier</th>\n",
       "      <td>0.696247</td>\n",
       "      <td>0.659038</td>\n",
       "      <td>0.631807</td>\n",
       "      <td>0.645132</td>\n",
       "    </tr>\n",
       "  </tbody>\n",
       "</table>\n",
       "</div>"
      ],
      "text/plain": [
       "                            test_roc_auc  test_precision  test_recall  \\\n",
       "GradientBoostingClassifier      0.802611        0.754593     0.698934   \n",
       "SVC                             0.789840        0.746546     0.700763   \n",
       "LogisticRegression              0.784314        0.742284     0.676434   \n",
       "RandomForestClassifier          0.773342        0.718259     0.700392   \n",
       "KNeighborsClassifier            0.696247        0.659038     0.631807   \n",
       "\n",
       "                             test_f1  \n",
       "GradientBoostingClassifier  0.725688  \n",
       "SVC                         0.722921  \n",
       "LogisticRegression          0.707807  \n",
       "RandomForestClassifier      0.709210  \n",
       "KNeighborsClassifier        0.645132  "
      ]
     },
     "execution_count": 85,
     "metadata": {},
     "output_type": "execute_result"
    }
   ],
   "source": [
    "result_df = pd.DataFrame.from_dict(all_scores, orient=\"index\")\n",
    "result_df.sort_values(by=[\"test_roc_auc\"], inplace=True, ascending=False)\n",
    "result_df"
   ]
  },
  {
   "cell_type": "markdown",
   "metadata": {},
   "source": [
    "5. (опциональный вопрос) какой график (precision_recall_curve или roc_auc_curve) больше подходит в случае сильного дисбаланса классов? (когда объектов одного из классов намного больше чем другого, например, 1 к 1000).\n",
    "p.s.В вопросе проще разобраться, если вспомнить оси на графике roc auc curve и рассмотреть такой пример:\n",
    "\n",
    "Имеется 100000 объектов, из которых только 100 - класс \"1\" (99900 - класс \"0\", соответственно).\n",
    "Допустим, у нас две модели:\n",
    "\n",
    "первая помечает 100 объектов как класс 1, но TP = 90<br>\n",
    "вторая помечает 1000 объектов как класс 1, но TP такой же - 90<br>\n",
    "Какая модель лучше и почему? И что позволяет легче сделать вывод - roc_auc_curve или precision_recall_curve?"
   ]
  },
  {
   "cell_type": "markdown",
   "metadata": {},
   "source": [
    "#### Ответ\n",
    "Посчитаем метрики качества для каждой модели:<br>\n",
    "    1. precision = 90/100=0.9; recall=90/100=0.9<br>\n",
    "    2. precision = 90/1000=0.09; recall=90/100=0.9<br>\n",
    "Очевидно, что первая модель лучше.\n",
    "\n",
    "Если бы мы строили roc_auc кривую, то результат был бы хороший на обеих моделях,\n",
    "потому что количество возможных шагов по вертикальной оси зависит от количества объектов класса 1.\n",
    "А эти объекты в одинаковом количестве распознали обе модели.\n",
    "\n",
    "Таким образом, в случае дисбаланса классов для оценки качества лучше подойдет precision_recall_curve"
   ]
  }
 ],
 "metadata": {
  "kernelspec": {
   "display_name": "Python 3",
   "language": "python",
   "name": "python3"
  },
  "language_info": {
   "codemirror_mode": {
    "name": "ipython",
    "version": 3
   },
   "file_extension": ".py",
   "mimetype": "text/x-python",
   "name": "python",
   "nbconvert_exporter": "python",
   "pygments_lexer": "ipython3",
   "version": "3.8.5"
  }
 },
 "nbformat": 4,
 "nbformat_minor": 4
}
