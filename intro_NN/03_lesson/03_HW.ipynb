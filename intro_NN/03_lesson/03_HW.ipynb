{
  "nbformat": 4,
  "nbformat_minor": 0,
  "metadata": {
    "colab": {
      "name": "03_HW.ipynb",
      "provenance": [],
      "collapsed_sections": []
    },
    "kernelspec": {
      "name": "python3",
      "display_name": "Python 3"
    },
    "language_info": {
      "name": "python"
    },
    "accelerator": "GPU"
  },
  "cells": [
    {
      "cell_type": "markdown",
      "source": [
        "## Практическая работа к занятию №3"
      ],
      "metadata": {
        "id": "RlRTnUY12iXn"
      }
    },
    {
      "cell_type": "markdown",
      "source": [
        "1. Постройте нейронную сеть(берем простую линейную сеть, которую разбирали на уроке: меняем число слоев, число нейронов , типы активации, тип оптимизатора)  на датасет from sklearn.datasets import load_boston. \n",
        "2. Измените функцию потерь и метрику для этой задачи. Постройте 10-15 вариантов и сведите результаты их работы в таблицу  Опишите, какого результата вы добились от нейросети? Что помогло вам улучшить ее точность?"
      ],
      "metadata": {
        "id": "jeStLafW4BNh"
      }
    },
    {
      "cell_type": "markdown",
      "source": [
        "Датасет load_boston является устаревшим и содержит определенные проблемы в данных, указанные в документации sklearn. По рекомендациям sklearn взял аналогичный датасет fetch_california_housing"
      ],
      "metadata": {
        "id": "fQhmMonf5DG4"
      }
    },
    {
      "cell_type": "code",
      "execution_count": 1,
      "metadata": {
        "id": "DZAgUa1c1jhr"
      },
      "outputs": [],
      "source": [
        "import numpy as np\n",
        "import pandas as pd\n",
        "import matplotlib.pyplot as plt\n",
        "\n",
        "from sklearn.datasets import fetch_california_housing\n",
        "from sklearn.model_selection import train_test_split\n",
        "\n",
        "import tensorflow as tf\n",
        "from tensorflow import keras\n",
        "from tensorflow.keras.models import Sequential\n",
        "from tensorflow.keras.layers import Dense"
      ]
    },
    {
      "cell_type": "code",
      "source": [
        "!nvidia-smi"
      ],
      "metadata": {
        "colab": {
          "base_uri": "https://localhost:8080/"
        },
        "id": "f5Zv24og-FZA",
        "outputId": "6fce3d18-f393-48df-c253-438f6c0356b1"
      },
      "execution_count": 2,
      "outputs": [
        {
          "output_type": "stream",
          "name": "stdout",
          "text": [
            "Tue Feb 15 22:03:24 2022       \n",
            "+-----------------------------------------------------------------------------+\n",
            "| NVIDIA-SMI 460.32.03    Driver Version: 460.32.03    CUDA Version: 11.2     |\n",
            "|-------------------------------+----------------------+----------------------+\n",
            "| GPU  Name        Persistence-M| Bus-Id        Disp.A | Volatile Uncorr. ECC |\n",
            "| Fan  Temp  Perf  Pwr:Usage/Cap|         Memory-Usage | GPU-Util  Compute M. |\n",
            "|                               |                      |               MIG M. |\n",
            "|===============================+======================+======================|\n",
            "|   0  Tesla K80           Off  | 00000000:00:04.0 Off |                    0 |\n",
            "| N/A   57C    P8    27W / 149W |      0MiB / 11441MiB |      0%      Default |\n",
            "|                               |                      |                  N/A |\n",
            "+-------------------------------+----------------------+----------------------+\n",
            "                                                                               \n",
            "+-----------------------------------------------------------------------------+\n",
            "| Processes:                                                                  |\n",
            "|  GPU   GI   CI        PID   Type   Process name                  GPU Memory |\n",
            "|        ID   ID                                                   Usage      |\n",
            "|=============================================================================|\n",
            "|  No running processes found                                                 |\n",
            "+-----------------------------------------------------------------------------+\n"
          ]
        }
      ]
    },
    {
      "cell_type": "code",
      "source": [
        "tf.config.experimental.list_physical_devices(\"GPU\")"
      ],
      "metadata": {
        "colab": {
          "base_uri": "https://localhost:8080/"
        },
        "id": "bCXYHjAJQPWE",
        "outputId": "0e670d28-8022-4df8-aab7-8da6e2623c16"
      },
      "execution_count": 3,
      "outputs": [
        {
          "output_type": "execute_result",
          "data": {
            "text/plain": [
              "[PhysicalDevice(name='/physical_device:GPU:0', device_type='GPU')]"
            ]
          },
          "metadata": {},
          "execution_count": 3
        }
      ]
    },
    {
      "cell_type": "markdown",
      "source": [
        "### Подготовка данных"
      ],
      "metadata": {
        "id": "ayyDb-X46S0N"
      }
    },
    {
      "cell_type": "code",
      "source": [
        "X_data, y_data = fetch_california_housing(return_X_y=True, as_frame=True)"
      ],
      "metadata": {
        "id": "uriNcG524Zpz"
      },
      "execution_count": 4,
      "outputs": []
    },
    {
      "cell_type": "code",
      "source": [
        "X_data.head()"
      ],
      "metadata": {
        "colab": {
          "base_uri": "https://localhost:8080/",
          "height": 206
        },
        "id": "JciPhzFX4VRt",
        "outputId": "85165bf7-d40f-4767-e91f-3390c6c9cedf"
      },
      "execution_count": 5,
      "outputs": [
        {
          "output_type": "execute_result",
          "data": {
            "text/html": [
              "\n",
              "  <div id=\"df-77f8695d-02dd-448d-9982-63c133421f50\">\n",
              "    <div class=\"colab-df-container\">\n",
              "      <div>\n",
              "<style scoped>\n",
              "    .dataframe tbody tr th:only-of-type {\n",
              "        vertical-align: middle;\n",
              "    }\n",
              "\n",
              "    .dataframe tbody tr th {\n",
              "        vertical-align: top;\n",
              "    }\n",
              "\n",
              "    .dataframe thead th {\n",
              "        text-align: right;\n",
              "    }\n",
              "</style>\n",
              "<table border=\"1\" class=\"dataframe\">\n",
              "  <thead>\n",
              "    <tr style=\"text-align: right;\">\n",
              "      <th></th>\n",
              "      <th>MedInc</th>\n",
              "      <th>HouseAge</th>\n",
              "      <th>AveRooms</th>\n",
              "      <th>AveBedrms</th>\n",
              "      <th>Population</th>\n",
              "      <th>AveOccup</th>\n",
              "      <th>Latitude</th>\n",
              "      <th>Longitude</th>\n",
              "    </tr>\n",
              "  </thead>\n",
              "  <tbody>\n",
              "    <tr>\n",
              "      <th>0</th>\n",
              "      <td>8.3252</td>\n",
              "      <td>41.0</td>\n",
              "      <td>6.984127</td>\n",
              "      <td>1.023810</td>\n",
              "      <td>322.0</td>\n",
              "      <td>2.555556</td>\n",
              "      <td>37.88</td>\n",
              "      <td>-122.23</td>\n",
              "    </tr>\n",
              "    <tr>\n",
              "      <th>1</th>\n",
              "      <td>8.3014</td>\n",
              "      <td>21.0</td>\n",
              "      <td>6.238137</td>\n",
              "      <td>0.971880</td>\n",
              "      <td>2401.0</td>\n",
              "      <td>2.109842</td>\n",
              "      <td>37.86</td>\n",
              "      <td>-122.22</td>\n",
              "    </tr>\n",
              "    <tr>\n",
              "      <th>2</th>\n",
              "      <td>7.2574</td>\n",
              "      <td>52.0</td>\n",
              "      <td>8.288136</td>\n",
              "      <td>1.073446</td>\n",
              "      <td>496.0</td>\n",
              "      <td>2.802260</td>\n",
              "      <td>37.85</td>\n",
              "      <td>-122.24</td>\n",
              "    </tr>\n",
              "    <tr>\n",
              "      <th>3</th>\n",
              "      <td>5.6431</td>\n",
              "      <td>52.0</td>\n",
              "      <td>5.817352</td>\n",
              "      <td>1.073059</td>\n",
              "      <td>558.0</td>\n",
              "      <td>2.547945</td>\n",
              "      <td>37.85</td>\n",
              "      <td>-122.25</td>\n",
              "    </tr>\n",
              "    <tr>\n",
              "      <th>4</th>\n",
              "      <td>3.8462</td>\n",
              "      <td>52.0</td>\n",
              "      <td>6.281853</td>\n",
              "      <td>1.081081</td>\n",
              "      <td>565.0</td>\n",
              "      <td>2.181467</td>\n",
              "      <td>37.85</td>\n",
              "      <td>-122.25</td>\n",
              "    </tr>\n",
              "  </tbody>\n",
              "</table>\n",
              "</div>\n",
              "      <button class=\"colab-df-convert\" onclick=\"convertToInteractive('df-77f8695d-02dd-448d-9982-63c133421f50')\"\n",
              "              title=\"Convert this dataframe to an interactive table.\"\n",
              "              style=\"display:none;\">\n",
              "        \n",
              "  <svg xmlns=\"http://www.w3.org/2000/svg\" height=\"24px\"viewBox=\"0 0 24 24\"\n",
              "       width=\"24px\">\n",
              "    <path d=\"M0 0h24v24H0V0z\" fill=\"none\"/>\n",
              "    <path d=\"M18.56 5.44l.94 2.06.94-2.06 2.06-.94-2.06-.94-.94-2.06-.94 2.06-2.06.94zm-11 1L8.5 8.5l.94-2.06 2.06-.94-2.06-.94L8.5 2.5l-.94 2.06-2.06.94zm10 10l.94 2.06.94-2.06 2.06-.94-2.06-.94-.94-2.06-.94 2.06-2.06.94z\"/><path d=\"M17.41 7.96l-1.37-1.37c-.4-.4-.92-.59-1.43-.59-.52 0-1.04.2-1.43.59L10.3 9.45l-7.72 7.72c-.78.78-.78 2.05 0 2.83L4 21.41c.39.39.9.59 1.41.59.51 0 1.02-.2 1.41-.59l7.78-7.78 2.81-2.81c.8-.78.8-2.07 0-2.86zM5.41 20L4 18.59l7.72-7.72 1.47 1.35L5.41 20z\"/>\n",
              "  </svg>\n",
              "      </button>\n",
              "      \n",
              "  <style>\n",
              "    .colab-df-container {\n",
              "      display:flex;\n",
              "      flex-wrap:wrap;\n",
              "      gap: 12px;\n",
              "    }\n",
              "\n",
              "    .colab-df-convert {\n",
              "      background-color: #E8F0FE;\n",
              "      border: none;\n",
              "      border-radius: 50%;\n",
              "      cursor: pointer;\n",
              "      display: none;\n",
              "      fill: #1967D2;\n",
              "      height: 32px;\n",
              "      padding: 0 0 0 0;\n",
              "      width: 32px;\n",
              "    }\n",
              "\n",
              "    .colab-df-convert:hover {\n",
              "      background-color: #E2EBFA;\n",
              "      box-shadow: 0px 1px 2px rgba(60, 64, 67, 0.3), 0px 1px 3px 1px rgba(60, 64, 67, 0.15);\n",
              "      fill: #174EA6;\n",
              "    }\n",
              "\n",
              "    [theme=dark] .colab-df-convert {\n",
              "      background-color: #3B4455;\n",
              "      fill: #D2E3FC;\n",
              "    }\n",
              "\n",
              "    [theme=dark] .colab-df-convert:hover {\n",
              "      background-color: #434B5C;\n",
              "      box-shadow: 0px 1px 3px 1px rgba(0, 0, 0, 0.15);\n",
              "      filter: drop-shadow(0px 1px 2px rgba(0, 0, 0, 0.3));\n",
              "      fill: #FFFFFF;\n",
              "    }\n",
              "  </style>\n",
              "\n",
              "      <script>\n",
              "        const buttonEl =\n",
              "          document.querySelector('#df-77f8695d-02dd-448d-9982-63c133421f50 button.colab-df-convert');\n",
              "        buttonEl.style.display =\n",
              "          google.colab.kernel.accessAllowed ? 'block' : 'none';\n",
              "\n",
              "        async function convertToInteractive(key) {\n",
              "          const element = document.querySelector('#df-77f8695d-02dd-448d-9982-63c133421f50');\n",
              "          const dataTable =\n",
              "            await google.colab.kernel.invokeFunction('convertToInteractive',\n",
              "                                                     [key], {});\n",
              "          if (!dataTable) return;\n",
              "\n",
              "          const docLinkHtml = 'Like what you see? Visit the ' +\n",
              "            '<a target=\"_blank\" href=https://colab.research.google.com/notebooks/data_table.ipynb>data table notebook</a>'\n",
              "            + ' to learn more about interactive tables.';\n",
              "          element.innerHTML = '';\n",
              "          dataTable['output_type'] = 'display_data';\n",
              "          await google.colab.output.renderOutput(dataTable, element);\n",
              "          const docLink = document.createElement('div');\n",
              "          docLink.innerHTML = docLinkHtml;\n",
              "          element.appendChild(docLink);\n",
              "        }\n",
              "      </script>\n",
              "    </div>\n",
              "  </div>\n",
              "  "
            ],
            "text/plain": [
              "   MedInc  HouseAge  AveRooms  ...  AveOccup  Latitude  Longitude\n",
              "0  8.3252      41.0  6.984127  ...  2.555556     37.88    -122.23\n",
              "1  8.3014      21.0  6.238137  ...  2.109842     37.86    -122.22\n",
              "2  7.2574      52.0  8.288136  ...  2.802260     37.85    -122.24\n",
              "3  5.6431      52.0  5.817352  ...  2.547945     37.85    -122.25\n",
              "4  3.8462      52.0  6.281853  ...  2.181467     37.85    -122.25\n",
              "\n",
              "[5 rows x 8 columns]"
            ]
          },
          "metadata": {},
          "execution_count": 5
        }
      ]
    },
    {
      "cell_type": "code",
      "source": [
        "y_data.head()"
      ],
      "metadata": {
        "colab": {
          "base_uri": "https://localhost:8080/"
        },
        "id": "NhoM2olL533W",
        "outputId": "e65261c9-61df-44e0-dbb2-08ad69680177"
      },
      "execution_count": 6,
      "outputs": [
        {
          "output_type": "execute_result",
          "data": {
            "text/plain": [
              "0    4.526\n",
              "1    3.585\n",
              "2    3.521\n",
              "3    3.413\n",
              "4    3.422\n",
              "Name: MedHouseVal, dtype: float64"
            ]
          },
          "metadata": {},
          "execution_count": 6
        }
      ]
    },
    {
      "cell_type": "code",
      "source": [
        "X_data, y_data = fetch_california_housing(return_X_y=True, as_frame=False)"
      ],
      "metadata": {
        "id": "L7fHrzYh8jcx"
      },
      "execution_count": 7,
      "outputs": []
    },
    {
      "cell_type": "code",
      "source": [
        "print(X_data.shape, y_data.shape)"
      ],
      "metadata": {
        "colab": {
          "base_uri": "https://localhost:8080/"
        },
        "id": "-Jeu6bFZ53od",
        "outputId": "3a2f98f4-1be9-4de1-a695-c8f0c380ede3"
      },
      "execution_count": 8,
      "outputs": [
        {
          "output_type": "stream",
          "name": "stdout",
          "text": [
            "(20640, 8) (20640,)\n"
          ]
        }
      ]
    },
    {
      "cell_type": "code",
      "source": [
        "X_train, X_test, y_train, y_test = train_test_split(X_data, y_data,\n",
        "                                                    test_size=0.3,\n",
        "                                                    random_state=42)"
      ],
      "metadata": {
        "id": "lgSEtgHW6QkP"
      },
      "execution_count": 9,
      "outputs": []
    },
    {
      "cell_type": "markdown",
      "source": [
        "### Архитектура модели"
      ],
      "metadata": {
        "id": "jFo6IOGg8Wzt"
      }
    },
    {
      "cell_type": "code",
      "source": [
        "def create_model(activation):\n",
        "    normalizer = tf.keras.layers.Normalization()\n",
        "    normalizer.adapt(X_train)\n",
        "\n",
        "    model = keras.Sequential([\n",
        "        normalizer,             \n",
        "        keras.layers.Dense(1024, activation=activation, \n",
        "                           input_shape=(X_train.shape[1],)),\n",
        "        keras.layers.Dense(512, activation=activation),\n",
        "        keras.layers.Dense(512, activation=activation),\n",
        "        keras.layers.Dense(512, activation=activation),\n",
        "        keras.layers.Dense(1, activation=activation)\n",
        "    ])\n",
        "\n",
        "    return model\n",
        "\n",
        "def get_model(activation, optimizer, loss):\n",
        "    model = create_model(activation)\n",
        "    model.load_weights(f\"{activation}.h5\")\n",
        "\n",
        "    model.compile(optimizer=optimizer,\n",
        "                  loss=loss,\n",
        "                  metrics=[tf.keras.metrics.MeanAbsoluteError(),\n",
        "                           tf.keras.metrics.MeanSquaredError()])\n",
        "\n",
        "    return model"
      ],
      "metadata": {
        "id": "MQfdMLpE68Pi"
      },
      "execution_count": 10,
      "outputs": []
    },
    {
      "cell_type": "markdown",
      "source": [
        "Инициализируем 2 модели с разными функциями активациями: linear и ReLU. Сохраним их веса, чтобы в дальнейшем при переборе других параметров, подгружать одинаковые стартовые веса"
      ],
      "metadata": {
        "id": "KeyDmzvPGhZn"
      }
    },
    {
      "cell_type": "code",
      "source": [
        "model = create_model('linear')\n",
        "model.save_weights('linear.h5')\n",
        "model.summary()"
      ],
      "metadata": {
        "colab": {
          "base_uri": "https://localhost:8080/"
        },
        "id": "JPlHFrqS9mb4",
        "outputId": "f11b7879-c7d1-4b8b-9ac3-3748f52c69a6"
      },
      "execution_count": 11,
      "outputs": [
        {
          "output_type": "stream",
          "name": "stdout",
          "text": [
            "Model: \"sequential\"\n",
            "_________________________________________________________________\n",
            " Layer (type)                Output Shape              Param #   \n",
            "=================================================================\n",
            " normalization (Normalizatio  (None, 8)                17        \n",
            " n)                                                              \n",
            "                                                                 \n",
            " dense (Dense)               (None, 1024)              9216      \n",
            "                                                                 \n",
            " dense_1 (Dense)             (None, 512)               524800    \n",
            "                                                                 \n",
            " dense_2 (Dense)             (None, 512)               262656    \n",
            "                                                                 \n",
            " dense_3 (Dense)             (None, 512)               262656    \n",
            "                                                                 \n",
            " dense_4 (Dense)             (None, 1)                 513       \n",
            "                                                                 \n",
            "=================================================================\n",
            "Total params: 1,059,858\n",
            "Trainable params: 1,059,841\n",
            "Non-trainable params: 17\n",
            "_________________________________________________________________\n"
          ]
        }
      ]
    },
    {
      "cell_type": "code",
      "source": [
        "model = create_model('relu')\n",
        "model.save_weights('relu.h5')"
      ],
      "metadata": {
        "id": "7x93DRvaHQ0E"
      },
      "execution_count": 12,
      "outputs": []
    },
    {
      "cell_type": "markdown",
      "source": [
        "### Обучение моделей"
      ],
      "metadata": {
        "id": "AqhR8ua7IFNc"
      }
    },
    {
      "cell_type": "code",
      "source": [
        "def train_model(model, epochs=50, batch_size=2048):\n",
        "    train_history = model.fit( \n",
        "        X_train,\n",
        "        y_train,\n",
        "        epochs=epochs,\n",
        "        batch_size=batch_size,\n",
        "        validation_split=0.2,\n",
        "        verbose=0\n",
        "    )\n",
        "    train_logs = model.evaluate(\n",
        "        X_train,\n",
        "        y_train,\n",
        "        verbose=0\n",
        "    )\n",
        "    test_logs = model.evaluate(\n",
        "        X_test,\n",
        "        y_test,\n",
        "        verbose=0\n",
        "    )\n",
        "    return train_history, train_logs, test_logs"
      ],
      "metadata": {
        "id": "TtM2Tmt8HUnS"
      },
      "execution_count": 13,
      "outputs": []
    },
    {
      "cell_type": "code",
      "source": [
        "loss_grid = ['mse', 'mae']\n",
        "\n",
        "optimizer_grid = ['Adam', 'SGD', 'RMSProp', 'Adagrad']\n",
        "\n",
        "activation_grid = ['relu', 'linear']"
      ],
      "metadata": {
        "id": "wrtEuk8rIz-w"
      },
      "execution_count": 14,
      "outputs": []
    },
    {
      "cell_type": "code",
      "source": [
        "results = {}\n",
        "\n",
        "for activation in activation_grid:\n",
        "    for loss in loss_grid:\n",
        "        for optimizer in optimizer_grid:\n",
        "            print(f\"{activation}_{optimizer}_{loss}\")\n",
        "            model = get_model(activation, optimizer, loss)\n",
        "            train_history, train_logs, test_logs = train_model(model)\n",
        "            results[f\"{activation}_{optimizer}_{loss}\"] = {\n",
        "                'train_history': train_history.history,\n",
        "                'train_mae': train_logs[1],\n",
        "                'train_mse': train_logs[2],\n",
        "                'test_mae': test_logs[1],\n",
        "                'test_mse': test_logs[2]\n",
        "            }"
      ],
      "metadata": {
        "colab": {
          "base_uri": "https://localhost:8080/"
        },
        "id": "Zv4MOH1qLsQ9",
        "outputId": "8b1a2143-a254-4af1-f7d6-a398b98a783b"
      },
      "execution_count": 15,
      "outputs": [
        {
          "output_type": "stream",
          "name": "stdout",
          "text": [
            "relu_Adam_mse\n",
            "relu_SGD_mse\n",
            "relu_RMSProp_mse\n",
            "relu_Adagrad_mse\n",
            "relu_Adam_mae\n",
            "relu_SGD_mae\n",
            "relu_RMSProp_mae\n",
            "relu_Adagrad_mae\n",
            "linear_Adam_mse\n",
            "linear_SGD_mse\n",
            "linear_RMSProp_mse\n",
            "linear_Adagrad_mse\n",
            "linear_Adam_mae\n",
            "linear_SGD_mae\n",
            "linear_RMSProp_mae\n",
            "linear_Adagrad_mae\n"
          ]
        }
      ]
    },
    {
      "cell_type": "markdown",
      "source": [
        "### Анализ результатов"
      ],
      "metadata": {
        "id": "HlWqlh6TTUZh"
      }
    },
    {
      "cell_type": "code",
      "source": [
        "df = pd.DataFrame.from_dict(results, orient='index',\n",
        "                            columns=['train_mae', 'train_mse', 'test_mae', 'test_mse'])\n",
        "df.sort_values(by='test_mse', ascending=True, inplace=True)\n",
        "df"
      ],
      "metadata": {
        "colab": {
          "base_uri": "https://localhost:8080/",
          "height": 551
        },
        "id": "u5UsNiEFRIUV",
        "outputId": "98ac3ce5-553a-4c12-c45b-2df1735edd79"
      },
      "execution_count": 16,
      "outputs": [
        {
          "output_type": "execute_result",
          "data": {
            "text/html": [
              "\n",
              "  <div id=\"df-605a0935-1a12-4974-a464-9c16413c8055\">\n",
              "    <div class=\"colab-df-container\">\n",
              "      <div>\n",
              "<style scoped>\n",
              "    .dataframe tbody tr th:only-of-type {\n",
              "        vertical-align: middle;\n",
              "    }\n",
              "\n",
              "    .dataframe tbody tr th {\n",
              "        vertical-align: top;\n",
              "    }\n",
              "\n",
              "    .dataframe thead th {\n",
              "        text-align: right;\n",
              "    }\n",
              "</style>\n",
              "<table border=\"1\" class=\"dataframe\">\n",
              "  <thead>\n",
              "    <tr style=\"text-align: right;\">\n",
              "      <th></th>\n",
              "      <th>train_mae</th>\n",
              "      <th>train_mse</th>\n",
              "      <th>test_mae</th>\n",
              "      <th>test_mse</th>\n",
              "    </tr>\n",
              "  </thead>\n",
              "  <tbody>\n",
              "    <tr>\n",
              "      <th>relu_Adam_mae</th>\n",
              "      <td>0.318612</td>\n",
              "      <td>0.261208</td>\n",
              "      <td>0.346099</td>\n",
              "      <td>0.285190</td>\n",
              "    </tr>\n",
              "    <tr>\n",
              "      <th>relu_Adam_mse</th>\n",
              "      <td>0.339993</td>\n",
              "      <td>0.248990</td>\n",
              "      <td>0.365630</td>\n",
              "      <td>0.285624</td>\n",
              "    </tr>\n",
              "    <tr>\n",
              "      <th>relu_RMSProp_mse</th>\n",
              "      <td>0.370878</td>\n",
              "      <td>0.309506</td>\n",
              "      <td>0.386202</td>\n",
              "      <td>0.332686</td>\n",
              "    </tr>\n",
              "    <tr>\n",
              "      <th>relu_RMSProp_mae</th>\n",
              "      <td>0.422512</td>\n",
              "      <td>0.419827</td>\n",
              "      <td>0.435886</td>\n",
              "      <td>0.435066</td>\n",
              "    </tr>\n",
              "    <tr>\n",
              "      <th>relu_SGD_mse</th>\n",
              "      <td>0.482009</td>\n",
              "      <td>0.452045</td>\n",
              "      <td>0.479806</td>\n",
              "      <td>0.448291</td>\n",
              "    </tr>\n",
              "    <tr>\n",
              "      <th>linear_SGD_mse</th>\n",
              "      <td>0.531098</td>\n",
              "      <td>0.524294</td>\n",
              "      <td>0.527018</td>\n",
              "      <td>0.527874</td>\n",
              "    </tr>\n",
              "    <tr>\n",
              "      <th>linear_Adagrad_mse</th>\n",
              "      <td>0.531479</td>\n",
              "      <td>0.523857</td>\n",
              "      <td>0.527592</td>\n",
              "      <td>0.528515</td>\n",
              "    </tr>\n",
              "    <tr>\n",
              "      <th>linear_Adam_mse</th>\n",
              "      <td>0.528069</td>\n",
              "      <td>0.525617</td>\n",
              "      <td>0.524458</td>\n",
              "      <td>0.534434</td>\n",
              "    </tr>\n",
              "    <tr>\n",
              "      <th>linear_Adagrad_mae</th>\n",
              "      <td>0.515621</td>\n",
              "      <td>0.551291</td>\n",
              "      <td>0.514171</td>\n",
              "      <td>0.564000</td>\n",
              "    </tr>\n",
              "    <tr>\n",
              "      <th>linear_Adam_mae</th>\n",
              "      <td>0.517850</td>\n",
              "      <td>0.770125</td>\n",
              "      <td>0.512531</td>\n",
              "      <td>0.571784</td>\n",
              "    </tr>\n",
              "    <tr>\n",
              "      <th>linear_SGD_mae</th>\n",
              "      <td>0.514585</td>\n",
              "      <td>0.583624</td>\n",
              "      <td>0.512700</td>\n",
              "      <td>0.577702</td>\n",
              "    </tr>\n",
              "    <tr>\n",
              "      <th>relu_SGD_mae</th>\n",
              "      <td>0.524933</td>\n",
              "      <td>0.601797</td>\n",
              "      <td>0.522685</td>\n",
              "      <td>0.586411</td>\n",
              "    </tr>\n",
              "    <tr>\n",
              "      <th>linear_RMSProp_mae</th>\n",
              "      <td>0.532065</td>\n",
              "      <td>0.689572</td>\n",
              "      <td>0.528742</td>\n",
              "      <td>0.614790</td>\n",
              "    </tr>\n",
              "    <tr>\n",
              "      <th>relu_Adagrad_mse</th>\n",
              "      <td>0.589519</td>\n",
              "      <td>0.665037</td>\n",
              "      <td>0.590576</td>\n",
              "      <td>0.658744</td>\n",
              "    </tr>\n",
              "    <tr>\n",
              "      <th>linear_RMSProp_mse</th>\n",
              "      <td>0.611162</td>\n",
              "      <td>0.658115</td>\n",
              "      <td>0.607744</td>\n",
              "      <td>0.674079</td>\n",
              "    </tr>\n",
              "    <tr>\n",
              "      <th>relu_Adagrad_mae</th>\n",
              "      <td>0.715297</td>\n",
              "      <td>1.152840</td>\n",
              "      <td>0.708382</td>\n",
              "      <td>1.014787</td>\n",
              "    </tr>\n",
              "  </tbody>\n",
              "</table>\n",
              "</div>\n",
              "      <button class=\"colab-df-convert\" onclick=\"convertToInteractive('df-605a0935-1a12-4974-a464-9c16413c8055')\"\n",
              "              title=\"Convert this dataframe to an interactive table.\"\n",
              "              style=\"display:none;\">\n",
              "        \n",
              "  <svg xmlns=\"http://www.w3.org/2000/svg\" height=\"24px\"viewBox=\"0 0 24 24\"\n",
              "       width=\"24px\">\n",
              "    <path d=\"M0 0h24v24H0V0z\" fill=\"none\"/>\n",
              "    <path d=\"M18.56 5.44l.94 2.06.94-2.06 2.06-.94-2.06-.94-.94-2.06-.94 2.06-2.06.94zm-11 1L8.5 8.5l.94-2.06 2.06-.94-2.06-.94L8.5 2.5l-.94 2.06-2.06.94zm10 10l.94 2.06.94-2.06 2.06-.94-2.06-.94-.94-2.06-.94 2.06-2.06.94z\"/><path d=\"M17.41 7.96l-1.37-1.37c-.4-.4-.92-.59-1.43-.59-.52 0-1.04.2-1.43.59L10.3 9.45l-7.72 7.72c-.78.78-.78 2.05 0 2.83L4 21.41c.39.39.9.59 1.41.59.51 0 1.02-.2 1.41-.59l7.78-7.78 2.81-2.81c.8-.78.8-2.07 0-2.86zM5.41 20L4 18.59l7.72-7.72 1.47 1.35L5.41 20z\"/>\n",
              "  </svg>\n",
              "      </button>\n",
              "      \n",
              "  <style>\n",
              "    .colab-df-container {\n",
              "      display:flex;\n",
              "      flex-wrap:wrap;\n",
              "      gap: 12px;\n",
              "    }\n",
              "\n",
              "    .colab-df-convert {\n",
              "      background-color: #E8F0FE;\n",
              "      border: none;\n",
              "      border-radius: 50%;\n",
              "      cursor: pointer;\n",
              "      display: none;\n",
              "      fill: #1967D2;\n",
              "      height: 32px;\n",
              "      padding: 0 0 0 0;\n",
              "      width: 32px;\n",
              "    }\n",
              "\n",
              "    .colab-df-convert:hover {\n",
              "      background-color: #E2EBFA;\n",
              "      box-shadow: 0px 1px 2px rgba(60, 64, 67, 0.3), 0px 1px 3px 1px rgba(60, 64, 67, 0.15);\n",
              "      fill: #174EA6;\n",
              "    }\n",
              "\n",
              "    [theme=dark] .colab-df-convert {\n",
              "      background-color: #3B4455;\n",
              "      fill: #D2E3FC;\n",
              "    }\n",
              "\n",
              "    [theme=dark] .colab-df-convert:hover {\n",
              "      background-color: #434B5C;\n",
              "      box-shadow: 0px 1px 3px 1px rgba(0, 0, 0, 0.15);\n",
              "      filter: drop-shadow(0px 1px 2px rgba(0, 0, 0, 0.3));\n",
              "      fill: #FFFFFF;\n",
              "    }\n",
              "  </style>\n",
              "\n",
              "      <script>\n",
              "        const buttonEl =\n",
              "          document.querySelector('#df-605a0935-1a12-4974-a464-9c16413c8055 button.colab-df-convert');\n",
              "        buttonEl.style.display =\n",
              "          google.colab.kernel.accessAllowed ? 'block' : 'none';\n",
              "\n",
              "        async function convertToInteractive(key) {\n",
              "          const element = document.querySelector('#df-605a0935-1a12-4974-a464-9c16413c8055');\n",
              "          const dataTable =\n",
              "            await google.colab.kernel.invokeFunction('convertToInteractive',\n",
              "                                                     [key], {});\n",
              "          if (!dataTable) return;\n",
              "\n",
              "          const docLinkHtml = 'Like what you see? Visit the ' +\n",
              "            '<a target=\"_blank\" href=https://colab.research.google.com/notebooks/data_table.ipynb>data table notebook</a>'\n",
              "            + ' to learn more about interactive tables.';\n",
              "          element.innerHTML = '';\n",
              "          dataTable['output_type'] = 'display_data';\n",
              "          await google.colab.output.renderOutput(dataTable, element);\n",
              "          const docLink = document.createElement('div');\n",
              "          docLink.innerHTML = docLinkHtml;\n",
              "          element.appendChild(docLink);\n",
              "        }\n",
              "      </script>\n",
              "    </div>\n",
              "  </div>\n",
              "  "
            ],
            "text/plain": [
              "                    train_mae  train_mse  test_mae  test_mse\n",
              "relu_Adam_mae        0.318612   0.261208  0.346099  0.285190\n",
              "relu_Adam_mse        0.339993   0.248990  0.365630  0.285624\n",
              "relu_RMSProp_mse     0.370878   0.309506  0.386202  0.332686\n",
              "relu_RMSProp_mae     0.422512   0.419827  0.435886  0.435066\n",
              "relu_SGD_mse         0.482009   0.452045  0.479806  0.448291\n",
              "linear_SGD_mse       0.531098   0.524294  0.527018  0.527874\n",
              "linear_Adagrad_mse   0.531479   0.523857  0.527592  0.528515\n",
              "linear_Adam_mse      0.528069   0.525617  0.524458  0.534434\n",
              "linear_Adagrad_mae   0.515621   0.551291  0.514171  0.564000\n",
              "linear_Adam_mae      0.517850   0.770125  0.512531  0.571784\n",
              "linear_SGD_mae       0.514585   0.583624  0.512700  0.577702\n",
              "relu_SGD_mae         0.524933   0.601797  0.522685  0.586411\n",
              "linear_RMSProp_mae   0.532065   0.689572  0.528742  0.614790\n",
              "relu_Adagrad_mse     0.589519   0.665037  0.590576  0.658744\n",
              "linear_RMSProp_mse   0.611162   0.658115  0.607744  0.674079\n",
              "relu_Adagrad_mae     0.715297   1.152840  0.708382  1.014787"
            ]
          },
          "metadata": {},
          "execution_count": 16
        }
      ]
    },
    {
      "cell_type": "markdown",
      "source": [
        "Однозначно лучшей функцией активации оказался ReLU.\n",
        "\n",
        "По оптимизатору прослеживается следующая явная тенденция. В порядке наилучшего эффекта: Adam - RMSProp - SGD - Adagrad\n",
        "\n",
        "Что использовать в качестве функции ошибки: mae или mse сказать тяжело. В целом результаты похожи. Но, например, relu_SGD с mae на 12 месте, а relu_SGD с mse на 5 месте."
      ],
      "metadata": {
        "id": "CgT7YZv1WG_q"
      }
    },
    {
      "cell_type": "markdown",
      "source": [
        "Посмотрим, как изменялись метрики для 5 лучших моделей"
      ],
      "metadata": {
        "id": "_chA7xQYTZKY"
      }
    },
    {
      "cell_type": "code",
      "source": [
        "def plot_best_per_metric(metric, n_best=5):\n",
        "    plt.figure(figsize=(16,7))\n",
        "\n",
        "    for key in list(df.index[:n_best]):\n",
        "        # train_metric = results[key]['train_history'][metric]\n",
        "        val_metric = results[key]['train_history'][f'val_{metric}']\n",
        "        values = np.arange(len(val_metric))\n",
        "\n",
        "        # plt.plot(values, train_metric, '-', label=f\"{key} train\")\n",
        "        plt.plot(values, val_metric, '--', label=f\"{key} val\")\n",
        "\n",
        "    plt.legend()\n",
        "    plt.title(f'{metric}  -  epochs')\n",
        "    plt.xlabel('epoch')\n",
        "    plt.ylabel(metric)\n",
        "    plt.show()"
      ],
      "metadata": {
        "id": "1rP-gazXXbdd"
      },
      "execution_count": 17,
      "outputs": []
    },
    {
      "cell_type": "code",
      "source": [
        "plot_best_per_metric('mean_squared_error')"
      ],
      "metadata": {
        "colab": {
          "base_uri": "https://localhost:8080/",
          "height": 392
        },
        "id": "YIxBVpUwX4gK",
        "outputId": "58afe73e-d210-413d-f17b-37717261f0c1"
      },
      "execution_count": 18,
      "outputs": [
        {
          "output_type": "display_data",
          "data": {
            "image/png": "[encoded data removed]",
            "text/plain": [
              "<Figure size 1152x504 with 1 Axes>"
            ]
          },
          "metadata": {
            "needs_background": "light"
          }
        }
      ]
    },
    {
      "cell_type": "code",
      "source": [
        "plot_best_per_metric('mean_absolute_error')"
      ],
      "metadata": {
        "colab": {
          "base_uri": "https://localhost:8080/",
          "height": 392
        },
        "id": "8pVs_iHSX9nt",
        "outputId": "9a7e8d11-33ea-4676-aa1c-3625a9366785"
      },
      "execution_count": 19,
      "outputs": [
        {
          "output_type": "display_data",
          "data": {
            "image/png": "[encoded data removed]",
            "text/plain": [
              "<Figure size 1152x504 with 1 Axes>"
            ]
          },
          "metadata": {
            "needs_background": "light"
          }
        }
      ]
    },
    {
      "cell_type": "markdown",
      "source": [
        "Посмотрим на распределение ошибок."
      ],
      "metadata": {
        "id": "9eNS1FvIbRkC"
      }
    },
    {
      "cell_type": "code",
      "source": [
        "model = get_model('relu', 'Adam', 'mae')\n",
        "train_history, train_logs, test_logs = train_model(model)\n",
        "test_pred = model.predict(X_test).flatten()"
      ],
      "metadata": {
        "id": "54Vvlq0IZKMc"
      },
      "execution_count": 26,
      "outputs": []
    },
    {
      "cell_type": "code",
      "source": [
        "error = test_pred - y_test\n",
        "plt.figure(figsize=(16,7))\n",
        "plt.hist(error, bins=50)\n",
        "plt.xlabel('Prediction Error')\n",
        "plt.ylabel('Count')\n",
        "plt.show()"
      ],
      "metadata": {
        "colab": {
          "base_uri": "https://localhost:8080/",
          "height": 375
        },
        "id": "GXcIblO4Zy2t",
        "outputId": "e22123fc-b95a-4723-b85e-44e1df4a485b"
      },
      "execution_count": 28,
      "outputs": [
        {
          "output_type": "display_data",
          "data": {
            "image/png": "[encoded data removed]",
            "text/plain": [
              "<Figure size 1152x504 with 1 Axes>"
            ]
          },
          "metadata": {
            "needs_background": "light"
          }
        }
      ]
    },
    {
      "cell_type": "markdown",
      "source": [
        "Большая часть ошибок сконцентрирована у нуля. Модель обучилась достаточно хорошо"
      ],
      "metadata": {
        "id": "658K42c3bpk9"
      }
    }
  ]
}