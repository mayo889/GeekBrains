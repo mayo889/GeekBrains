{
 "cells": [
  {
   "cell_type": "markdown",
   "metadata": {
    "id": "glKIcvbYlUUE"
   },
   "source": [
    "Читаем библиотеки"
   ]
  },
  {
   "cell_type": "code",
   "execution_count": 1,
   "metadata": {
    "id": "BOwsuGQQY9OL"
   },
   "outputs": [],
   "source": [
    "from tensorflow.keras.preprocessing.sequence import pad_sequences\n",
    "from tensorflow.keras.layers import Embedding, LSTM, Dense, Dropout, Bidirectional\n",
    "from tensorflow.keras.preprocessing.text import Tokenizer\n",
    "from tensorflow.keras.models import Sequential\n",
    "from tensorflow.keras.optimizers import Adam\n",
    "from tensorflow.keras import regularizers\n",
    "import tensorflow.keras.utils as ku \n",
    "import numpy as np "
   ]
  },
  {
   "cell_type": "code",
   "execution_count": 2,
   "metadata": {
    "id": "o_-o-ECeV__M"
   },
   "outputs": [],
   "source": [
    "from tensorflow.keras.callbacks import EarlyStopping"
   ]
  },
  {
   "cell_type": "markdown",
   "metadata": {
    "id": "xx65KF8YiubY"
   },
   "source": [
    "Разбор текста - Токенизация"
   ]
  },
  {
   "cell_type": "code",
   "execution_count": 3,
   "metadata": {
    "colab": {
     "base_uri": "https://localhost:8080/"
    },
    "id": "-6b4_D1DUPQV",
    "outputId": "b0d8e923-5505-43ac-b2ff-c006a32eabf9"
   },
   "outputs": [
    {
     "name": "stdout",
     "output_type": "stream",
     "text": [
      "--2021-06-01 15:44:06--  https://storage.googleapis.com/laurencemoroney-blog.appspot.com/sonnets.txt\n",
      "Resolving storage.googleapis.com (storage.googleapis.com)... 74.125.142.128, 74.125.195.128, 173.194.202.128, ...\n",
      "Connecting to storage.googleapis.com (storage.googleapis.com)|74.125.142.128|:443... connected.\n",
      "HTTP request sent, awaiting response... 200 OK\n",
      "Length: 93578 (91K) [text/plain]\n",
      "Saving to: ‘/tmp/sonnets.txt’\n",
      "\n",
      "/tmp/sonnets.txt    100%[===================>]  91.38K  --.-KB/s    in 0.001s  \n",
      "\n",
      "2021-06-01 15:44:06 (131 MB/s) - ‘/tmp/sonnets.txt’ saved [93578/93578]\n",
      "\n"
     ]
    }
   ],
   "source": [
    "# Создаем объект для токенизапции\n",
    "tokenizer = Tokenizer( num_words=10000)\n",
    "!wget --no-check-certificate \\\n",
    "    https://storage.googleapis.com/laurencemoroney-blog.appspot.com/sonnets.txt \\\n",
    "    -O /tmp/sonnets.txt\n",
    "data = open('/tmp/sonnets.txt').read()\n",
    "#Читаем текст\n",
    "corpus = data.lower().split(\"\\n\")"
   ]
  },
  {
   "cell_type": "code",
   "execution_count": 4,
   "metadata": {
    "colab": {
     "base_uri": "https://localhost:8080/"
    },
    "id": "h8AtaI3FUUXf",
    "outputId": "0e54dece-1bf5-4a12-de0e-97673c949be7"
   },
   "outputs": [
    {
     "data": {
      "text/plain": [
       "['from fairest creatures we desire increase,',\n",
       " \"that thereby beauty's rose might never die,\",\n",
       " 'but as the riper should by time decease,',\n",
       " 'his tender heir might bear his memory:',\n",
       " 'but thou, contracted to thine own bright eyes,',\n",
       " \"feed'st thy light'st flame with self-substantial fuel,\",\n",
       " 'making a famine where abundance lies,',\n",
       " 'thyself thy foe, to thy sweet self too cruel.',\n",
       " \"thou that art now the world's fresh ornament\",\n",
       " 'and only herald to the gaudy spring,']"
      ]
     },
     "execution_count": 4,
     "metadata": {
      "tags": []
     },
     "output_type": "execute_result"
    }
   ],
   "source": [
    "corpus[:10]"
   ]
  },
  {
   "cell_type": "markdown",
   "metadata": {
    "id": "kvj2zIe-jF2D"
   },
   "source": [
    "Исполним токенизацию и кодирование"
   ]
  },
  {
   "cell_type": "code",
   "execution_count": 5,
   "metadata": {
    "id": "PRnDnCW-Z7qv"
   },
   "outputs": [],
   "source": [
    "tokenizer.fit_on_texts(corpus)\n",
    "total_words = len(tokenizer.word_index) + 1\n",
    "\n",
    "# create input sequences using list of tokens\n",
    "input_sequences = []\n",
    "for line in corpus:\n",
    "\ttoken_list = tokenizer.texts_to_sequences([line])[0]\n",
    "\tfor i in range(1, len(token_list)):\n",
    "\t\tn_gram_sequence = token_list[:i+1]\n",
    "\t\tinput_sequences.append(n_gram_sequence)\n",
    "\n",
    "\n",
    "# pad sequences \n",
    "max_sequence_len = max([len(x) for x in input_sequences])\n",
    "input_sequences = np.array(pad_sequences(input_sequences, maxlen=max_sequence_len, padding='pre'))\n",
    "\n",
    "# create predictors and label\n",
    "predictors, label = input_sequences[:,:-1],input_sequences[:,-1]\n",
    "\n",
    "label = ku.to_categorical(label, num_classes=total_words)"
   ]
  },
  {
   "cell_type": "code",
   "execution_count": 6,
   "metadata": {
    "colab": {
     "base_uri": "https://localhost:8080/"
    },
    "id": "LSGhbRqt8tim",
    "outputId": "f09dd015-8e7c-4ec5-caed-54162853c478"
   },
   "outputs": [
    {
     "data": {
      "text/plain": [
       "[]"
      ]
     },
     "execution_count": 6,
     "metadata": {
      "tags": []
     },
     "output_type": "execute_result"
    }
   ],
   "source": [
    "token_list"
   ]
  },
  {
   "cell_type": "code",
   "execution_count": 7,
   "metadata": {
    "colab": {
     "base_uri": "https://localhost:8080/",
     "height": 35
    },
    "id": "zMuJEMRCiA_0",
    "outputId": "4cabc40a-7a0c-4bae-8a52-5729c18617f1"
   },
   "outputs": [
    {
     "data": {
      "application/vnd.google.colaboratory.intrinsic+json": {
       "type": "string"
      },
      "text/plain": [
       "'thou'"
      ]
     },
     "execution_count": 7,
     "metadata": {
      "tags": []
     },
     "output_type": "execute_result"
    }
   ],
   "source": [
    "tokenizer.index_word[10]"
   ]
  },
  {
   "cell_type": "code",
   "execution_count": 8,
   "metadata": {
    "colab": {
     "base_uri": "https://localhost:8080/"
    },
    "id": "GBEiqyoQhlEd",
    "outputId": "88ba49c2-f452-4887-fb5c-73b68ac07f1d"
   },
   "outputs": [
    {
     "data": {
      "text/plain": [
       "14"
      ]
     },
     "execution_count": 8,
     "metadata": {
      "tags": []
     },
     "output_type": "execute_result"
    }
   ],
   "source": [
    "tokenizer.word_index['love']"
   ]
  },
  {
   "cell_type": "code",
   "execution_count": 9,
   "metadata": {
    "colab": {
     "base_uri": "https://localhost:8080/"
    },
    "id": "KRj9wFSMhdWQ",
    "outputId": "c6ab0f71-cb84-4b01-a28f-9b81a7dd5ae3"
   },
   "outputs": [
    {
     "data": {
      "text/plain": [
       "array([[  0,   0,   0,   0,   0,   0,   0,   0,   0,  16,  22],\n",
       "       [  0,   0,   0,   0,   0,   0,   0,   0,  16,  22,   2],\n",
       "       [  0,   0,   0,   0,   0,   0,   0,  16,  22,   2, 879],\n",
       "       [  0,   0,   0,   0,   0,   0,  16,  22,   2, 879,  61]],\n",
       "      dtype=int32)"
      ]
     },
     "execution_count": 9,
     "metadata": {
      "tags": []
     },
     "output_type": "execute_result"
    }
   ],
   "source": [
    "input_sequences[11:15,:]"
   ]
  },
  {
   "cell_type": "code",
   "execution_count": 10,
   "metadata": {
    "colab": {
     "base_uri": "https://localhost:8080/"
    },
    "id": "oEBa1IEtghmP",
    "outputId": "e8de0503-4cd4-4e81-c4b7-4702084faa69"
   },
   "outputs": [
    {
     "data": {
      "text/plain": [
       "(15462, 3211)"
      ]
     },
     "execution_count": 10,
     "metadata": {
      "tags": []
     },
     "output_type": "execute_result"
    }
   ],
   "source": [
    "label.shape"
   ]
  },
  {
   "cell_type": "markdown",
   "metadata": {
    "id": "0ZMOORKCjpUU"
   },
   "source": [
    "Создаем сеть"
   ]
  },
  {
   "cell_type": "code",
   "execution_count": 11,
   "metadata": {
    "id": "_UgOcPDkVlV8"
   },
   "outputs": [],
   "source": [
    "callback = EarlyStopping(monitor='val_loss', patience=5) # создаем обратный вызов - calback - тут \"Ранний останов\""
   ]
  },
  {
   "cell_type": "code",
   "execution_count": 12,
   "metadata": {
    "colab": {
     "base_uri": "https://localhost:8080/"
    },
    "id": "w9vH8Y59ajYL",
    "outputId": "9e013fbd-ee4a-48e8-936b-1898c9d7611e"
   },
   "outputs": [
    {
     "name": "stdout",
     "output_type": "stream",
     "text": [
      "Model: \"sequential\"\n",
      "_________________________________________________________________\n",
      "Layer (type)                 Output Shape              Param #   \n",
      "=================================================================\n",
      "embedding (Embedding)        (None, 10, 10)            32110     \n",
      "_________________________________________________________________\n",
      "lstm (LSTM)                  (None, 10)                840       \n",
      "_________________________________________________________________\n",
      "dropout (Dropout)            (None, 10)                0         \n",
      "_________________________________________________________________\n",
      "dense (Dense)                (None, 1605)              17655     \n",
      "_________________________________________________________________\n",
      "dense_1 (Dense)              (None, 3211)              5156866   \n",
      "=================================================================\n",
      "Total params: 5,207,471\n",
      "Trainable params: 5,207,471\n",
      "Non-trainable params: 0\n",
      "_________________________________________________________________\n",
      "None\n"
     ]
    }
   ],
   "source": [
    "model = Sequential()\n",
    "model.add(Embedding(total_words, 10, input_length=max_sequence_len-1))  # вложение тренируемое для перехода от слова к его векторному коду \n",
    "# на вход вложения (эмбединга) передаем вектор словарь (длина равна словарю, вектор разреженный)), на выход строим вектор из n (тут 10) координат - он плотный\n",
    "#model.add(Bidirectional(LSTM(50, return_sequences = True)))\n",
    "\n",
    "model.add(LSTM(10))\n",
    "model.add(Dropout( 0.2))\n",
    "model.add(Dense(total_words/2, activation='relu', kernel_regularizer=regularizers.l2(0.01)))\n",
    "model.add(Dense(total_words, activation='softmax'))\n",
    "model.compile(loss='categorical_crossentropy', optimizer='adam', metrics=['accuracy'])\n",
    "print(model.summary())\n"
   ]
  },
  {
   "cell_type": "code",
   "execution_count": 13,
   "metadata": {
    "colab": {
     "base_uri": "https://localhost:8080/"
    },
    "id": "AIg2f1HBxqof",
    "outputId": "3c974097-5a2d-46cb-e096-a1c7d865e2c2"
   },
   "outputs": [
    {
     "name": "stdout",
     "output_type": "stream",
     "text": [
      "Epoch 1/100\n",
      "387/387 [==============================] - 11s 8ms/step - loss: 6.9710 - accuracy: 0.0214 - val_loss: 6.8806 - val_accuracy: 0.0165\n",
      "Epoch 2/100\n",
      "387/387 [==============================] - 3s 7ms/step - loss: 6.5531 - accuracy: 0.0251 - val_loss: 6.9739 - val_accuracy: 0.0165\n",
      "Epoch 3/100\n",
      "387/387 [==============================] - 3s 7ms/step - loss: 6.4826 - accuracy: 0.0233 - val_loss: 7.0172 - val_accuracy: 0.0178\n",
      "Epoch 4/100\n",
      "387/387 [==============================] - 3s 7ms/step - loss: 6.4299 - accuracy: 0.0226 - val_loss: 7.1005 - val_accuracy: 0.0158\n",
      "Epoch 5/100\n",
      "387/387 [==============================] - 3s 7ms/step - loss: 6.3886 - accuracy: 0.0242 - val_loss: 7.1556 - val_accuracy: 0.0178\n",
      "Epoch 6/100\n",
      "387/387 [==============================] - 3s 7ms/step - loss: 6.3489 - accuracy: 0.0278 - val_loss: 7.2349 - val_accuracy: 0.0197\n"
     ]
    }
   ],
   "source": [
    " history = model.fit(predictors, label, epochs=100, validation_split=0.2, callbacks=[callback],verbose=1)"
   ]
  },
  {
   "cell_type": "markdown",
   "metadata": {
    "id": "qdhjEfBElNMC"
   },
   "source": [
    "Тест\n"
   ]
  },
  {
   "cell_type": "code",
   "execution_count": 14,
   "metadata": {
    "colab": {
     "base_uri": "https://localhost:8080/",
     "height": 545
    },
    "id": "1fXTEO3GJ282",
    "outputId": "566aa225-920e-4b7d-bf5c-e83c1a01b027"
   },
   "outputs": [
    {
     "data": {
      "image/png": "[encoded data removed]",
      "text/plain": [
       "<Figure size 432x288 with 1 Axes>"
      ]
     },
     "metadata": {
      "needs_background": "light",
      "tags": []
     },
     "output_type": "display_data"
    },
    {
     "data": {
      "image/png": "[encoded data removed]",
      "text/plain": [
       "<Figure size 432x288 with 1 Axes>"
      ]
     },
     "metadata": {
      "needs_background": "light",
      "tags": []
     },
     "output_type": "display_data"
    }
   ],
   "source": [
    "import matplotlib.pyplot as plt\n",
    "acc = history.history['accuracy']\n",
    "acc_v = history.history['val_accuracy']\n",
    "loss = history.history['loss']\n",
    "loss_v = history.history['val_loss']\n",
    "\n",
    "epochs = range(len(acc))\n",
    "\n",
    "plt.plot(epochs, acc, 'b', label='Train')\n",
    "plt.plot(epochs, acc_v, 'r', label='Test')\n",
    "plt.legend()\n",
    "plt.title('accuracy')\n",
    "\n",
    "plt.figure()\n",
    "\n",
    "plt.plot(epochs, loss, 'b', label='Train')\n",
    "plt.plot(epochs, loss_v, 'r', label='Test')\n",
    "plt.title('loss')\n",
    "plt.legend()\n",
    "\n",
    "plt.show()"
   ]
  },
  {
   "cell_type": "markdown",
   "metadata": {
    "id": "RxYwdExpNgLW"
   },
   "source": [
    "Строим тест генератора"
   ]
  },
  {
   "cell_type": "code",
   "execution_count": 15,
   "metadata": {
    "colab": {
     "base_uri": "https://localhost:8080/"
    },
    "id": "6Vc6PHgxa6Hm",
    "outputId": "2302364e-fd38-4064-d7d8-9bf671a6cadb"
   },
   "outputs": [
    {
     "name": "stdout",
     "output_type": "stream",
     "text": [
      "[591, 18, 5, 352, 393]\n"
     ]
    },
    {
     "name": "stderr",
     "output_type": "stream",
     "text": [
      "/usr/local/lib/python3.7/dist-packages/tensorflow/python/keras/engine/sequential.py:455: UserWarning: `model.predict_classes()` is deprecated and will be removed after 2021-01-01. Please use instead:* `np.argmax(model.predict(x), axis=-1)`,   if your model does multi-class classification   (e.g. if it uses a `softmax` last-layer activation).* `(model.predict(x) > 0.5).astype(\"int32\")`,   if your model does binary classification   (e.g. if it uses a `sigmoid` last-layer activation).\n",
      "  warnings.warn('`model.predict_classes()` is deprecated and '\n"
     ]
    },
    {
     "name": "stdout",
     "output_type": "stream",
     "text": [
      "[591, 18, 5, 352, 393, 2]\n",
      "[591, 18, 5, 352, 393, 2, 14]\n",
      "[591, 18, 5, 352, 393, 2, 14, 2]\n",
      "[591, 18, 5, 352, 393, 2, 14, 2, 14]\n",
      "[591, 18, 5, 352, 393, 2, 14, 2, 14, 2]\n",
      "[591, 18, 5, 352, 393, 2, 14, 2, 14, 2, 14]\n",
      "[591, 18, 5, 352, 393, 2, 14, 2, 14, 2, 14, 2]\n",
      "[591, 18, 5, 352, 393, 2, 14, 2, 14, 2, 14, 2, 14]\n",
      "[591, 18, 5, 352, 393, 2, 14, 2, 14, 2, 14, 2, 14, 2]\n",
      "Help me Obi Wan Kenobi, you're my only hope the love the love the love the love the love\n"
     ]
    }
   ],
   "source": [
    "seed_text = \"Help me Obi Wan Kenobi, you're my only hope\"\n",
    "#seed_text = \"She is my girl, I see in my hend\"\n",
    "next_words = 10\n",
    "  \n",
    "for _ in range(next_words):\n",
    "\ttoken_list = tokenizer.texts_to_sequences([seed_text])[0]\n",
    "\tprint(token_list)\n",
    "\ttoken_list = pad_sequences([token_list], maxlen=max_sequence_len-1, padding='pre')\n",
    "\tpredicted = model.predict_classes(token_list, verbose=0)\n",
    "  #y_p=model.predict(token_list)\n",
    "\toutput_word = \"\"\n",
    "\ty_p=model.predict(token_list)\n",
    "\tfor word, index in tokenizer.word_index.items():\n",
    "\t\tif index == predicted:\n",
    "\t\t\toutput_word = word\n",
    "\t\t\tbreak\n",
    "\tseed_text += \" \" + output_word\n",
    "print(seed_text)"
   ]
  },
  {
   "cell_type": "code",
   "execution_count": 16,
   "metadata": {
    "colab": {
     "base_uri": "https://localhost:8080/",
     "height": 283
    },
    "id": "nG0XtgeLgkie",
    "outputId": "e73666a6-7f57-4194-8dfd-978cdcf4545e"
   },
   "outputs": [
    {
     "data": {
      "text/plain": [
       "[<matplotlib.lines.Line2D at 0x7efd4087a450>]"
      ]
     },
     "execution_count": 16,
     "metadata": {
      "tags": []
     },
     "output_type": "execute_result"
    },
    {
     "data": {
      "image/png": "[encoded data removed]",
      "text/plain": [
       "<Figure size 432x288 with 1 Axes>"
      ]
     },
     "metadata": {
      "needs_background": "light",
      "tags": []
     },
     "output_type": "display_data"
    }
   ],
   "source": [
    "plt.plot(y_p[0,:])"
   ]
  },
  {
   "cell_type": "code",
   "execution_count": 19,
   "metadata": {
    "colab": {
     "base_uri": "https://localhost:8080/"
    },
    "id": "ZBaCLMR-mWVg",
    "outputId": "c45056fc-b5f2-4a7d-cc94-d25a0ca5640b"
   },
   "outputs": [
    {
     "data": {
      "text/plain": [
       "array([ 2,  4,  5,  6,  7,  8,  9, 14])"
      ]
     },
     "execution_count": 19,
     "metadata": {
      "tags": []
     },
     "output_type": "execute_result"
    }
   ],
   "source": [
    "ind_prob=np.where(y_p[0,:]>0.002500)[0]\n",
    "ind_prob"
   ]
  },
  {
   "cell_type": "code",
   "execution_count": 23,
   "metadata": {
    "colab": {
     "base_uri": "https://localhost:8080/"
    },
    "id": "rUVav3Pf0kqn",
    "outputId": "934489ec-eee8-4f1d-b8a7-8f891d544466"
   },
   "outputs": [
    {
     "name": "stdout",
     "output_type": "stream",
     "text": [
      "the  :  8.244135e-06\n",
      "of  :  0.002261047\n",
      "my  :  0.003327034\n",
      "i  :  0.0023361053\n",
      "in  :  0.0025306498\n",
      "that  :  0.0031354027\n",
      "thy  :  0.0027497131\n",
      "love  :  0.0029313304\n"
     ]
    }
   ],
   "source": [
    "for i,ind in enumerate(ind_prob.tolist()):\n",
    "  print(tokenizer.index_word[ind], ' : ', y_p[0,i])"
   ]
  },
  {
   "cell_type": "code",
   "execution_count": null,
   "metadata": {
    "id": "q8alxdYvQtCr"
   },
   "outputs": [],
   "source": []
  }
 ],
 "metadata": {
  "colab": {
   "collapsed_sections": [],
   "name": "Генератор_текста.ipynb",
   "provenance": []
  },
  "kernelspec": {
   "display_name": "Python 3 (ipykernel)",
   "language": "python",
   "name": "python3"
  },
  "language_info": {
   "codemirror_mode": {
    "name": "ipython",
    "version": 3
   },
   "file_extension": ".py",
   "mimetype": "text/x-python",
   "name": "python",
   "nbconvert_exporter": "python",
   "pygments_lexer": "ipython3",
   "version": "3.9.5"
  }
 },
 "nbformat": 4,
 "nbformat_minor": 4
}
