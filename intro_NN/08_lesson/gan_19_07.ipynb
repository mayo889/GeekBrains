{
 "cells": [
  {
   "cell_type": "markdown",
   "metadata": {
    "id": "TCdGFvtyItIK"
   },
   "source": [
    "# GAN  `Model.train_step`\n",
    "\n",
    "(https://twitter.com/fchollet)\n"
   ]
  },
  {
   "cell_type": "markdown",
   "metadata": {
    "id": "WZn7_uCAItIM"
   },
   "source": [
    "## Загрузка модулей"
   ]
  },
  {
   "cell_type": "code",
   "execution_count": 1,
   "metadata": {
    "id": "QPbdfnz4ItIO"
   },
   "outputs": [],
   "source": [
    "import tensorflow as tf\n",
    "from tensorflow import keras\n",
    "from tensorflow.keras import layers\n",
    "import numpy as np"
   ]
  },
  {
   "cell_type": "markdown",
   "metadata": {
    "id": "5eL0jLVLItIV"
   },
   "source": [
    "## строим Fashion_MNIST data"
   ]
  },
  {
   "cell_type": "code",
   "execution_count": 3,
   "metadata": {
    "colab": {
     "base_uri": "https://localhost:8080/"
    },
    "id": "r_5cxeh_ItIW",
    "outputId": "f1f5fe10-2d8f-4dde-80c5-c419d5decca9"
   },
   "outputs": [
    {
     "name": "stdout",
     "output_type": "stream",
     "text": [
      "Downloading data from https://storage.googleapis.com/tensorflow/tf-keras-datasets/train-labels-idx1-ubyte.gz\n",
      "32768/29515 [=================================] - 0s 0us/step\n",
      "Downloading data from https://storage.googleapis.com/tensorflow/tf-keras-datasets/train-images-idx3-ubyte.gz\n",
      "26427392/26421880 [==============================] - 0s 0us/step\n",
      "Downloading data from https://storage.googleapis.com/tensorflow/tf-keras-datasets/t10k-labels-idx1-ubyte.gz\n",
      "8192/5148 [===============================================] - 0s 0us/step\n",
      "Downloading data from https://storage.googleapis.com/tensorflow/tf-keras-datasets/t10k-images-idx3-ubyte.gz\n",
      "4423680/4422102 [==============================] - 0s 0us/step\n"
     ]
    }
   ],
   "source": [
    "# fashion MNIST \n",
    "class_ = 0\n",
    "batch_size = 64\n",
    "(x_train, y), (x_test, yt) = keras.datasets.fashion_mnist.load_data()\n",
    "all_digits = np.concatenate([x_train, x_test])\n",
    "all_digits = all_digits.astype(\"float32\") / 255\n",
    "ind_i = np.where(y == class_)\n",
    "ind_it = np.where(yt == class_)\n",
    "all_digits = all_digits[ind_i,:,:]\n",
    "all_digits = np.reshape(all_digits, (-1, 28, 28, 1))\n",
    "dataset = tf.data.Dataset.from_tensor_slices(all_digits)\n",
    "dataset = dataset.shuffle(buffer_size=1024).batch(batch_size).prefetch(32)"
   ]
  },
  {
   "cell_type": "markdown",
   "metadata": {
    "id": "Z9GINZz5ItIb"
   },
   "source": [
    "## Строим discriminator\n",
    "\n",
    "размер карты 28x28 и бинарная классификация (настоящее изображение или генерировано)."
   ]
  },
  {
   "cell_type": "code",
   "execution_count": 4,
   "metadata": {
    "colab": {
     "base_uri": "https://localhost:8080/"
    },
    "id": "K99eZdkgItIc",
    "outputId": "8a67768a-f36e-4d48-ffb1-ae0348e4e874"
   },
   "outputs": [
    {
     "name": "stdout",
     "output_type": "stream",
     "text": [
      "WARNING:tensorflow:Please add `keras.layers.InputLayer` instead of `keras.Input` to Sequential model. `keras.Input` is intended to be used by Functional model.\n",
      "Model: \"discriminator\"\n",
      "_________________________________________________________________\n",
      "Layer (type)                 Output Shape              Param #   \n",
      "=================================================================\n",
      "conv2d (Conv2D)              (None, 14, 14, 64)        640       \n",
      "_________________________________________________________________\n",
      "leaky_re_lu (LeakyReLU)      (None, 14, 14, 64)        0         \n",
      "_________________________________________________________________\n",
      "conv2d_1 (Conv2D)            (None, 7, 7, 128)         73856     \n",
      "_________________________________________________________________\n",
      "leaky_re_lu_1 (LeakyReLU)    (None, 7, 7, 128)         0         \n",
      "_________________________________________________________________\n",
      "global_max_pooling2d (Global (None, 128)               0         \n",
      "_________________________________________________________________\n",
      "dense (Dense)                (None, 1)                 129       \n",
      "=================================================================\n",
      "Total params: 74,625\n",
      "Trainable params: 74,625\n",
      "Non-trainable params: 0\n",
      "_________________________________________________________________\n"
     ]
    }
   ],
   "source": [
    "discriminator = keras.Sequential(\n",
    "    [\n",
    "        keras.Input(shape=(28, 28, 1)),\n",
    "        layers.Conv2D(64, (3, 3), strides=(2, 2), padding=\"same\"),\n",
    "        layers.LeakyReLU(alpha=0.2),\n",
    "        layers.Conv2D(128, (3, 3), strides=(2, 2), padding=\"same\"),\n",
    "        layers.LeakyReLU(alpha=0.2),\n",
    "        layers.GlobalMaxPooling2D(),\n",
    "        layers.Dense(1),\n",
    "    ],\n",
    "    name=\"discriminator\",\n",
    ")\n",
    "\n",
    "discriminator.summary()"
   ]
  },
  {
   "cell_type": "markdown",
   "metadata": {
    "id": "eodbCQ1WItIh"
   },
   "source": [
    "## Строим generator\n",
    "\n",
    "обратное по отношению к дискриминатору преобразование, меняем `Conv2D` на `Conv2DTranspose` ."
   ]
  },
  {
   "cell_type": "code",
   "execution_count": 5,
   "metadata": {
    "colab": {
     "base_uri": "https://localhost:8080/"
    },
    "id": "PY5lCMxqItIi",
    "outputId": "282e502b-6e15-4bde-b243-bb64d90f9ffb"
   },
   "outputs": [
    {
     "name": "stdout",
     "output_type": "stream",
     "text": [
      "WARNING:tensorflow:Please add `keras.layers.InputLayer` instead of `keras.Input` to Sequential model. `keras.Input` is intended to be used by Functional model.\n",
      "Model: \"generator\"\n",
      "_________________________________________________________________\n",
      "Layer (type)                 Output Shape              Param #   \n",
      "=================================================================\n",
      "dense_1 (Dense)              (None, 6272)              809088    \n",
      "_________________________________________________________________\n",
      "leaky_re_lu_2 (LeakyReLU)    (None, 6272)              0         \n",
      "_________________________________________________________________\n",
      "reshape (Reshape)            (None, 7, 7, 128)         0         \n",
      "_________________________________________________________________\n",
      "conv2d_transpose (Conv2DTran (None, 14, 14, 128)       262272    \n",
      "_________________________________________________________________\n",
      "leaky_re_lu_3 (LeakyReLU)    (None, 14, 14, 128)       0         \n",
      "_________________________________________________________________\n",
      "conv2d_transpose_1 (Conv2DTr (None, 28, 28, 256)       524544    \n",
      "_________________________________________________________________\n",
      "leaky_re_lu_4 (LeakyReLU)    (None, 28, 28, 256)       0         \n",
      "_________________________________________________________________\n",
      "conv2d_2 (Conv2D)            (None, 28, 28, 1)         12545     \n",
      "=================================================================\n",
      "Total params: 1,608,449\n",
      "Trainable params: 1,608,449\n",
      "Non-trainable params: 0\n",
      "_________________________________________________________________\n"
     ]
    }
   ],
   "source": [
    "latent_dim = 128\n",
    "\n",
    "generator = keras.Sequential(\n",
    "    [\n",
    "        keras.Input(shape=(latent_dim,)),\n",
    "        # строим размер входного вектора 7x7x128 map\n",
    "        layers.Dense(7 * 7 * 128),\n",
    "        layers.LeakyReLU(alpha=0.2),\n",
    "        layers.Reshape((7, 7, 128)),\n",
    "        layers.Conv2DTranspose(128, (4, 4), strides=(2, 2), padding=\"same\"),\n",
    "        layers.LeakyReLU(alpha=0.2),\n",
    "        layers.Conv2DTranspose(256, (4, 4), strides=(2, 2), padding=\"same\"),\n",
    "        layers.LeakyReLU(alpha=0.2),\n",
    "        layers.Conv2D(1, (7, 7), padding=\"same\", activation=\"sigmoid\"),\n",
    "    ],\n",
    "    name=\"generator\",\n",
    ")\n",
    "\n",
    "generator.summary()"
   ]
  },
  {
   "cell_type": "markdown",
   "metadata": {
    "id": "kpX7dJvAItIn"
   },
   "source": [
    "## Класс со своим этапом обучения `train_step`"
   ]
  },
  {
   "cell_type": "code",
   "execution_count": 6,
   "metadata": {
    "id": "oHP6aHUfItIo"
   },
   "outputs": [],
   "source": [
    "\n",
    "class GAN(keras.Model):\n",
    "    def __init__(self, discriminator, generator, latent_dim):\n",
    "        super(GAN, self).__init__()\n",
    "        self.discriminator = discriminator\n",
    "        self.generator = generator\n",
    "        self.latent_dim = latent_dim\n",
    "\n",
    "    def compile(self, d_optimizer, g_optimizer, loss_fn):\n",
    "        super(GAN, self).compile()\n",
    "        self.d_optimizer = d_optimizer\n",
    "        self.g_optimizer = g_optimizer\n",
    "        self.loss_fn = loss_fn\n",
    "\n",
    "    def train_step(self, real_images):\n",
    "        if isinstance(real_images, tuple):\n",
    "            real_images = real_images[0]\n",
    "        # берем случайный пример из скрытого пространства\n",
    "        batch_size = tf.shape(real_images)[0]\n",
    "        random_latent_vectors = tf.random.normal(shape=(batch_size, self.latent_dim))\n",
    "\n",
    "        # Строим по нему фейковое изображение\n",
    "        generated_images = self.generator(random_latent_vectors)\n",
    "\n",
    "        # собрали с реальным в текзор\n",
    "        combined_images = tf.concat([generated_images, real_images], axis=0)\n",
    "\n",
    "        # задаем метки 1 и 0 соответственно\n",
    "        labels = tf.concat(\n",
    "            [tf.ones((batch_size, 1)), tf.zeros((batch_size, 1))], axis=0\n",
    "        )\n",
    "        # Добавляем шум !!!\n",
    "        labels += 0.05 * tf.random.uniform(tf.shape(labels))\n",
    "\n",
    "        # учим discriminator\n",
    "        with tf.GradientTape() as tape:\n",
    "            predictions = self.discriminator(combined_images)\n",
    "            d_loss = self.loss_fn(labels, predictions)\n",
    "        grads = tape.gradient(d_loss, self.discriminator.trainable_weights)\n",
    "        self.d_optimizer.apply_gradients(\n",
    "            zip(grads, self.discriminator.trainable_weights)\n",
    "        )\n",
    "\n",
    "        #Выбрали случайный пример в скрытом пространстве\n",
    "        random_latent_vectors = tf.random.normal(shape=(batch_size, self.latent_dim))\n",
    "\n",
    "        # собрали метки реальных изображений\n",
    "        misleading_labels = tf.zeros((batch_size, 1))\n",
    "\n",
    "        # Учим generator !\n",
    "        with tf.GradientTape() as tape:\n",
    "            predictions = self.discriminator(self.generator(random_latent_vectors))\n",
    "            g_loss = self.loss_fn(misleading_labels, predictions)\n",
    "        grads = tape.gradient(g_loss, self.generator.trainable_weights)\n",
    "        self.g_optimizer.apply_gradients(zip(grads, self.generator.trainable_weights))\n",
    "        return {\"d_loss\": d_loss, \"g_loss\": g_loss}\n"
   ]
  },
  {
   "cell_type": "markdown",
   "metadata": {
    "id": "P4rYDb3qItIs"
   },
   "source": [
    "## Callback для сохранения изображений по ходу обучения"
   ]
  },
  {
   "cell_type": "code",
   "execution_count": 7,
   "metadata": {
    "id": "QoLCvAe7ItIt"
   },
   "outputs": [],
   "source": [
    "\n",
    "class GANMonitor(keras.callbacks.Callback):\n",
    "    def __init__(self, num_img=3, latent_dim=128):\n",
    "        self.num_img = num_img\n",
    "        self.latent_dim = latent_dim\n",
    "\n",
    "    def on_epoch_end(self, epoch, logs=None):\n",
    "        random_latent_vectors = tf.random.normal(shape=(self.num_img, self.latent_dim))\n",
    "        generated_images = self.model.generator(random_latent_vectors)\n",
    "        generated_images *= 255\n",
    "        generated_images.numpy()\n",
    "        for i in range(self.num_img):\n",
    "            img = keras.preprocessing.image.array_to_img(generated_images[i])\n",
    "            img.save(\"generated_img_{i}_{epoch}.png\".format(i=i, epoch=epoch))\n"
   ]
  },
  {
   "cell_type": "markdown",
   "metadata": {
    "id": "YiMWOk1_ItIz"
   },
   "source": [
    "## Учим end-to-end модель"
   ]
  },
  {
   "cell_type": "code",
   "execution_count": 14,
   "metadata": {
    "colab": {
     "base_uri": "https://localhost:8080/"
    },
    "id": "HZSj0hUHItI0",
    "outputId": "9e9ecc6a-4b1d-4e59-8b2a-344e2c9caa1e"
   },
   "outputs": [
    {
     "name": "stdout",
     "output_type": "stream",
     "text": [
      "Epoch 1/150\n",
      "94/94 [==============================] - 5s 45ms/step - d_loss: 0.0805 - g_loss: 3.9338\n",
      "Epoch 2/150\n",
      "94/94 [==============================] - 4s 45ms/step - d_loss: 0.0751 - g_loss: 4.1455\n",
      "Epoch 3/150\n",
      "94/94 [==============================] - 4s 45ms/step - d_loss: 0.0696 - g_loss: 4.1855\n",
      "Epoch 4/150\n",
      "94/94 [==============================] - 4s 45ms/step - d_loss: 0.0612 - g_loss: 4.3475\n",
      "Epoch 5/150\n",
      "94/94 [==============================] - 4s 45ms/step - d_loss: 0.0515 - g_loss: 4.6095\n",
      "Epoch 6/150\n",
      "94/94 [==============================] - 4s 45ms/step - d_loss: 0.0456 - g_loss: 4.7997\n",
      "Epoch 7/150\n",
      "94/94 [==============================] - 4s 46ms/step - d_loss: 0.0528 - g_loss: 4.5778\n",
      "Epoch 8/150\n",
      "94/94 [==============================] - 4s 45ms/step - d_loss: 0.0471 - g_loss: 4.6299\n",
      "Epoch 9/150\n",
      "94/94 [==============================] - 4s 46ms/step - d_loss: 0.0321 - g_loss: 6.3005\n",
      "Epoch 10/150\n",
      "94/94 [==============================] - 4s 46ms/step - d_loss: -0.0026 - g_loss: 8.9860\n",
      "Epoch 11/150\n",
      "94/94 [==============================] - 4s 46ms/step - d_loss: 0.0233 - g_loss: 6.7329\n",
      "Epoch 12/150\n",
      "94/94 [==============================] - 4s 46ms/step - d_loss: 0.0321 - g_loss: 5.7743\n",
      "Epoch 13/150\n",
      "94/94 [==============================] - 4s 46ms/step - d_loss: 0.0816 - g_loss: 4.2512\n",
      "Epoch 14/150\n",
      "94/94 [==============================] - 4s 46ms/step - d_loss: 0.5146 - g_loss: 2.2224\n",
      "Epoch 15/150\n",
      "94/94 [==============================] - 4s 46ms/step - d_loss: 1.0223 - g_loss: 0.9118\n",
      "Epoch 16/150\n",
      "94/94 [==============================] - 4s 46ms/step - d_loss: 0.8824 - g_loss: 0.9329\n",
      "Epoch 17/150\n",
      "94/94 [==============================] - 4s 46ms/step - d_loss: 0.8387 - g_loss: 1.0588\n",
      "Epoch 18/150\n",
      "94/94 [==============================] - 4s 46ms/step - d_loss: 0.7650 - g_loss: 1.0735\n",
      "Epoch 19/150\n",
      "94/94 [==============================] - 4s 46ms/step - d_loss: 0.9298 - g_loss: 0.7015\n",
      "Epoch 20/150\n",
      "94/94 [==============================] - 4s 46ms/step - d_loss: 0.8019 - g_loss: 0.7728\n",
      "Epoch 21/150\n",
      "94/94 [==============================] - 4s 46ms/step - d_loss: 0.6847 - g_loss: 1.1989\n",
      "Epoch 22/150\n",
      "94/94 [==============================] - 4s 47ms/step - d_loss: 0.3136 - g_loss: 1.8969\n",
      "Epoch 23/150\n",
      "94/94 [==============================] - 4s 47ms/step - d_loss: 0.6296 - g_loss: 1.2688\n",
      "Epoch 24/150\n",
      "94/94 [==============================] - 4s 47ms/step - d_loss: 0.7584 - g_loss: 0.9438\n",
      "Epoch 25/150\n",
      "94/94 [==============================] - 4s 47ms/step - d_loss: 0.7398 - g_loss: 0.9218\n",
      "Epoch 26/150\n",
      "94/94 [==============================] - 4s 47ms/step - d_loss: 0.8421 - g_loss: 0.7307\n",
      "Epoch 27/150\n",
      "94/94 [==============================] - 4s 47ms/step - d_loss: 0.7600 - g_loss: 0.8373\n",
      "Epoch 28/150\n",
      "94/94 [==============================] - 4s 47ms/step - d_loss: 0.7107 - g_loss: 1.0050\n",
      "Epoch 29/150\n",
      "94/94 [==============================] - 4s 47ms/step - d_loss: 0.7356 - g_loss: 1.0107\n",
      "Epoch 30/150\n",
      "94/94 [==============================] - 4s 47ms/step - d_loss: 0.8387 - g_loss: 0.8307\n",
      "Epoch 31/150\n",
      "94/94 [==============================] - 4s 47ms/step - d_loss: 0.7420 - g_loss: 0.8123\n",
      "Epoch 32/150\n",
      "94/94 [==============================] - 4s 47ms/step - d_loss: 0.7008 - g_loss: 0.9182\n",
      "Epoch 33/150\n",
      "94/94 [==============================] - 4s 47ms/step - d_loss: 0.7287 - g_loss: 0.8595\n",
      "Epoch 34/150\n",
      "94/94 [==============================] - 4s 47ms/step - d_loss: 0.7189 - g_loss: 0.8280\n",
      "Epoch 35/150\n",
      "94/94 [==============================] - 4s 47ms/step - d_loss: 0.7140 - g_loss: 0.8441\n",
      "Epoch 36/150\n",
      "94/94 [==============================] - 4s 47ms/step - d_loss: 0.6440 - g_loss: 0.9979\n",
      "Epoch 37/150\n",
      "94/94 [==============================] - 4s 47ms/step - d_loss: 0.6324 - g_loss: 0.9971\n",
      "Epoch 38/150\n",
      "94/94 [==============================] - 4s 47ms/step - d_loss: 0.7193 - g_loss: 0.8638\n",
      "Epoch 39/150\n",
      "94/94 [==============================] - 4s 47ms/step - d_loss: 0.7496 - g_loss: 0.9359\n",
      "Epoch 40/150\n",
      "94/94 [==============================] - 4s 47ms/step - d_loss: 0.5666 - g_loss: 1.2969\n",
      "Epoch 41/150\n",
      "94/94 [==============================] - 4s 47ms/step - d_loss: 0.7180 - g_loss: 0.9446\n",
      "Epoch 42/150\n",
      "94/94 [==============================] - 4s 47ms/step - d_loss: 0.7442 - g_loss: 0.8023\n",
      "Epoch 43/150\n",
      "94/94 [==============================] - 4s 47ms/step - d_loss: 0.7399 - g_loss: 0.8129\n",
      "Epoch 44/150\n",
      "94/94 [==============================] - 4s 47ms/step - d_loss: 0.7296 - g_loss: 0.7996\n",
      "Epoch 45/150\n",
      "94/94 [==============================] - 4s 48ms/step - d_loss: 0.6766 - g_loss: 0.9251\n",
      "Epoch 46/150\n",
      "94/94 [==============================] - 4s 48ms/step - d_loss: 0.6860 - g_loss: 0.9904\n",
      "Epoch 47/150\n",
      "94/94 [==============================] - 4s 47ms/step - d_loss: 0.8558 - g_loss: 0.7473\n",
      "Epoch 48/150\n",
      "94/94 [==============================] - 4s 47ms/step - d_loss: 0.7466 - g_loss: 0.8289\n",
      "Epoch 49/150\n",
      "94/94 [==============================] - 4s 48ms/step - d_loss: 0.7110 - g_loss: 0.8359\n",
      "Epoch 50/150\n",
      "94/94 [==============================] - 4s 48ms/step - d_loss: 0.5913 - g_loss: 0.9687\n",
      "Epoch 51/150\n",
      "94/94 [==============================] - 4s 47ms/step - d_loss: 0.6647 - g_loss: 0.9408\n",
      "Epoch 52/150\n",
      "94/94 [==============================] - 4s 48ms/step - d_loss: 0.7533 - g_loss: 0.8972\n",
      "Epoch 53/150\n",
      "94/94 [==============================] - 4s 47ms/step - d_loss: 0.7528 - g_loss: 0.7661\n",
      "Epoch 54/150\n",
      "94/94 [==============================] - 4s 47ms/step - d_loss: 0.6057 - g_loss: 0.9194\n",
      "Epoch 55/150\n",
      "94/94 [==============================] - 4s 48ms/step - d_loss: 0.6071 - g_loss: 0.9819\n",
      "Epoch 56/150\n",
      "94/94 [==============================] - 4s 48ms/step - d_loss: 0.6337 - g_loss: 0.9129\n",
      "Epoch 57/150\n",
      "94/94 [==============================] - 4s 48ms/step - d_loss: 0.5290 - g_loss: 1.0850\n",
      "Epoch 58/150\n",
      "94/94 [==============================] - 4s 48ms/step - d_loss: 0.4103 - g_loss: 1.3599\n",
      "Epoch 59/150\n",
      "94/94 [==============================] - 5s 48ms/step - d_loss: 0.6911 - g_loss: 0.9656\n",
      "Epoch 60/150\n",
      "94/94 [==============================] - 4s 48ms/step - d_loss: 0.6367 - g_loss: 0.9509\n",
      "Epoch 61/150\n",
      "94/94 [==============================] - 5s 48ms/step - d_loss: 0.6365 - g_loss: 0.9246\n",
      "Epoch 62/150\n",
      "94/94 [==============================] - 4s 48ms/step - d_loss: 0.6662 - g_loss: 0.9092\n",
      "Epoch 63/150\n",
      "94/94 [==============================] - 4s 47ms/step - d_loss: 0.5932 - g_loss: 0.9982\n",
      "Epoch 64/150\n",
      "94/94 [==============================] - 4s 48ms/step - d_loss: 0.6360 - g_loss: 0.8982\n",
      "Epoch 65/150\n",
      "94/94 [==============================] - 4s 48ms/step - d_loss: 0.5618 - g_loss: 1.0322\n",
      "Epoch 66/150\n",
      "94/94 [==============================] - 4s 48ms/step - d_loss: 0.5190 - g_loss: 1.1546\n",
      "Epoch 67/150\n",
      "94/94 [==============================] - 4s 48ms/step - d_loss: 0.6400 - g_loss: 0.9782\n",
      "Epoch 68/150\n",
      "94/94 [==============================] - 4s 47ms/step - d_loss: 0.6235 - g_loss: 0.9689\n",
      "Epoch 69/150\n",
      "94/94 [==============================] - 4s 48ms/step - d_loss: 0.7257 - g_loss: 0.9296\n",
      "Epoch 70/150\n",
      "94/94 [==============================] - 4s 48ms/step - d_loss: 0.6739 - g_loss: 0.9733\n",
      "Epoch 71/150\n",
      "94/94 [==============================] - 5s 48ms/step - d_loss: 0.5860 - g_loss: 1.0696\n",
      "Epoch 72/150\n",
      "94/94 [==============================] - 4s 48ms/step - d_loss: 0.5974 - g_loss: 0.9944\n",
      "Epoch 73/150\n",
      "94/94 [==============================] - 5s 48ms/step - d_loss: 0.6471 - g_loss: 0.9983\n",
      "Epoch 74/150\n",
      "94/94 [==============================] - 5s 48ms/step - d_loss: 0.7761 - g_loss: 0.7534\n",
      "Epoch 75/150\n",
      "94/94 [==============================] - 5s 48ms/step - d_loss: 0.7294 - g_loss: 0.7854\n",
      "Epoch 76/150\n",
      "94/94 [==============================] - 5s 48ms/step - d_loss: 0.7101 - g_loss: 0.8038\n",
      "Epoch 77/150\n",
      "94/94 [==============================] - 4s 48ms/step - d_loss: 0.6772 - g_loss: 0.8464\n",
      "Epoch 78/150\n",
      "94/94 [==============================] - 4s 48ms/step - d_loss: 0.6217 - g_loss: 0.9785\n",
      "Epoch 79/150\n",
      "94/94 [==============================] - 4s 48ms/step - d_loss: 0.4146 - g_loss: 1.3308\n",
      "Epoch 80/150\n",
      "94/94 [==============================] - 4s 48ms/step - d_loss: 0.6007 - g_loss: 1.1126\n",
      "Epoch 81/150\n",
      "94/94 [==============================] - 4s 48ms/step - d_loss: 0.5496 - g_loss: 1.1661\n",
      "Epoch 82/150\n",
      "94/94 [==============================] - 4s 48ms/step - d_loss: 0.5583 - g_loss: 1.0987\n",
      "Epoch 83/150\n",
      "94/94 [==============================] - 4s 48ms/step - d_loss: 0.5414 - g_loss: 1.1520\n",
      "Epoch 84/150\n",
      "94/94 [==============================] - 4s 47ms/step - d_loss: 0.5678 - g_loss: 1.1381\n",
      "Epoch 85/150\n",
      "94/94 [==============================] - 4s 48ms/step - d_loss: 0.8097 - g_loss: 0.8165\n",
      "Epoch 86/150\n",
      "94/94 [==============================] - 4s 48ms/step - d_loss: 0.7849 - g_loss: 0.8310\n",
      "Epoch 87/150\n",
      "94/94 [==============================] - 5s 48ms/step - d_loss: 0.7317 - g_loss: 0.8475\n",
      "Epoch 88/150\n",
      "94/94 [==============================] - 4s 48ms/step - d_loss: 0.6756 - g_loss: 0.9092\n",
      "Epoch 89/150\n",
      "94/94 [==============================] - 4s 48ms/step - d_loss: 0.7093 - g_loss: 0.8755\n",
      "Epoch 90/150\n",
      "94/94 [==============================] - 4s 48ms/step - d_loss: 0.6815 - g_loss: 1.0147\n",
      "Epoch 91/150\n",
      "94/94 [==============================] - 4s 48ms/step - d_loss: 0.4660 - g_loss: 2.0488\n",
      "Epoch 92/150\n",
      "94/94 [==============================] - 4s 47ms/step - d_loss: 0.1599 - g_loss: 3.4669\n",
      "Epoch 93/150\n",
      "94/94 [==============================] - 4s 48ms/step - d_loss: 0.0268 - g_loss: 4.6367\n",
      "Epoch 94/150\n",
      "94/94 [==============================] - 5s 48ms/step - d_loss: 0.2535 - g_loss: 2.1314\n",
      "Epoch 95/150\n",
      "94/94 [==============================] - 4s 47ms/step - d_loss: 0.4749 - g_loss: 1.5325\n",
      "Epoch 96/150\n",
      "94/94 [==============================] - 4s 48ms/step - d_loss: 0.5979 - g_loss: 1.0634\n",
      "Epoch 97/150\n",
      "94/94 [==============================] - 4s 48ms/step - d_loss: 0.6225 - g_loss: 1.0145\n",
      "Epoch 98/150\n",
      "94/94 [==============================] - 4s 48ms/step - d_loss: 0.4721 - g_loss: 1.2554\n",
      "Epoch 99/150\n",
      "94/94 [==============================] - 5s 48ms/step - d_loss: 0.4028 - g_loss: 1.4261\n",
      "Epoch 100/150\n",
      "94/94 [==============================] - 4s 48ms/step - d_loss: 0.6382 - g_loss: 1.2349\n",
      "Epoch 101/150\n",
      "94/94 [==============================] - 4s 48ms/step - d_loss: 0.7340 - g_loss: 1.0372\n",
      "Epoch 102/150\n",
      "94/94 [==============================] - 4s 48ms/step - d_loss: 0.7839 - g_loss: 0.9386\n",
      "Epoch 103/150\n",
      "94/94 [==============================] - 4s 48ms/step - d_loss: 0.8006 - g_loss: 0.7634\n",
      "Epoch 104/150\n",
      "94/94 [==============================] - 4s 48ms/step - d_loss: 0.6176 - g_loss: 1.0004\n",
      "Epoch 105/150\n",
      "94/94 [==============================] - 4s 48ms/step - d_loss: 0.5764 - g_loss: 1.0321\n",
      "Epoch 106/150\n",
      "94/94 [==============================] - 5s 48ms/step - d_loss: 0.5467 - g_loss: 1.1534\n",
      "Epoch 107/150\n",
      "94/94 [==============================] - 4s 48ms/step - d_loss: 0.6277 - g_loss: 1.2742\n",
      "Epoch 108/150\n",
      "94/94 [==============================] - 5s 48ms/step - d_loss: 0.7955 - g_loss: 0.8385\n",
      "Epoch 109/150\n",
      "94/94 [==============================] - 5s 48ms/step - d_loss: 0.7868 - g_loss: 0.7918\n",
      "Epoch 110/150\n",
      "94/94 [==============================] - 5s 48ms/step - d_loss: 0.7702 - g_loss: 0.7734\n",
      "Epoch 111/150\n",
      "94/94 [==============================] - 4s 48ms/step - d_loss: 0.6939 - g_loss: 0.8483\n",
      "Epoch 112/150\n",
      "94/94 [==============================] - 5s 48ms/step - d_loss: 0.6961 - g_loss: 0.8373\n",
      "Epoch 113/150\n",
      "94/94 [==============================] - 5s 48ms/step - d_loss: 0.6352 - g_loss: 0.9398\n",
      "Epoch 114/150\n",
      "94/94 [==============================] - 5s 48ms/step - d_loss: 0.7013 - g_loss: 0.9267\n",
      "Epoch 115/150\n",
      "94/94 [==============================] - 4s 48ms/step - d_loss: 0.6883 - g_loss: 0.8689\n",
      "Epoch 116/150\n",
      "94/94 [==============================] - 4s 48ms/step - d_loss: 0.6550 - g_loss: 0.9033\n",
      "Epoch 117/150\n",
      "94/94 [==============================] - 4s 48ms/step - d_loss: 0.6819 - g_loss: 0.8627\n",
      "Epoch 118/150\n",
      "94/94 [==============================] - 4s 48ms/step - d_loss: 0.5229 - g_loss: 1.0656\n",
      "Epoch 119/150\n",
      "94/94 [==============================] - 5s 48ms/step - d_loss: 0.5348 - g_loss: 1.1471\n",
      "Epoch 120/150\n",
      "94/94 [==============================] - 5s 48ms/step - d_loss: 0.4277 - g_loss: 1.2866\n",
      "Epoch 121/150\n",
      "94/94 [==============================] - 4s 48ms/step - d_loss: 0.5072 - g_loss: 1.2020\n",
      "Epoch 122/150\n",
      "94/94 [==============================] - 4s 48ms/step - d_loss: 0.5588 - g_loss: 1.1327\n",
      "Epoch 123/150\n",
      "94/94 [==============================] - 4s 48ms/step - d_loss: 0.5686 - g_loss: 1.0785\n",
      "Epoch 124/150\n",
      "94/94 [==============================] - 5s 48ms/step - d_loss: 0.5295 - g_loss: 1.1782\n",
      "Epoch 125/150\n",
      "94/94 [==============================] - 4s 47ms/step - d_loss: 0.5614 - g_loss: 1.1478\n",
      "Epoch 126/150\n",
      "94/94 [==============================] - 4s 47ms/step - d_loss: 0.5738 - g_loss: 1.1028\n",
      "Epoch 127/150\n",
      "94/94 [==============================] - 4s 47ms/step - d_loss: 0.5365 - g_loss: 1.1413\n",
      "Epoch 128/150\n",
      "94/94 [==============================] - 4s 47ms/step - d_loss: 0.6393 - g_loss: 0.9838\n",
      "Epoch 129/150\n",
      "94/94 [==============================] - 4s 47ms/step - d_loss: 0.6866 - g_loss: 0.9754\n",
      "Epoch 130/150\n",
      "94/94 [==============================] - 4s 47ms/step - d_loss: 0.6901 - g_loss: 1.4688\n",
      "Epoch 131/150\n",
      "94/94 [==============================] - 4s 47ms/step - d_loss: 0.4882 - g_loss: 1.2526\n",
      "Epoch 132/150\n",
      "94/94 [==============================] - 4s 47ms/step - d_loss: 0.5917 - g_loss: 1.1324\n",
      "Epoch 133/150\n",
      "94/94 [==============================] - 4s 48ms/step - d_loss: 0.6913 - g_loss: 0.9611\n",
      "Epoch 134/150\n",
      "94/94 [==============================] - 4s 48ms/step - d_loss: 0.6386 - g_loss: 0.9825\n",
      "Epoch 135/150\n",
      "94/94 [==============================] - 5s 48ms/step - d_loss: 0.6871 - g_loss: 0.9636\n",
      "Epoch 136/150\n",
      "94/94 [==============================] - 4s 48ms/step - d_loss: 0.7026 - g_loss: 1.0742\n",
      "Epoch 137/150\n",
      "94/94 [==============================] - 4s 48ms/step - d_loss: 0.7882 - g_loss: 0.9027\n",
      "Epoch 138/150\n",
      "94/94 [==============================] - 4s 48ms/step - d_loss: 0.6460 - g_loss: 0.9836\n",
      "Epoch 139/150\n",
      "94/94 [==============================] - 4s 47ms/step - d_loss: 0.7111 - g_loss: 0.9262\n",
      "Epoch 140/150\n",
      "94/94 [==============================] - 4s 48ms/step - d_loss: 0.4744 - g_loss: 1.4523\n",
      "Epoch 141/150\n",
      "94/94 [==============================] - 4s 47ms/step - d_loss: 0.6716 - g_loss: 1.0026\n",
      "Epoch 142/150\n",
      "94/94 [==============================] - 4s 47ms/step - d_loss: 0.5748 - g_loss: 1.0710\n",
      "Epoch 143/150\n",
      "94/94 [==============================] - 4s 47ms/step - d_loss: 0.5317 - g_loss: 1.1175\n",
      "Epoch 144/150\n",
      "94/94 [==============================] - 4s 47ms/step - d_loss: 0.5969 - g_loss: 1.0515\n",
      "Epoch 145/150\n",
      "94/94 [==============================] - 4s 47ms/step - d_loss: 0.7618 - g_loss: 0.8295\n",
      "Epoch 146/150\n",
      "94/94 [==============================] - 5s 48ms/step - d_loss: 0.6448 - g_loss: 0.9300\n",
      "Epoch 147/150\n",
      "94/94 [==============================] - 4s 48ms/step - d_loss: 0.5514 - g_loss: 1.0640\n",
      "Epoch 148/150\n",
      "94/94 [==============================] - 4s 48ms/step - d_loss: 0.4546 - g_loss: 1.3600\n",
      "Epoch 149/150\n",
      "94/94 [==============================] - 5s 48ms/step - d_loss: 0.5897 - g_loss: 1.1090\n",
      "Epoch 150/150\n",
      "94/94 [==============================] - 5s 48ms/step - d_loss: 0.4904 - g_loss: 1.2036\n"
     ]
    },
    {
     "data": {
      "text/plain": [
       "<tensorflow.python.keras.callbacks.History at 0x7fca50035e10>"
      ]
     },
     "execution_count": 14,
     "metadata": {
      "tags": []
     },
     "output_type": "execute_result"
    }
   ],
   "source": [
    "epochs = 50\n",
    "\n",
    "gan = GAN(discriminator=discriminator, generator=generator, latent_dim=latent_dim)\n",
    "gan.compile(\n",
    "    d_optimizer=keras.optimizers.Adam(learning_rate=0.0003),\n",
    "    g_optimizer=keras.optimizers.Adam(learning_rate=0.0003),\n",
    "    loss_fn=keras.losses.BinaryCrossentropy(from_logits=True),\n",
    ")\n",
    "\n",
    "gan.fit(\n",
    "    dataset, epochs=epochs, callbacks=[GANMonitor(num_img=3, latent_dim=latent_dim)]\n",
    ")"
   ]
  },
  {
   "cell_type": "markdown",
   "metadata": {
    "id": "cKqdR6bOItI4"
   },
   "source": [
    "Display the last generated images:"
   ]
  },
  {
   "cell_type": "code",
   "execution_count": 27,
   "metadata": {
    "colab": {
     "base_uri": "https://localhost:8080/",
     "height": 409
    },
    "id": "zZa20XZYItI5",
    "outputId": "e3d85fd7-149b-481f-e5ad-cb1d45787ba7"
   },
   "outputs": [
    {
     "data": {
      "image/png": "[encoded data removed]",
      "text/plain": [
       "<IPython.core.display.Image object>"
      ]
     },
     "metadata": {
      "tags": []
     },
     "output_type": "display_data"
    },
    {
     "data": {
      "image/png": "[encoded data removed]",
      "text/plain": [
       "<IPython.core.display.Image object>"
      ]
     },
     "metadata": {
      "tags": []
     },
     "output_type": "display_data"
    },
    {
     "data": {
      "image/png": "[encoded data removed]",
      "text/plain": [
       "<IPython.core.display.Image object>"
      ]
     },
     "metadata": {
      "tags": []
     },
     "output_type": "display_data"
    },
    {
     "data": {
      "image/png": "[encoded data removed]",
      "text/plain": [
       "<IPython.core.display.Image object>"
      ]
     },
     "metadata": {
      "tags": []
     },
     "output_type": "display_data"
    },
    {
     "data": {
      "image/png": "[encoded data removed]",
      "text/plain": [
       "<IPython.core.display.Image object>"
      ]
     },
     "metadata": {
      "tags": []
     },
     "output_type": "display_data"
    },
    {
     "data": {
      "image/png": "[encoded data removed]",
      "text/plain": [
       "<IPython.core.display.Image object>"
      ]
     },
     "metadata": {
      "tags": []
     },
     "output_type": "display_data"
    },
    {
     "data": {
      "image/png": "[encoded data removed]",
      "text/plain": [
       "<IPython.core.display.Image object>"
      ]
     },
     "metadata": {
      "tags": []
     },
     "output_type": "display_data"
    },
    {
     "data": {
      "image/png": "[encoded data removed]",
      "text/plain": [
       "<IPython.core.display.Image object>"
      ]
     },
     "metadata": {
      "tags": []
     },
     "output_type": "display_data"
    },
    {
     "data": {
      "image/png": "[encoded data removed]",
      "text/plain": [
       "<IPython.core.display.Image object>"
      ]
     },
     "metadata": {
      "tags": []
     },
     "output_type": "display_data"
    },
    {
     "data": {
      "image/png": "[encoded data removed]",
      "text/plain": [
       "<IPython.core.display.Image object>"
      ]
     },
     "metadata": {
      "tags": []
     },
     "output_type": "display_data"
    },
    {
     "data": {
      "image/png": "[encoded data removed]",
      "text/plain": [
       "<IPython.core.display.Image object>"
      ]
     },
     "metadata": {
      "tags": []
     },
     "output_type": "display_data"
    },
    {
     "data": {
      "image/png": "[encoded data removed]",
      "text/plain": [
       "<IPython.core.display.Image object>"
      ]
     },
     "metadata": {
      "tags": []
     },
     "output_type": "display_data"
    },
    {
     "data": {
      "image/png": "[encoded data removed]",
      "text/plain": [
       "<IPython.core.display.Image object>"
      ]
     },
     "metadata": {
      "tags": []
     },
     "output_type": "display_data"
    },
    {
     "data": {
      "image/png": "[encoded data removed]",
      "text/plain": [
       "<IPython.core.display.Image object>"
      ]
     },
     "metadata": {
      "tags": []
     },
     "output_type": "display_data"
    }
   ],
   "source": [
    "from IPython.display import Image, display\n",
    "\n",
    "for i in range(1,15):\n",
    "  display(Image(\"generated_img_0_\"+str(i)+\"9.png\"))"
   ]
  },
  {
   "cell_type": "code",
   "execution_count": 24,
   "metadata": {
    "colab": {
     "base_uri": "https://localhost:8080/",
     "height": 45
    },
    "id": "aGPzZXYZHY7Z",
    "outputId": "97bab913-4d01-42dd-a210-d03c98ec909e"
   },
   "outputs": [
    {
     "data": {
      "image/png": "[encoded data removed]",
      "text/plain": [
       "<IPython.core.display.Image object>"
      ]
     },
     "metadata": {
      "tags": []
     },
     "output_type": "display_data"
    }
   ],
   "source": [
    "i = 10\n",
    "display(Image(\"generated_img_0_\"+str(i)+\"8.png\"))\n",
    "#display(Image(\"generated_img_1_'+str(i)+'8.png\"))\n",
    "#display(Image(\"generated_img_2_'+str(i)+'8.png\"))"
   ]
  },
  {
   "cell_type": "code",
   "execution_count": null,
   "metadata": {
    "id": "idate_fObUtI"
   },
   "outputs": [],
   "source": [
    "gan.fit(\n",
    "    dataset, epochs=epochs, callbacks=[GANMonitor(num_img=3, latent_dim=latent_dim)]\n",
    ")"
   ]
  },
  {
   "cell_type": "code",
   "execution_count": null,
   "metadata": {
    "id": "B-o1cIfLhXhq"
   },
   "outputs": [],
   "source": []
  }
 ],
 "metadata": {
  "accelerator": "GPU",
  "colab": {
   "collapsed_sections": [],
   "name": "gan.ipynb",
   "provenance": []
  },
  "kernelspec": {
   "display_name": "Python 3 (ipykernel)",
   "language": "python",
   "name": "python3"
  },
  "language_info": {
   "codemirror_mode": {
    "name": "ipython",
    "version": 3
   },
   "file_extension": ".py",
   "mimetype": "text/x-python",
   "name": "python",
   "nbconvert_exporter": "python",
   "pygments_lexer": "ipython3",
   "version": "3.9.5"
  }
 },
 "nbformat": 4,
 "nbformat_minor": 4
}
